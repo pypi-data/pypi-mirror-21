{
 "cells": [
  {
   "cell_type": "markdown",
   "metadata": {},
   "source": [
    "`mdconvert` uses a notebook's metadata to configure `nbconvert` actions."
   ]
  },
  {
   "cell_type": "markdown",
   "metadata": {},
   "source": [
    "# Usage\n",
    "\n",
    "(Edit > Edit Notebook Metadata) and add a `nbconvert` key a notebook's `metadata`; the `value` is a list of lists - the `export_format` & an object with [`configurables`](http://nbconvert.readthedocs.io/en/latest/config_options.html), respectively."
   ]
  },
  {
   "cell_type": "markdown",
   "metadata": {},
   "source": [
    "> Edit the `metadata` with a cell magic."
   ]
  },
  {
   "cell_type": "code",
   "execution_count": 1,
   "metadata": {
    "collapsed": false
   },
   "outputs": [],
   "source": [
    "%reload_ext mdconvert"
   ]
  },
  {
   "cell_type": "code",
   "execution_count": 2,
   "metadata": {
    "collapsed": false
   },
   "outputs": [
    {
     "data": {
      "application/javascript": [
       "var update = {\"nbconvert\": [[\"markdown\", {}]]};\n",
       "Object.keys(update).forEach(\n",
       "    function (key){\n",
       "        var value = update[key];\n",
       "        if (value){\n",
       "            Jupyter.notebook.metadata[key] = value\n",
       "        } else {\n",
       "            delete Jupyter.notebook.metadata[key];\n",
       "        };\n",
       "    });"
      ],
      "text/plain": [
       "<IPython.core.display.Javascript object>"
      ]
     },
     "metadata": {},
     "output_type": "display_data"
    }
   ],
   "source": [
    "%%metadata\n",
    "nbconvert:\n",
    "    - [markdown, {}]"
   ]
  },
  {
   "cell_type": "code",
   "execution_count": 3,
   "metadata": {
    "collapsed": false
   },
   "outputs": [
    {
     "name": "stdout",
     "output_type": "stream",
     "text": [
      "[NbConvertApp] Converting notebook README.ipynb to html\r\n",
      "[MDConvertApp] Writing 1288 bytes to README.md\r\n",
      "[NbConvertApp] Conversions completed in 0.10619997978210449 seconds.\r\n"
     ]
    }
   ],
   "source": [
    "!jupyter mdconvert README.ipynb"
   ]
  },
  {
   "cell_type": "markdown",
   "metadata": {
    "collapsed": true
   },
   "source": [
    "## `PostSaveContentsManager`\n",
    "\n",
    "Have `mdconvert` create derived notebooks each time a notebook is saved.\n",
    "\n",
    "        jupyter notebook --NotebookApp.contents_manager_class=mdconvert.PostSaveContentsManager\n",
    "        \n",
    "__or__ _install `mdconvert` as an extension_\n",
    "        \n",
    "        jupyter serverextension enable --py mdconvert"
   ]
  },
  {
   "cell_type": "markdown",
   "metadata": {},
   "source": [
    "## Executing notebooks"
   ]
  },
  {
   "cell_type": "code",
   "execution_count": 4,
   "metadata": {
    "collapsed": false
   },
   "outputs": [
    {
     "name": "stdout",
     "output_type": "stream",
     "text": [
      "[MDConvertApp] Executing notebook with kernel: root\n",
      "[NbConvertApp] Converting notebook README.ipynb to html\n",
      "[MDConvertApp] Writing 1257 bytes to README.md\n",
      "[NbConvertApp] Conversions completed in 3.65071702003479 seconds.\n"
     ]
    }
   ],
   "source": [
    "# !jupyter mdconvert README.ipynb --execute"
   ]
  },
  {
   "cell_type": "markdown",
   "metadata": {},
   "source": [
    "## Executing with a different kernel"
   ]
  },
  {
   "cell_type": "code",
   "execution_count": 5,
   "metadata": {
    "collapsed": false
   },
   "outputs": [
    {
     "name": "stdout",
     "output_type": "stream",
     "text": [
      "[MDConvertApp] Executing notebook with kernel: py36\n",
      "[NbConvertApp] Converting notebook README.ipynb to html\n",
      "[MDConvertApp] Writing 1530 bytes to README.md\n",
      "[NbConvertApp] Conversions completed in 3.655313014984131 seconds.\n"
     ]
    }
   ],
   "source": [
    "# !jupyter mdconvert README.ipynb --execute --ExecutePreprocessor.kernel_name=py36"
   ]
  },
  {
   "cell_type": "code",
   "execution_count": 6,
   "metadata": {
    "collapsed": false
   },
   "outputs": [
    {
     "data": {
      "text/plain": [
       "'0.1.0'"
      ]
     },
     "execution_count": 6,
     "metadata": {},
     "output_type": "execute_result"
    }
   ],
   "source": [
    "import mdconvert\n",
    "mdconvert.__version__"
   ]
  }
 ],
 "metadata": {
  "anaconda-cloud": {},
  "kernelspec": {
   "display_name": "root",
   "language": "python",
   "name": "root"
  },
  "language_info": {
   "codemirror_mode": {
    "name": "ipython",
    "version": 3
   },
   "file_extension": ".py",
   "mimetype": "text/x-python",
   "name": "python",
   "nbconvert_exporter": "python",
   "pygments_lexer": "ipython3",
   "version": "3.5.2"
  },
  "nbconvert": [
   [
    "markdown",
    {}
   ]
  ]
 },
 "nbformat": 4,
 "nbformat_minor": 2
}
