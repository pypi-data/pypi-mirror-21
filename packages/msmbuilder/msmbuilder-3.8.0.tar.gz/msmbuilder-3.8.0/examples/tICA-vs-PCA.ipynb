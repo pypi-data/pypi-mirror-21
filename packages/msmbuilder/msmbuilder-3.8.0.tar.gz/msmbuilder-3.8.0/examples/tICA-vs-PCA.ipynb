{
 "cells": [
  {
   "cell_type": "markdown",
   "metadata": {},
   "source": [
    "# tICA vs. PCA\n",
    "This example uses OpenMM to generate example data to compare two methods for dimensionality reduction:\n",
    "tICA and PCA. "
   ]
  },
  {
   "cell_type": "markdown",
   "metadata": {},
   "source": [
    "### Define dynamics\n",
    "First, let's use OpenMM to run some dynamics on the 3D potential energy function \n",
    "\n",
    "$$E(x,y,z) = 5 \\cdot (x-1)^2 \\cdot (x+1)^2 + y^2 + z^2$$\n",
    "\n",
    "From looking at this equation, we can see that along the `x` dimension,\n",
    "the potential is a double-well, whereas along the `y` and `z` dimensions,\n",
    "we've just got a harmonic potential. So, we should expect that `x` is the slow\n",
    "degree of freedom, whereas the system should equilibrate rapidly along `y` and `z`."
   ]
  },
  {
   "cell_type": "code",
   "execution_count": null,
   "metadata": {
    "collapsed": false
   },
   "outputs": [],
   "source": [
    "%matplotlib inline\n",
    "import numpy as np\n",
    "from matplotlib import pyplot as plt\n",
    "\n",
    "xx, yy = np.meshgrid(np.linspace(-2,2), np.linspace(-3,3))\n",
    "zz = 0 # We can only visualize so many dimensions\n",
    "ww = 5 * (xx-1)**2 * (xx+1)**2 + yy**2 + zz**2\n",
    "c = plt.contourf(xx, yy, ww, np.linspace(-1, 15, 20), cmap='viridis_r')\n",
    "plt.contour(xx, yy, ww, np.linspace(-1, 15, 20), cmap='Greys')\n",
    "plt.xlabel('$x$', fontsize=18)\n",
    "plt.ylabel('$y$', fontsize=18)\n",
    "plt.colorbar(c, label='$E(x, y, z=0)$')\n",
    "plt.tight_layout()"
   ]
  },
  {
   "cell_type": "code",
   "execution_count": null,
   "metadata": {
    "collapsed": false
   },
   "outputs": [],
   "source": [
    "import simtk.openmm as mm\n",
    "def propagate(n_steps=10000):\n",
    "    system = mm.System()\n",
    "    system.addParticle(1)\n",
    "    force = mm.CustomExternalForce('5*(x-1)^2*(x+1)^2 + y^2 + z^2')\n",
    "    force.addParticle(0, [])\n",
    "    system.addForce(force)\n",
    "    integrator = mm.LangevinIntegrator(500, 1, 0.02)\n",
    "    context = mm.Context(system, integrator)\n",
    "    context.setPositions([[0, 0, 0]])\n",
    "    context.setVelocitiesToTemperature(500)\n",
    "    x = np.zeros((n_steps, 3))\n",
    "    for i in range(n_steps):\n",
    "        x[i] = (context.getState(getPositions=True)\n",
    "                .getPositions(asNumpy=True)\n",
    "                ._value)\n",
    "        integrator.step(1)\n",
    "    return x"
   ]
  },
  {
   "cell_type": "markdown",
   "metadata": {},
   "source": [
    "### Run Dynamics\n",
    "Okay, let's run the dynamics. The first plot below shows the `x`, `y` and `z` coordinate vs. time for the trajectory, and\n",
    "the second plot shows each of the 1D and 2D marginal distributions."
   ]
  },
  {
   "cell_type": "code",
   "execution_count": null,
   "metadata": {
    "collapsed": false
   },
   "outputs": [],
   "source": [
    "trajectory = propagate(10000)\n",
    "\n",
    "ylabels = ['x', 'y', 'z']\n",
    "for i in range(3):\n",
    "    plt.subplot(3, 1, i+1)\n",
    "    plt.plot(trajectory[:, i])\n",
    "    plt.ylabel(ylabels[i])\n",
    "plt.xlabel('Simulation time')\n",
    "plt.tight_layout()"
   ]
  },
  {
   "cell_type": "markdown",
   "metadata": {},
   "source": [
    "Note that the variance of `x` is much lower than the variance in `y` or `z`, despite its bi-modal distribution."
   ]
  },
  {
   "cell_type": "markdown",
   "metadata": {},
   "source": [
    "### Fit tICA and PCA models"
   ]
  },
  {
   "cell_type": "code",
   "execution_count": null,
   "metadata": {
    "collapsed": false
   },
   "outputs": [],
   "source": [
    "from msmbuilder.decomposition import tICA, PCA\n",
    "tica = tICA(n_components=1, lag_time=100)\n",
    "pca = PCA(n_components=1)\n",
    "tica.fit([trajectory])\n",
    "pca.fit([trajectory])"
   ]
  },
  {
   "cell_type": "markdown",
   "metadata": {},
   "source": [
    "### See what they find"
   ]
  },
  {
   "cell_type": "code",
   "execution_count": null,
   "metadata": {
    "collapsed": false
   },
   "outputs": [],
   "source": [
    "plt.subplot(1,2,1)\n",
    "plt.title('1st tIC')\n",
    "plt.bar([1,2,3], tica.components_[0], color='b')\n",
    "plt.xticks([1.5,2.5,3.5], ['x', 'y', 'z'])\n",
    "plt.subplot(1,2,2)\n",
    "plt.title('1st PC')\n",
    "plt.bar([1,2,3], pca.components_[0], color='r')\n",
    "plt.xticks([1.5,2.5,3.5], ['x', 'y', 'z'])\n",
    "plt.show()\n",
    "\n",
    "print('1st tIC', tica.components_ / np.linalg.norm(tica.components_))\n",
    "print('1st PC ', pca.components_ / np.linalg.norm(pca.components_))"
   ]
  },
  {
   "cell_type": "markdown",
   "metadata": {},
   "source": [
    "Note that the first tIC \"finds\" a projection that just resolves the `x` coordinate, whereas PCA doesn't."
   ]
  },
  {
   "cell_type": "code",
   "execution_count": null,
   "metadata": {
    "collapsed": false
   },
   "outputs": [],
   "source": [
    "c = plt.contourf(xx, yy, ww, np.linspace(-1, 15, 20), cmap='viridis_r')\n",
    "plt.contour(xx, yy, ww, np.linspace(-1, 15, 20), cmap='Greys')\n",
    "\n",
    "plt.plot([0, tica.components_[0, 0]],\n",
    "         [0, tica.components_[0, 1]],\n",
    "         lw=5, color='b', label='tICA')\n",
    "\n",
    "plt.plot([0, pca.components_[0, 0]],\n",
    "         [0, pca.components_[0, 1]],\n",
    "         lw=5, color='r', label='PCA')\n",
    "\n",
    "plt.xlabel('$x$', fontsize=18)\n",
    "plt.ylabel('$y$', fontsize=18)\n",
    "plt.legend(loc='best')\n",
    "plt.tight_layout()"
   ]
  }
 ],
 "metadata": {
  "anaconda-cloud": {},
  "kernelspec": {
   "display_name": "Python [default]",
   "language": "python",
   "name": "python3"
  },
  "language_info": {
   "codemirror_mode": {
    "name": "ipython",
    "version": 3
   },
   "file_extension": ".py",
   "mimetype": "text/x-python",
   "name": "python",
   "nbconvert_exporter": "python",
   "pygments_lexer": "ipython3",
   "version": "3.5.2"
  }
 },
 "nbformat": 4,
 "nbformat_minor": 0
}
