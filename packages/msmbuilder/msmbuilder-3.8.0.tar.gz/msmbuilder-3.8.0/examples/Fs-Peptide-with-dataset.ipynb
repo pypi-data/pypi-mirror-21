{
 "cells": [
  {
   "cell_type": "markdown",
   "metadata": {},
   "source": [
    "# Modeling dynamics of FS Peptide\n",
    "This example shows a typical, basic usage of MSMBuilder to model dynamics of a protein system. "
   ]
  },
  {
   "cell_type": "markdown",
   "metadata": {},
   "source": [
    "### MSMBuilder includes example datasets\n",
    "The following cell downloads an example protein dataset or uses the data provided by the `msmb_data` conda package. In practice, you will generate your own dataset by running molecular dynamics (MD) on your system of interest. MSMBuilder does not run MD."
   ]
  },
  {
   "cell_type": "code",
   "execution_count": null,
   "metadata": {
    "collapsed": false
   },
   "outputs": [],
   "source": [
    "# Download example dataset\n",
    "from msmbuilder.example_datasets import FsPeptide\n",
    "fs_peptide = FsPeptide(verbose=False)\n",
    "fs_peptide.cache()"
   ]
  },
  {
   "cell_type": "code",
   "execution_count": null,
   "metadata": {
    "collapsed": true
   },
   "outputs": [],
   "source": [
    "# Work in a temporary directory\n",
    "import tempfile\n",
    "import os\n",
    "os.chdir(tempfile.mkdtemp())"
   ]
  },
  {
   "cell_type": "markdown",
   "metadata": {},
   "source": [
    "### The `dataset` object\n",
    "MD datasets are usually quite large. It doesn't make sense to load everything into memory at once. The `dataset` object lazily-loads trajectories as they are needed. Below, we create a dataset out of the 28 `*.xtc` files we downloaded above. Since the data was saved at 50 ps / frame, we only load every 10th frame (with a new frequency of 0.5/ns)."
   ]
  },
  {
   "cell_type": "code",
   "execution_count": null,
   "metadata": {
    "collapsed": false
   },
   "outputs": [],
   "source": [
    "from msmbuilder.dataset import dataset\n",
    "xyz = dataset(fs_peptide.data_dir + \"/*.xtc\",\n",
    "              topology=fs_peptide.data_dir + '/fs-peptide.pdb',\n",
    "              stride=10)\n",
    "print(\"{} trajectories\".format(len(xyz)))\n",
    "# msmbuilder does not keep track of units! You must keep track of your\n",
    "# data's timestep\n",
    "to_ns = 0.5\n",
    "print(\"with length {} ns\".format(set(len(x)*to_ns for x in xyz)))"
   ]
  },
  {
   "cell_type": "markdown",
   "metadata": {},
   "source": [
    "### Featurization\n",
    "The raw `(x, y, z)` coordinates from the simulation do not respect the translational and rotational symmetry of our problem. A `Featurizer` transforms cartesian coordinates into other representations. Here we use the `DihedralFeaturizer` to turn our data into phi and psi dihedral angles. Observe that the `264*3`-dimensional space is reduced to 84 dimensions"
   ]
  },
  {
   "cell_type": "code",
   "execution_count": null,
   "metadata": {
    "collapsed": false
   },
   "outputs": [],
   "source": [
    "from msmbuilder.featurizer import DihedralFeaturizer\n",
    "featurizer = DihedralFeaturizer(types=['phi', 'psi'])\n",
    "diheds = xyz.fit_transform_with(featurizer, 'diheds/', fmt='dir-npy')\n",
    "\n",
    "print(xyz[0].xyz.shape)\n",
    "print(diheds[0].shape)"
   ]
  },
  {
   "cell_type": "markdown",
   "metadata": {},
   "source": [
    "### Preprocessing\n",
    "Since the range of values in our raw data can vary widely from feature to feature, we can scale values to reduce bias. Here we use the `RobustScaler` to center and scale our dihedral angles by their respective interquartile ranges."
   ]
  },
  {
   "cell_type": "code",
   "execution_count": null,
   "metadata": {
    "collapsed": true
   },
   "outputs": [],
   "source": [
    "from msmbuilder.preprocessing import RobustScaler\n",
    "scaler = RobustScaler()\n",
    "scaled_diheds = diheds.fit_transform_with(scaler, 'scaled_diheds/', fmt='dir-npy')\n",
    "\n",
    "print(diheds[0].shape)\n",
    "print(scaled_diheds[0].shape)"
   ]
  },
  {
   "cell_type": "markdown",
   "metadata": {},
   "source": [
    "### Intermediate kinetic model: tICA\n",
    "`tICA` is similar to principal component analysis (see \"tICA vs. PCA\" example). Note that the 84-dimensional space is reduced to 4 dimensions."
   ]
  },
  {
   "cell_type": "code",
   "execution_count": null,
   "metadata": {
    "collapsed": false
   },
   "outputs": [],
   "source": [
    "from msmbuilder.decomposition import tICA\n",
    "tica_model = tICA(lag_time=2, n_components=4)\n",
    "# fit and transform can be done in seperate steps:\n",
    "tica_model = scaled_diheds.fit_with(tica_model)\n",
    "tica_trajs = scaled_diheds.transform_with(tica_model, 'ticas/', fmt='dir-npy')\n",
    "\n",
    "print(diheds[0].shape)\n",
    "print(tica_trajs[0].shape)"
   ]
  },
  {
   "cell_type": "markdown",
   "metadata": {},
   "source": [
    "### tICA Histogram\n",
    "We can histogram our data projecting along the two slowest degrees of freedom (as found by tICA)"
   ]
  },
  {
   "cell_type": "code",
   "execution_count": null,
   "metadata": {
    "collapsed": false
   },
   "outputs": [],
   "source": [
    "%matplotlib inline\n",
    "import msmexplorer as msme\n",
    "import numpy as np\n",
    "txx = np.concatenate(tica_trajs)\n",
    "_ = msme.plot_histogram(txx)"
   ]
  },
  {
   "cell_type": "markdown",
   "metadata": {},
   "source": [
    "### Clustering\n",
    "Conformations need to be clustered into states (sometimes written as microstates). We cluster based on the tICA projections to group conformations that interconvert rapidly. Note that we transform our trajectories from the 4-dimensional tICA space into a 1-dimensional cluster index."
   ]
  },
  {
   "cell_type": "code",
   "execution_count": null,
   "metadata": {
    "collapsed": false
   },
   "outputs": [],
   "source": [
    "from msmbuilder.cluster import MiniBatchKMeans\n",
    "clusterer = MiniBatchKMeans(n_clusters=100, random_state=42)\n",
    "clustered_trajs = tica_trajs.fit_transform_with(\n",
    "    clusterer, 'kmeans/', fmt='dir-npy'\n",
    ")\n",
    "\n",
    "print(tica_trajs[0].shape)\n",
    "print(clustered_trajs[0].shape)"
   ]
  },
  {
   "cell_type": "code",
   "execution_count": null,
   "metadata": {
    "collapsed": false
   },
   "outputs": [],
   "source": [
    "from matplotlib import pyplot as plt\n",
    "plt.hexbin(txx[:,0], txx[:,1], bins='log', mincnt=1, cmap='viridis')\n",
    "plt.scatter(clusterer.cluster_centers_[:,0],\n",
    "            clusterer.cluster_centers_[:,1], \n",
    "            s=100, c='w')"
   ]
  },
  {
   "cell_type": "markdown",
   "metadata": {},
   "source": [
    "### MSM\n",
    "We can construct an MSM from the labeled trajectories"
   ]
  },
  {
   "cell_type": "code",
   "execution_count": null,
   "metadata": {
    "collapsed": false
   },
   "outputs": [],
   "source": [
    "from msmbuilder.msm import MarkovStateModel\n",
    "from msmbuilder.utils import dump\n",
    "msm = MarkovStateModel(lag_time=2, n_timescales=20)\n",
    "msm.fit(clustered_trajs)"
   ]
  },
  {
   "cell_type": "code",
   "execution_count": null,
   "metadata": {
    "collapsed": false
   },
   "outputs": [],
   "source": [
    "assignments = clusterer.partial_transform(txx)\n",
    "assignments = msm.partial_transform(assignments)\n",
    "msme.plot_free_energy(txx, obs=(0, 1), n_samples=10000,\n",
    "                      pi=msm.populations_[assignments],\n",
    "                      xlabel='tIC 1', ylabel='tIC 2')\n",
    "plt.scatter(clusterer.cluster_centers_[msm.state_labels_, 0],\n",
    "            clusterer.cluster_centers_[msm.state_labels_, 1],\n",
    "            s=1e4 * msm.populations_,       # size by population\n",
    "            c=msm.left_eigenvectors_[:, 1], # color by eigenvector\n",
    "            cmap=\"coolwarm\",\n",
    "            zorder=3) \n",
    "plt.colorbar(label='First dynamical eigenvector')\n",
    "plt.tight_layout()"
   ]
  },
  {
   "cell_type": "code",
   "execution_count": null,
   "metadata": {
    "collapsed": false
   },
   "outputs": [],
   "source": [
    "msm.timescales_"
   ]
  },
  {
   "cell_type": "code",
   "execution_count": null,
   "metadata": {
    "collapsed": false
   },
   "outputs": [],
   "source": [
    "msme.plot_timescales(msm, n_timescales=5,\n",
    "                     ylabel='Implied Timescales ($ns$)')"
   ]
  },
  {
   "cell_type": "markdown",
   "metadata": {},
   "source": [
    "## Macrostate Model"
   ]
  },
  {
   "cell_type": "code",
   "execution_count": null,
   "metadata": {
    "collapsed": false
   },
   "outputs": [],
   "source": [
    "from msmbuilder.lumping import PCCAPlus\n",
    "pcca = PCCAPlus.from_msm(msm, n_macrostates=4)\n",
    "macro_trajs = pcca.transform(clustered_trajs)"
   ]
  },
  {
   "cell_type": "code",
   "execution_count": null,
   "metadata": {
    "collapsed": false
   },
   "outputs": [],
   "source": [
    "msme.plot_free_energy(txx, obs=(0, 1), n_samples=10000,\n",
    "                      pi=msm.populations_[assignments],\n",
    "                      xlabel='tIC 1', ylabel='tIC 2')\n",
    "plt.scatter(clusterer.cluster_centers_[msm.state_labels_, 0],\n",
    "            clusterer.cluster_centers_[msm.state_labels_, 1],\n",
    "            s=50,\n",
    "            c=pcca.microstate_mapping_,\n",
    "            zorder=3\n",
    "           )\n",
    "plt.tight_layout()"
   ]
  }
 ],
 "metadata": {
  "anaconda-cloud": {},
  "kernelspec": {
   "display_name": "Python [default]",
   "language": "python",
   "name": "python3"
  },
  "language_info": {
   "codemirror_mode": {
    "name": "ipython",
    "version": 3
   },
   "file_extension": ".py",
   "mimetype": "text/x-python",
   "name": "python",
   "nbconvert_exporter": "python",
   "pygments_lexer": "ipython3",
   "version": "3.5.2"
  }
 },
 "nbformat": 4,
 "nbformat_minor": 0
}
