{
 "cells": [
  {
   "cell_type": "markdown",
   "metadata": {},
   "source": [
    "# Ward Clustering\n",
    "We fit some random points to 2 clusters using the Ward metric and then predict their cluster assignments using the new prediction function. Due to the cardinality dependence of the Ward objective function, data points at the edges of clusters may be assigned to different clusters than the ones to which they were fit."
   ]
  },
  {
   "cell_type": "markdown",
   "metadata": {},
   "source": [
    "### Generate some random data"
   ]
  },
  {
   "cell_type": "code",
   "execution_count": null,
   "metadata": {
    "collapsed": false
   },
   "outputs": [],
   "source": [
    "%matplotlib inline\n",
    "from matplotlib import pyplot as plt\n",
    "import numpy as np\n",
    "xy1 = np.random.randn(50,2)\n",
    "xy2 = np.random.randn(50,2)+1\n",
    "xy = np.concatenate([xy1,xy2])\n",
    "plt.scatter(xy[:,0], xy[:,1])\n",
    "plt.tight_layout()"
   ]
  },
  {
   "cell_type": "markdown",
   "metadata": {},
   "source": [
    "### Cluster with Ward clustering"
   ]
  },
  {
   "cell_type": "code",
   "execution_count": null,
   "metadata": {
    "collapsed": true
   },
   "outputs": [],
   "source": [
    "from msmbuilder.cluster import LandmarkAgglomerative\n",
    "clusterer = LandmarkAgglomerative(\n",
    "    n_clusters=2, n_landmarks=None,\n",
    "    linkage='ward', metric='euclidean')\n",
    "clusterer.fit([xy])\n",
    "fit_assignments = clusterer.landmark_labels_\n",
    "predict_assignments = clusterer.predict([xy])[0]"
   ]
  },
  {
   "cell_type": "markdown",
   "metadata": {},
   "source": [
    "### Investigate fit/predict fidelity"
   ]
  },
  {
   "cell_type": "code",
   "execution_count": null,
   "metadata": {
    "collapsed": false
   },
   "outputs": [],
   "source": [
    "count = np.sum(fit_assignments == predict_assignments)\n",
    "print(\"Prediction maintains {}% fidelity to fit assignments.\"\n",
    "      .format(100*count/(xy.shape[0])))"
   ]
  },
  {
   "cell_type": "code",
   "execution_count": null,
   "metadata": {
    "collapsed": false
   },
   "outputs": [],
   "source": [
    "discrep_list = np.where(fit_assignments != predict_assignments)[0]\n",
    "discrep_list"
   ]
  },
  {
   "cell_type": "markdown",
   "metadata": {},
   "source": [
    "### Group fit and predict points by cluster assignments"
   ]
  },
  {
   "cell_type": "code",
   "execution_count": null,
   "metadata": {
    "collapsed": true
   },
   "outputs": [],
   "source": [
    "fit_0 = xy[fit_assignments == 0]\n",
    "fit_1 = xy[fit_assignments == 1]\n",
    "\n",
    "pred_0 = xy[predict_assignments == 0]\n",
    "pred_1 = xy[predict_assignments == 1]\n",
    "\n",
    "c_fit_list = fit_assignments[discrep_list]\n",
    "c_pred_list = predict_assignments[discrep_list]"
   ]
  },
  {
   "cell_type": "markdown",
   "metadata": {},
   "source": [
    "### Visualize clustering results\n",
    "Highlight discrepancies between fit and predict"
   ]
  },
  {
   "cell_type": "code",
   "execution_count": null,
   "metadata": {
    "collapsed": false
   },
   "outputs": [],
   "source": [
    "fig = plt.figure(figsize=(10,5))\n",
    "\n",
    "ax1 = plt.subplot(1,2,1)\n",
    "plt.title('Fit assignments',fontsize=18)\n",
    "plt.scatter(fit_0[:,0],fit_0[:,1],c='b',s=40)\n",
    "plt.scatter(fit_1[:,0],fit_1[:,1],c='r',s=40)\n",
    "\n",
    "xy_star = xy[discrep_list[c_fit_list==0]]\n",
    "plt.scatter(xy_star[:,0], xy_star[:,1], c='b', s=300, marker='*')\n",
    "xy_star = xy[discrep_list[c_fit_list==1]]\n",
    "plt.scatter(xy_star[:,0], xy_star[:,1], c='r', s=300, marker='*')\n",
    "\n",
    "plt.subplot(1,2,2, sharex=ax1, sharey=ax1)\n",
    "plt.title('Predicted assignments',fontsize=18)\n",
    "plt.scatter(pred_0[:,0],pred_0[:,1],c='b',s=40)\n",
    "plt.scatter(pred_1[:,0],pred_1[:,1],c='r',s=40)\n",
    "\n",
    "xy_star = xy[discrep_list[c_pred_list==0]]\n",
    "plt.scatter(xy_star[:,0], xy_star[:,1], c='b', s=300, marker='*')\n",
    "xy_star = xy[discrep_list[c_pred_list==1]]\n",
    "plt.scatter(xy_star[:,0], xy_star[:,1], c='r', s=300, marker='*')\n",
    "\n",
    "plt.tight_layout()"
   ]
  }
 ],
 "metadata": {
  "kernelspec": {
   "display_name": "Python 3",
   "language": "python",
   "name": "python3"
  },
  "language_info": {
   "codemirror_mode": {
    "name": "ipython",
    "version": 3
   },
   "file_extension": ".py",
   "mimetype": "text/x-python",
   "name": "python",
   "nbconvert_exporter": "python",
   "pygments_lexer": "ipython3",
   "version": "3.5.1"
  }
 },
 "nbformat": 4,
 "nbformat_minor": 0
}
