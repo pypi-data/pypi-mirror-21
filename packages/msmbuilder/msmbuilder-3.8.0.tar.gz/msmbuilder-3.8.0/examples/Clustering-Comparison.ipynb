{
 "cells": [
  {
   "cell_type": "markdown",
   "metadata": {},
   "source": [
    "# Clustering comparison"
   ]
  },
  {
   "cell_type": "markdown",
   "metadata": {},
   "source": [
    "### Generate datasets\n",
    "We choose the size big enough to see the scalability of the algorithms, but we don't want the example to take too long."
   ]
  },
  {
   "cell_type": "code",
   "execution_count": null,
   "metadata": {
    "collapsed": true
   },
   "outputs": [],
   "source": [
    "import numpy as np\n",
    "from sklearn import datasets\n",
    "from collections import OrderedDict\n",
    "\n",
    "np.random.seed(0)\n",
    "n_samples = 2500\n",
    "ds = OrderedDict()"
   ]
  },
  {
   "cell_type": "code",
   "execution_count": null,
   "metadata": {
    "collapsed": true
   },
   "outputs": [],
   "source": [
    "ds['noisy_circles'] = datasets.make_circles(\n",
    "    n_samples=n_samples, factor=.5, noise=.05)"
   ]
  },
  {
   "cell_type": "code",
   "execution_count": null,
   "metadata": {
    "collapsed": true
   },
   "outputs": [],
   "source": [
    "ds['noisy_moons'] = datasets.make_moons(\n",
    "    n_samples=n_samples, noise=.05)"
   ]
  },
  {
   "cell_type": "code",
   "execution_count": null,
   "metadata": {
    "collapsed": true
   },
   "outputs": [],
   "source": [
    "ds['blobs'] = np.concatenate([\n",
    "    np.array([[0,-1]]) + 0.5 * np.random.randn(n_samples//3, 2),\n",
    "    np.array([[5, 0]]) + 0.1 * np.random.randn(n_samples//3, 2),\n",
    "    np.array([[0, 5]]) + 2.0 * np.random.randn(n_samples//3, 2),\n",
    "]), None"
   ]
  },
  {
   "cell_type": "code",
   "execution_count": null,
   "metadata": {
    "collapsed": true
   },
   "outputs": [],
   "source": [
    "ds['no_structure'] = np.random.rand(n_samples, 2), None"
   ]
  },
  {
   "cell_type": "code",
   "execution_count": null,
   "metadata": {
    "collapsed": false
   },
   "outputs": [],
   "source": [
    "# Scale the example data\n",
    "from sklearn.preprocessing import StandardScaler\n",
    "ds = OrderedDict((name, StandardScaler().fit_transform(X))\n",
    "                 for name, (X, y) in ds.items())"
   ]
  },
  {
   "cell_type": "markdown",
   "metadata": {},
   "source": [
    "### Enumerate clustering choices"
   ]
  },
  {
   "cell_type": "code",
   "execution_count": null,
   "metadata": {
    "collapsed": false
   },
   "outputs": [],
   "source": [
    "from msmbuilder import cluster\n",
    "algos = [\n",
    "    (cluster.KCenters, 3),\n",
    "    (cluster.RegularSpatial, 2),\n",
    "    (cluster.KMeans, 3),\n",
    "    (cluster.MiniBatchKMeans, 3),\n",
    "    (cluster.KMedoids, 3),\n",
    "    (cluster.MiniBatchKMedoids, 3),\n",
    "]"
   ]
  },
  {
   "cell_type": "markdown",
   "metadata": {},
   "source": [
    "### Perform clustering"
   ]
  },
  {
   "cell_type": "code",
   "execution_count": null,
   "metadata": {
    "collapsed": false
   },
   "outputs": [],
   "source": [
    "import time\n",
    "\n",
    "results = {}\n",
    "for ds_name, X in ds.items():    \n",
    "    for algo, param in algos:\n",
    "        algorithm = algo(param)\n",
    "        t0 = time.time()\n",
    "        algorithm.fit([X])\n",
    "        t1 = time.time()\n",
    "        \n",
    "        if hasattr(algorithm, 'labels_'):\n",
    "            y_pred = algorithm.labels_[0].astype(np.int)\n",
    "        else:\n",
    "            y_pred = algorithm.transform([X])[0]\n",
    "            \n",
    "        if hasattr(algorithm, 'cluster_centers_'):\n",
    "            centers = algorithm.cluster_centers_\n",
    "        else:\n",
    "            centers = []\n",
    "            \n",
    "        results[ds_name, algo.__name__] = (t1-t0, y_pred, centers) "
   ]
  },
  {
   "cell_type": "markdown",
   "metadata": {},
   "source": [
    "### Plot"
   ]
  },
  {
   "cell_type": "code",
   "execution_count": null,
   "metadata": {
    "collapsed": false
   },
   "outputs": [],
   "source": [
    "%matplotlib inline\n",
    "import matplotlib.pyplot as plt\n",
    "\n",
    "colors = np.array([x for x in 'bgrcmykbgrcmykbgrcmykbgrcmyk'])\n",
    "colors = np.hstack([colors] * 20)\n",
    "plt.figure(figsize=(14.5, 9.5))\n",
    "plot_num = 1\n",
    "titles = True\n",
    "for ds_name, X in ds.items():\n",
    "    for algo, param in algos:\n",
    "        t, y_pred, centers = results[ds_name, algo.__name__]        \n",
    "        plt.subplot(4, 6, plot_num)        \n",
    "        if titles:\n",
    "            plt.title(algo.__name__, size=18)\n",
    "        plt.scatter(X[:, 0], X[:, 1], color=colors[y_pred].tolist(), s=6)\n",
    "        center_colors = colors[:len(centers)]\n",
    "        plt.scatter(centers[:, 0], centers[:, 1], s=100, c=center_colors)\n",
    "        plt.xlim(-2, 2)\n",
    "        plt.ylim(-2, 2)\n",
    "        plt.xticks(())\n",
    "        plt.yticks(())\n",
    "        plt.text(.99, .01, '{:.2f}s'.format(t),\n",
    "                 transform=plt.gca().transAxes, size=20,\n",
    "                 horizontalalignment='right')\n",
    "        plot_num += 1\n",
    "    titles = False\n",
    "plt.tight_layout()"
   ]
  }
 ],
 "metadata": {
  "kernelspec": {
   "display_name": "Python 3",
   "language": "python",
   "name": "python3"
  },
  "language_info": {
   "codemirror_mode": {
    "name": "ipython",
    "version": 3
   },
   "file_extension": ".py",
   "mimetype": "text/x-python",
   "name": "python",
   "nbconvert_exporter": "python",
   "pygments_lexer": "ipython3",
   "version": "3.5.1"
  }
 },
 "nbformat": 4,
 "nbformat_minor": 0
}
