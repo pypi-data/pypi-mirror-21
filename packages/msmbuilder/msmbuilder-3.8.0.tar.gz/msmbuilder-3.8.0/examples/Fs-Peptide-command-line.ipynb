{
 "cells": [
  {
   "cell_type": "markdown",
   "metadata": {},
   "source": [
    "# Modeling dynamics of FS Peptide\n",
    "This example shows a typical, basic usage of the MSMBuilder command line to model dynamics of a protein system. "
   ]
  },
  {
   "cell_type": "code",
   "execution_count": null,
   "metadata": {
    "collapsed": true
   },
   "outputs": [],
   "source": [
    "# Work in a temporary directory\n",
    "import tempfile\n",
    "import os\n",
    "os.chdir(tempfile.mkdtemp())"
   ]
  },
  {
   "cell_type": "code",
   "execution_count": null,
   "metadata": {
    "collapsed": false
   },
   "outputs": [],
   "source": [
    "# Since this is running from an IPython notebook,\n",
    "# we prefix all our commands with \"!\"\n",
    "# When running on the command line, omit the leading \"!\"\n",
    "! msmb -h"
   ]
  },
  {
   "cell_type": "markdown",
   "metadata": {},
   "source": [
    "### Get example data"
   ]
  },
  {
   "cell_type": "code",
   "execution_count": null,
   "metadata": {
    "collapsed": false
   },
   "outputs": [],
   "source": [
    "! msmb FsPeptide --data_home ./\n",
    "! tree"
   ]
  },
  {
   "cell_type": "markdown",
   "metadata": {},
   "source": [
    "### Featurization\n",
    "The raw `(x, y, z)` coordinates from the simulation do not respect the translational and rotational symmetry of our problem. A `Featurizer` transforms cartesian coordinates into other representations. Here we use the `DihedralFeaturizer` to turn our data into phi and psi dihedral angles. Observe that the `264*3`-dimensional space is reduced to 84 dimensions."
   ]
  },
  {
   "cell_type": "code",
   "execution_count": null,
   "metadata": {
    "collapsed": false
   },
   "outputs": [],
   "source": [
    "# Remember '\\' is the line-continuation marker\n",
    "# You can enter this command on one line\n",
    "! msmb DihedralFeaturizer \\\n",
    "    --out featurizer.pkl  \\\n",
    "    --transformed diheds  \\\n",
    "    --top fs_peptide/fs-peptide.pdb \\\n",
    "    --trjs \"fs_peptide/*.xtc\" \\\n",
    "    --stride 10"
   ]
  },
  {
   "cell_type": "markdown",
   "metadata": {},
   "source": [
    "### Preprocessing\n",
    "Since the range of values in our raw data can vary widely from feature to feature, we can scale values to reduce bias. Here we use the `RobustScaler` to center and scale our dihedral angles by their respective interquartile ranges."
   ]
  },
  {
   "cell_type": "code",
   "execution_count": null,
   "metadata": {
    "collapsed": false
   },
   "outputs": [],
   "source": [
    "! msmb RobustScaler \\\n",
    "    -i diheds \\\n",
    "    --transformed scaled_diheds.h5"
   ]
  },
  {
   "cell_type": "markdown",
   "metadata": {},
   "source": [
    "### Intermediate kinetic model: tICA\n",
    "`tICA` is similar to principal component analysis (see \"tICA vs. PCA\" example). Note that the 84-dimensional space is reduced to 4 dimensions."
   ]
  },
  {
   "cell_type": "code",
   "execution_count": null,
   "metadata": {
    "collapsed": false
   },
   "outputs": [],
   "source": [
    "! msmb tICA -i scaled_diheds.h5 \\\n",
    "    --out tica_model.pkl \\\n",
    "    --transformed tica_trajs.h5 \\\n",
    "    --n_components 4 \\\n",
    "    --lag_time 2"
   ]
  },
  {
   "cell_type": "markdown",
   "metadata": {},
   "source": [
    "### tICA Histogram\n",
    "We can histogram our data projecting along the two slowest degrees of freedom (as found by tICA). You have to do this in a python script."
   ]
  },
  {
   "cell_type": "code",
   "execution_count": null,
   "metadata": {
    "collapsed": false
   },
   "outputs": [],
   "source": [
    "from msmbuilder.dataset import dataset\n",
    "ds = dataset('tica_trajs.h5')\n",
    "\n",
    "%matplotlib inline\n",
    "import msmexplorer as msme\n",
    "import numpy as np\n",
    "txx = np.concatenate(ds)\n",
    "_ = msme.plot_histogram(txx)"
   ]
  },
  {
   "cell_type": "markdown",
   "metadata": {},
   "source": [
    "### Clustering\n",
    "Conformations need to be clustered into states (sometimes written as microstates). We cluster based on the tICA projections to group conformations that interconvert rapidly. Note that we transform our trajectories from the 4-dimensional tICA space into a 1-dimensional cluster index."
   ]
  },
  {
   "cell_type": "code",
   "execution_count": null,
   "metadata": {
    "collapsed": false
   },
   "outputs": [],
   "source": [
    "! msmb MiniBatchKMeans -i tica_trajs.h5 \\\n",
    "    --transformed labeled_trajs.h5 \\\n",
    "    --out clusterer.pkl \\\n",
    "    --n_clusters 100 \\\n",
    "    --random_state 42"
   ]
  },
  {
   "cell_type": "markdown",
   "metadata": {},
   "source": [
    "### MSM\n",
    "We can construct an MSM from the labeled trajectories"
   ]
  },
  {
   "cell_type": "code",
   "execution_count": null,
   "metadata": {
    "collapsed": false
   },
   "outputs": [],
   "source": [
    "! msmb MarkovStateModel -i labeled_trajs.h5 \\\n",
    "    --out msm.pkl \\\n",
    "    --lag_time 2"
   ]
  },
  {
   "cell_type": "markdown",
   "metadata": {},
   "source": [
    "### Plot Free Energy Landscape\n",
    "Subsequent plotting and analysis should be done from Python"
   ]
  },
  {
   "cell_type": "code",
   "execution_count": null,
   "metadata": {
    "collapsed": false
   },
   "outputs": [],
   "source": [
    "from msmbuilder.utils import load\n",
    "msm = load('msm.pkl')\n",
    "clusterer = load('clusterer.pkl')\n",
    "\n",
    "assignments = clusterer.partial_transform(txx)\n",
    "assignments = msm.partial_transform(assignments)\n",
    "\n",
    "from matplotlib import pyplot as plt\n",
    "msme.plot_free_energy(txx, obs=(0, 1), n_samples=10000,\n",
    "                      pi=msm.populations_[assignments],\n",
    "                      xlabel='tIC 1', ylabel='tIC 2')\n",
    "plt.scatter(clusterer.cluster_centers_[msm.state_labels_, 0],\n",
    "            clusterer.cluster_centers_[msm.state_labels_, 1],\n",
    "            s=1e4 * msm.populations_,       # size by population\n",
    "            c=msm.left_eigenvectors_[:, 1], # color by eigenvector\n",
    "            cmap=\"coolwarm\",\n",
    "            zorder=3\n",
    "           ) \n",
    "plt.colorbar(label='First dynamical eigenvector')\n",
    "plt.tight_layout()"
   ]
  }
 ],
 "metadata": {
  "anaconda-cloud": {},
  "kernelspec": {
   "display_name": "Python [default]",
   "language": "python",
   "name": "python3"
  },
  "language_info": {
   "codemirror_mode": {
    "name": "ipython",
    "version": 3
   },
   "file_extension": ".py",
   "mimetype": "text/x-python",
   "name": "python",
   "nbconvert_exporter": "python",
   "pygments_lexer": "ipython3",
   "version": "3.5.2"
  }
 },
 "nbformat": 4,
 "nbformat_minor": 0
}
