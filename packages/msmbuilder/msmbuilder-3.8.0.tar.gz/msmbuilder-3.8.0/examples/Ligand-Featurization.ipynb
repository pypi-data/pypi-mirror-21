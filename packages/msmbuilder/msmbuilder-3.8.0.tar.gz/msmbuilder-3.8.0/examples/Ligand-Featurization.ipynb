{
 "cells": [
  {
   "cell_type": "markdown",
   "metadata": {},
   "source": [
    "# Featurizing Ligand-Protein trajectories\n",
    "\n",
    "Trajectories containing a protein and ligand can now be featurized in several ways. A reference frame with at least two chains, one of which is the protein and one of which is the ligand, is required for all featurizations. These chains can be manually specified by their indexes or MSMBuilder can guess which trajectory is the protein (by choosing the longest CA-containing chain) and which is the ligand (by choosing the longest chain containing up to 200 atoms; tie goes to the lower index).\n",
    "\n",
    "Here we explore Ligand-Protein contact featurizations and their binary transforms as well as RMSD calculations with customizable alignment and calcuation indices."
   ]
  },
  {
   "cell_type": "markdown",
   "metadata": {},
   "source": [
    "### Generate a toy trajectory"
   ]
  },
  {
   "cell_type": "code",
   "execution_count": null,
   "metadata": {
    "collapsed": false
   },
   "outputs": [],
   "source": [
    "%matplotlib inline\n",
    "from matplotlib import pyplot as plt\n",
    "import numpy as np\n",
    "import pandas as pd\n",
    "import mdtraj as md\n",
    "\n",
    "top = md.Topology()\n",
    "c = top.add_chain()\n",
    "\n",
    "r0 = top.add_residue('HET', c)\n",
    "r1 = top.add_residue('HET', c)\n",
    "r2 = top.add_residue('HET', c)\n",
    "r3 = top.add_residue('HET', c)\n",
    "r4 = top.add_residue('HET', c)\n",
    "r5 = top.add_residue('HET', c)\n",
    "r6 = top.add_residue('HET', c)\n",
    "r7 = top.add_residue('HET', c)\n",
    "r8 = top.add_residue('HET', c)\n",
    "r9 = top.add_residue('HET', c)\n",
    "residues = [r0,r1,r2,r3,r4,r5,r6,r7,r8,r9]\n",
    "\n",
    "c_ligand = top.add_chain()\n",
    "r_ligand = top.add_residue('HET', c_ligand)\n",
    "\n",
    "for _ in range(10):\n",
    "    for _, res in enumerate(residues):\n",
    "        top.add_atom('CA', md.element.carbon, res)\n",
    "for _ in range(10):\n",
    "    top.add_atom('CA', md.element.carbon, r_ligand)\n",
    "traj = md.Trajectory(xyz=np.random.uniform(size=(100, 110, 3)),\n",
    "                     topology=top,\n",
    "                     time=np.arange(100))\n",
    "ref = md.Trajectory(xyz=np.random.uniform(size=(1, 110, 3)),\n",
    "                    topology=top,\n",
    "                    time=np.arange(1))"
   ]
  },
  {
   "cell_type": "markdown",
   "metadata": {},
   "source": [
    "### Identify residues characterizing a binding pocket with respect to a reference structure"
   ]
  },
  {
   "cell_type": "code",
   "execution_count": null,
   "metadata": {
    "collapsed": false
   },
   "outputs": [],
   "source": [
    "from msmbuilder.featurizer import LigandContactFeaturizer\n",
    "from msmbuilder.featurizer import BinaryLigandContactFeaturizer\n",
    "\n",
    "feat = LigandContactFeaturizer(reference_frame=ref, binding_pocket=0.1)\n",
    "df = pd.DataFrame(feat.describe_features(ref))\n",
    "df"
   ]
  },
  {
   "cell_type": "code",
   "execution_count": null,
   "metadata": {
    "collapsed": false
   },
   "outputs": [],
   "source": [
    "pocket_contacts = feat.transform(traj)\n",
    "print(\"Number of frames is {}\".format(len(pocket_contacts)))\n",
    "print(\"Number of features is {}\".format(pocket_contacts[0].shape[1]))"
   ]
  },
  {
   "cell_type": "markdown",
   "metadata": {},
   "source": [
    "### Create a histogram of instances each residue is within a certain cutoff distance of the ligand"
   ]
  },
  {
   "cell_type": "code",
   "execution_count": null,
   "metadata": {
    "collapsed": false
   },
   "outputs": [],
   "source": [
    "feat = BinaryLigandContactFeaturizer(reference_frame=ref, cutoff=0.1)\n",
    "pocket_bins = feat.transform(traj)\n",
    "print(\"Number of residues is {}\".format(pocket_bins[0].shape[1]))"
   ]
  },
  {
   "cell_type": "code",
   "execution_count": null,
   "metadata": {
    "collapsed": false
   },
   "outputs": [],
   "source": [
    "count_list = []\n",
    "for res in range(pocket_bins[0].shape[1]):\n",
    "    count_list.append(sum([pocket_bins[i][0][res]\n",
    "                       for i in range(len(pocket_bins))]))"
   ]
  },
  {
   "cell_type": "code",
   "execution_count": null,
   "metadata": {
    "collapsed": false
   },
   "outputs": [],
   "source": [
    "fig = plt.figure(figsize=(6,5))\n",
    "plt.title('Instances within {} nm cutoff'.format(feat.cutoff),fontsize=18)\n",
    "plt.bar(range(pocket_bins[0].shape[1]),count_list)\n",
    "plt.ylabel('Counts', fontsize=16)\n",
    "plt.xlabel('Residue index', fontsize=16)\n",
    "plt.xticks(np.linspace(0.4,10.4,pocket_bins[0].shape[1]+1),range(pocket_bins[0].shape[1]))\n",
    "plt.tight_layout()"
   ]
  },
  {
   "cell_type": "markdown",
   "metadata": {},
   "source": [
    "### Using the LigandRMSDFeaturizer\n",
    "Compute the RMSD of each frame in the trajectory to each frame in a reference trajectory for any set of alignment indices and any set of indices to use for the RMSD calculation. By default, structures are aligned by the protein atoms and the RMSD is calculated for ligand atoms."
   ]
  },
  {
   "cell_type": "code",
   "execution_count": null,
   "metadata": {
    "collapsed": false
   },
   "outputs": [],
   "source": [
    "from msmbuilder.featurizer import LigandRMSDFeaturizer\n",
    "feat = LigandRMSDFeaturizer(reference_frame=ref, reference_traj=traj[0:2])\n",
    "rmsds = feat.transform([traj])\n",
    "print(rmsds[0][:2])"
   ]
  },
  {
   "cell_type": "markdown",
   "metadata": {},
   "source": [
    "Specific indices of the ligand and protein can be specified for alignment and calculation. If no reference trajectory is provided, the reference frame is used."
   ]
  },
  {
   "cell_type": "code",
   "execution_count": null,
   "metadata": {
    "collapsed": false
   },
   "outputs": [],
   "source": [
    "feat_indices = LigandRMSDFeaturizer(reference_frame=ref, align_indices=range(50),\n",
    "                                   calculate_indices=[105])\n",
    "rmsds_indices = feat_indices.transform([traj])\n",
    "print(rmsds_indices[0][:2])"
   ]
  },
  {
   "cell_type": "markdown",
   "metadata": {},
   "source": [
    "Custom indices can also be provided. For example, here we have aligned by the protein (this is the default option but has been enumerated here for clarity) but calculated the RMSD based on all atoms in the reference frame."
   ]
  },
  {
   "cell_type": "code",
   "execution_count": null,
   "metadata": {
    "collapsed": false
   },
   "outputs": [],
   "source": [
    "feat_custom = LigandRMSDFeaturizer(reference_frame=ref, align_by='protein',\n",
    "                        calculate_for='custom', calculate_indices=range(ref.n_atoms))\n",
    "rmsds_custom = feat_custom.transform([traj])\n",
    "print(rmsds_custom[0][:2])"
   ]
  },
  {
   "cell_type": "markdown",
   "metadata": {},
   "source": [
    "Using all atoms for both aligning and calculating RMSD is equivalent to mdtraj's implementation of RMSD calculations."
   ]
  },
  {
   "cell_type": "code",
   "execution_count": null,
   "metadata": {
    "collapsed": false
   },
   "outputs": [],
   "source": [
    "feat_mdtraj = LigandRMSDFeaturizer(reference_frame=ref, align_by='custom',\n",
    "                                  align_indices=range(ref.n_atoms), calculate_for='custom',\n",
    "                                  calculate_indices=range(ref.n_atoms))\n",
    "rmsds_mdtraj = feat_mdtraj.transform([traj])\n",
    "real_mdtraj = md.rmsd(traj, ref, frame=0)\n",
    "print(\"multichain implementation:\\t {}, ...\".format((rmsds_mdtraj[0][0][0],\n",
    "                                                   rmsds_mdtraj[0][1][0])))\n",
    "print(\"mdtraj implementation:\\t\\t {}, ...\".format((real_mdtraj[0], real_mdtraj[1])))"
   ]
  },
  {
   "cell_type": "code",
   "execution_count": null,
   "metadata": {
    "collapsed": true
   },
   "outputs": [],
   "source": []
  }
 ],
 "metadata": {
  "anaconda-cloud": {},
  "kernelspec": {
   "display_name": "Python [default]",
   "language": "python",
   "name": "python3"
  },
  "language_info": {
   "codemirror_mode": {
    "name": "ipython",
    "version": 3
   },
   "file_extension": ".py",
   "mimetype": "text/x-python",
   "name": "python",
   "nbconvert_exporter": "python",
   "pygments_lexer": "ipython3",
   "version": "3.5.2"
  }
 },
 "nbformat": 4,
 "nbformat_minor": 0
}
