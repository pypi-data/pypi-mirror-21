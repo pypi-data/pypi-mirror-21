{
 "cells": [
  {
   "cell_type": "markdown",
   "metadata": {},
   "source": [
    "# Orbital Cycles"
   ]
  },
  {
   "cell_type": "markdown",
   "metadata": {},
   "source": [
    "In this document ..."
   ]
  },
  {
   "cell_type": "code",
   "execution_count": 1,
   "metadata": {
    "collapsed": false
   },
   "outputs": [],
   "source": [
    "# import header\n",
    "\n",
    "%matplotlib inline\n",
    "import numpy as np\n",
    "import matplotlib.pyplot as plt\n",
    "import climlab\n",
    "from climlab.model.ebm import EBM_seasonal\n",
    "from climlab.solar.orbital_cycles import OrbitalCycles\n",
    "from climlab.surface.albedo import StepFunctionAlbedo\n",
    "from climlab.domain.field import global_mean"
   ]
  },
  {
   "cell_type": "markdown",
   "metadata": {},
   "source": [
    "### Model Creation"
   ]
  },
  {
   "cell_type": "markdown",
   "metadata": {},
   "source": [
    "An EBM model instance is created through"
   ]
  },
  {
   "cell_type": "code",
   "execution_count": 2,
   "metadata": {
    "collapsed": false
   },
   "outputs": [],
   "source": [
    "# model creation\n",
    "ebm_model = EBM_seasonal(A=204, B=2.17, D=0.79, a0=0.3, a2 = 0.01, ai=0.6, Tf=-2)"
   ]
  },
  {
   "cell_type": "markdown",
   "metadata": {},
   "source": [
    "The model is set up with an albedo feedback subprocess:"
   ]
  },
  {
   "cell_type": "code",
   "execution_count": 3,
   "metadata": {
    "collapsed": false
   },
   "outputs": [
    {
     "name": "stdout",
     "output_type": "stream",
     "text": [
      "climlab Process of type <class 'climlab.model.ebm.EBM_seasonal'>. \n",
      "State variables and domain shapes: \n",
      "  Ts: (90, 1) \n",
      "The subprocess tree: \n",
      "top: <class 'climlab.model.ebm.EBM_seasonal'>\n",
      "   diffusion: <class 'climlab.dynamics.diffusion.MeridionalDiffusion'>\n",
      "   LW: <class 'climlab.radiation.AplusBT.AplusBT'>\n",
      "   albedo: <class 'climlab.surface.albedo.StepFunctionAlbedo'>\n",
      "      iceline: <class 'climlab.surface.albedo.Iceline'>\n",
      "      cold_albedo: <class 'climlab.surface.albedo.ConstantAlbedo'>\n",
      "      warm_albedo: <class 'climlab.surface.albedo.P2Albedo'>\n",
      "   insolation: <class 'climlab.radiation.insolation.DailyInsolation'>\n",
      "\n"
     ]
    }
   ],
   "source": [
    "# print model states and suprocesses\n",
    "print ebm_model"
   ]
  },
  {
   "cell_type": "markdown",
   "metadata": {},
   "source": [
    "### Test Run"
   ]
  },
  {
   "cell_type": "code",
   "execution_count": 4,
   "metadata": {
    "collapsed": false
   },
   "outputs": [
    {
     "name": "stdout",
     "output_type": "stream",
     "text": [
      "Total elapsed time is 9.0 years.\n"
     ]
    },
    {
     "data": {
      "text/plain": [
       "Field(10.695892552075234)"
      ]
     },
     "execution_count": 4,
     "metadata": {},
     "output_type": "execute_result"
    }
   ],
   "source": [
    "ebm_model.integrate_converge()\n",
    "\n",
    "global_mean(ebm_model.timeave['Ts'])"
   ]
  },
  {
   "cell_type": "code",
   "execution_count": 5,
   "metadata": {
    "collapsed": false
   },
   "outputs": [
    {
     "data": {
      "text/plain": [
       "array([-60.,  52.])"
      ]
     },
     "execution_count": 5,
     "metadata": {},
     "output_type": "execute_result"
    }
   ],
   "source": [
    "ebm_model.diagnostics['icelat']"
   ]
  },
  {
   "cell_type": "code",
   "execution_count": 6,
   "metadata": {
    "collapsed": false
   },
   "outputs": [
    {
     "data": {
      "text/plain": [
       "{'day_of_year_index': 0,\n",
       " 'days_elapsed': 3287.179799999966,\n",
       " 'days_of_year': array([   0.        ,    4.05824667,    8.11649333,   12.17474   ,\n",
       "          16.23298667,   20.29123333,   24.34948   ,   28.40772667,\n",
       "          32.46597333,   36.52422   ,   40.58246667,   44.64071333,\n",
       "          48.69896   ,   52.75720667,   56.81545333,   60.8737    ,\n",
       "          64.93194667,   68.99019333,   73.04844   ,   77.10668667,\n",
       "          81.16493333,   85.22318   ,   89.28142667,   93.33967333,\n",
       "          97.39792   ,  101.45616667,  105.51441333,  109.57266   ,\n",
       "         113.63090667,  117.68915333,  121.7474    ,  125.80564667,\n",
       "         129.86389333,  133.92214   ,  137.98038667,  142.03863333,\n",
       "         146.09688   ,  150.15512667,  154.21337333,  158.27162   ,\n",
       "         162.32986667,  166.38811333,  170.44636   ,  174.50460667,\n",
       "         178.56285333,  182.6211    ,  186.67934667,  190.73759333,\n",
       "         194.79584   ,  198.85408667,  202.91233333,  206.97058   ,\n",
       "         211.02882667,  215.08707333,  219.14532   ,  223.20356667,\n",
       "         227.26181333,  231.32006   ,  235.37830667,  239.43655333,\n",
       "         243.4948    ,  247.55304667,  251.61129333,  255.66954   ,\n",
       "         259.72778667,  263.78603333,  267.84428   ,  271.90252667,\n",
       "         275.96077333,  280.01902   ,  284.07726667,  288.13551333,\n",
       "         292.19376   ,  296.25200667,  300.31025333,  304.3685    ,\n",
       "         308.42674667,  312.48499333,  316.54324   ,  320.60148667,\n",
       "         324.65973333,  328.71798   ,  332.77622667,  336.83447333,\n",
       "         340.89272   ,  344.95096667,  349.00921333,  353.06746   ,\n",
       "         357.12570667,  361.18395333]),\n",
       " 'num_steps_per_year': 90.0,\n",
       " 'steps': 810,\n",
       " 'timestep': 350632.51200000005,\n",
       " 'years_elapsed': 9}"
      ]
     },
     "execution_count": 6,
     "metadata": {},
     "output_type": "execute_result"
    }
   ],
   "source": [
    "ebm_model.time"
   ]
  },
  {
   "cell_type": "markdown",
   "metadata": {},
   "source": [
    "## Orbital Cycle Routine"
   ]
  },
  {
   "cell_type": "markdown",
   "metadata": {},
   "source": [
    "The model integration through a different set of orbital parameters is done by a function called ``OrbitalCycles`` from the `climlab.solar.orbital_cycles` module.\n",
    "\n",
    "We want to integrate the model for orbital parameters from the last 5,000 years. To save computation time we speed up the process by the factor 10."
   ]
  },
  {
   "cell_type": "markdown",
   "metadata": {},
   "source": [
    "## Start the integration"
   ]
  },
  {
   "cell_type": "code",
   "execution_count": 7,
   "metadata": {
    "collapsed": false,
    "scrolled": false
   },
   "outputs": [
    {
     "name": "stdout",
     "output_type": "stream",
     "text": [
      "---------  OrbitalCycles  START ----------\n",
      "Beginning integration for the model from -23 to -10 kyears before present.\n",
      "Integration time for each set of orbital parameters is 10.0 years.\n",
      "Orbital cycles will be sped up by a factor 100.0\n",
      "Total number of segments is 13\n",
      "Loading Berger and Loutre (1991) orbital parameter data from file /home/moritz/anaconda2/envs/climlab_0.3_env/lib/python2.7/site-packages/climlab/solar/orbit91\n",
      "-------------------------\n",
      "Segment 0 out of 13\n",
      "Using orbital parameters from -23 kyears before present.\n",
      "Global mean temperature from the final year of integration is 10.8922858558 degrees C.\n",
      "-------------------------\n",
      "Segment 1 out of 13\n",
      "Using orbital parameters from -22.0 kyears before present.\n",
      "Global mean temperature from the final year of integration is 10.8914821979 degrees C.\n",
      "-------------------------\n",
      "Segment 2 out of 13\n",
      "Using orbital parameters from -21.0 kyears before present.\n",
      "Global mean temperature from the final year of integration is 10.8467065845 degrees C.\n",
      "-------------------------\n",
      "Segment 3 out of 13\n",
      "Using orbital parameters from -20.0 kyears before present.\n",
      "Global mean temperature from the final year of integration is 10.822265004 degrees C.\n",
      "-------------------------\n",
      "Segment 4 out of 13\n",
      "Using orbital parameters from -19.0 kyears before present.\n",
      "Global mean temperature from the final year of integration is 10.6731087485 degrees C.\n",
      "-------------------------\n",
      "Segment 5 out of 13\n",
      "Using orbital parameters from -18.0 kyears before present.\n",
      "Global mean temperature from the final year of integration is 10.7137106376 degrees C.\n",
      "-------------------------\n",
      "Segment 6 out of 13\n",
      "Using orbital parameters from -17.0 kyears before present.\n",
      "Global mean temperature from the final year of integration is 10.6219622769 degrees C.\n",
      "-------------------------\n",
      "Segment 7 out of 13\n",
      "Using orbital parameters from -16.0 kyears before present.\n",
      "Global mean temperature from the final year of integration is 10.546520891 degrees C.\n",
      "-------------------------\n",
      "Segment 8 out of 13\n",
      "Using orbital parameters from -15.0 kyears before present.\n",
      "Global mean temperature from the final year of integration is 10.533891031 degrees C.\n",
      "-------------------------\n",
      "Segment 9 out of 13\n",
      "Using orbital parameters from -14.0 kyears before present.\n",
      "Global mean temperature from the final year of integration is 10.6091502818 degrees C.\n",
      "-------------------------\n",
      "Segment 10 out of 13\n",
      "Using orbital parameters from -13.0 kyears before present.\n",
      "Global mean temperature from the final year of integration is 10.5801589069 degrees C.\n",
      "-------------------------\n",
      "Segment 11 out of 13\n",
      "Using orbital parameters from -12.0 kyears before present.\n",
      "Global mean temperature from the final year of integration is 10.5283315159 degrees C.\n",
      "-------------------------\n",
      "Segment 12 out of 13\n",
      "Using orbital parameters from -11.0 kyears before present.\n",
      "Global mean temperature from the final year of integration is 10.4426197575 degrees C.\n",
      "---------  OrbitalCycles  END ----------\n"
     ]
    }
   ],
   "source": [
    "#  run for 5,000 orbital years, but only 500 model years\n",
    "experiment = OrbitalCycles(ebm_model, kyear_start=-23, kyear_stop=-10, segment_length_years=10., orbital_year_factor=100.)"
   ]
  },
  {
   "cell_type": "code",
   "execution_count": 8,
   "metadata": {
    "collapsed": false
   },
   "outputs": [
    {
     "data": {
      "text/plain": [
       "{'day_of_year_index': 0,\n",
       " 'days_elapsed': 50768.66580000745,\n",
       " 'days_of_year': array([   0.        ,    4.05824667,    8.11649333,   12.17474   ,\n",
       "          16.23298667,   20.29123333,   24.34948   ,   28.40772667,\n",
       "          32.46597333,   36.52422   ,   40.58246667,   44.64071333,\n",
       "          48.69896   ,   52.75720667,   56.81545333,   60.8737    ,\n",
       "          64.93194667,   68.99019333,   73.04844   ,   77.10668667,\n",
       "          81.16493333,   85.22318   ,   89.28142667,   93.33967333,\n",
       "          97.39792   ,  101.45616667,  105.51441333,  109.57266   ,\n",
       "         113.63090667,  117.68915333,  121.7474    ,  125.80564667,\n",
       "         129.86389333,  133.92214   ,  137.98038667,  142.03863333,\n",
       "         146.09688   ,  150.15512667,  154.21337333,  158.27162   ,\n",
       "         162.32986667,  166.38811333,  170.44636   ,  174.50460667,\n",
       "         178.56285333,  182.6211    ,  186.67934667,  190.73759333,\n",
       "         194.79584   ,  198.85408667,  202.91233333,  206.97058   ,\n",
       "         211.02882667,  215.08707333,  219.14532   ,  223.20356667,\n",
       "         227.26181333,  231.32006   ,  235.37830667,  239.43655333,\n",
       "         243.4948    ,  247.55304667,  251.61129333,  255.66954   ,\n",
       "         259.72778667,  263.78603333,  267.84428   ,  271.90252667,\n",
       "         275.96077333,  280.01902   ,  284.07726667,  288.13551333,\n",
       "         292.19376   ,  296.25200667,  300.31025333,  304.3685    ,\n",
       "         308.42674667,  312.48499333,  316.54324   ,  320.60148667,\n",
       "         324.65973333,  328.71798   ,  332.77622667,  336.83447333,\n",
       "         340.89272   ,  344.95096667,  349.00921333,  353.06746   ,\n",
       "         357.12570667,  361.18395333]),\n",
       " 'num_steps_per_year': 90.0,\n",
       " 'steps': 12510,\n",
       " 'timestep': 350632.51200000005,\n",
       " 'years_elapsed': 139}"
      ]
     },
     "execution_count": 8,
     "metadata": {},
     "output_type": "execute_result"
    }
   ],
   "source": [
    "ebm_model.time"
   ]
  },
  {
   "cell_type": "markdown",
   "metadata": {},
   "source": [
    "### Orbital Table"
   ]
  },
  {
   "cell_type": "code",
   "execution_count": 9,
   "metadata": {
    "collapsed": true
   },
   "outputs": [],
   "source": [
    "from climlab.solar.orbital import OrbitalTable"
   ]
  },
  {
   "cell_type": "code",
   "execution_count": 32,
   "metadata": {
    "collapsed": false
   },
   "outputs": [
    {
     "name": "stdout",
     "output_type": "stream",
     "text": [
      "Loading Berger and Loutre (1991) orbital parameter data from file /home/moritz/anaconda2/envs/climlab_0.3_env/lib/python2.7/site-packages/climlab/solar/orbit91\n"
     ]
    }
   ],
   "source": [
    "kyears = np.arange(-50,0,0.1)\n",
    "table = OrbitalTable()\n",
    "orb = table.lookup_parameters(kyears)"
   ]
  },
  {
   "cell_type": "code",
   "execution_count": 42,
   "metadata": {
    "collapsed": false
   },
   "outputs": [
    {
     "data": {
      "text/plain": [
       "<matplotlib.lines.Line2D at 0x7f8ed982fed0>"
      ]
     },
     "execution_count": 42,
     "metadata": {},
     "output_type": "execute_result"
    },
    {
     "data": {
      "image/png": "[encoded data removed]",
      "text/plain": [
       "<matplotlib.figure.Figure at 0x7f8ed9a48610>"
      ]
     },
     "metadata": {},
     "output_type": "display_data"
    }
   ],
   "source": [
    "fig = plt.figure( figsize = (9,9) )\n",
    "ax1 = fig.add_subplot(311)\n",
    "ax1.plot(kyears, orb['ecc'])\n",
    "ax1.axvline(-23,color='r')\n",
    "ax1.axvline(-10,color='r')\n",
    "ax1.set_title('Eccentricity $e$', fontsize=18 )\n",
    "\n",
    "\n",
    "ax2 = fig.add_subplot(312)\n",
    "ax2.plot(kyears, orb['obliquity'])\n",
    "ax2.axvline(-23,color='r')\n",
    "ax2.axvline(-10,color='r')\n",
    "ax2.set_title('Obliquity (axial tilt) $\\Phi$', fontsize=18 )\n",
    "\n",
    "ax3 = fig.add_subplot(313)\n",
    "ax3.plot(kyears, orb['ecc'] * np.sin( np.deg2rad( orb['long_peri'])))\n",
    "ax3.axvline(-23,color='r')\n",
    "ax3.axvline(-10,color='r')\n",
    "ax3.set_title('Precessional parameter $e \\sin(\\Lambda)$', fontsize=18 )\n",
    "ax3.set_xlabel( 'kyears before present', fontsize=14 )"
   ]
  },
  {
   "cell_type": "code",
   "execution_count": 12,
   "metadata": {
    "collapsed": false
   },
   "outputs": [
    {
     "data": {
      "text/plain": [
       "array([ 21.44130362,  21.41453074,  21.35301444,  21.30861506,\n",
       "        21.17633305,  21.17104497,  21.08137198,  20.99880634,\n",
       "        20.9587408 ,  20.99336685,  20.95220832,  20.90622809,  20.83580519])"
      ]
     },
     "execution_count": 12,
     "metadata": {},
     "output_type": "execute_result"
    }
   ],
   "source": [
    "experiment.T_segments_annual[45,:]\n",
    "#experiment.orb_kyear\n",
    "#experiment.kyear_start\n",
    "#experiment.segment_length_years * experiment.orbital_year_factor /1000."
   ]
  },
  {
   "cell_type": "code",
   "execution_count": 13,
   "metadata": {
    "collapsed": false,
    "scrolled": false
   },
   "outputs": [
    {
     "data": {
      "image/png": "[encoded data removed]",
      "text/plain": [
       "<matplotlib.figure.Figure at 0x7f8edb7c2850>"
      ]
     },
     "metadata": {},
     "output_type": "display_data"
    }
   ],
   "source": [
    "#import matplotlib.pyplot as plt\n",
    "#from mpl_toolkits.mplot3d import Axes3D\n",
    "\n",
    "# creating plot figure\n",
    "fig = plt.figure(figsize=(15,10))\n",
    "\n",
    "lat      = ebm_model.lat\n",
    "\n",
    "start    = experiment.kyear_start\n",
    "stop     = experiment.kyear_stop\n",
    "interval = experiment.segment_length_years * experiment.orbital_year_factor / 1000.\n",
    "time     = np.arange(start, stop, interval)\n",
    "\n",
    "# Temperature plot\n",
    "ax1 = fig.add_subplot(111)\n",
    "ax1.contour( time, lat, experiment.T_segments_annual,  cmap='RdBu')\n",
    "\n",
    "#ax1.set_xticks([-90,-60,-30,0,30,60,90])\n",
    "#ax1.set_xlim([-90,90])\n",
    "#ax1.set_xlabel('latitude')\n",
    "#ax1.set_ylabel('surface temperature (degC)')\n",
    "#ax1.grid()\n",
    "\n",
    "\n",
    "\n",
    "plt.show()"
   ]
  }
 ],
 "metadata": {
  "kernelspec": {
   "display_name": "Python 2",
   "language": "python",
   "name": "python2"
  },
  "language_info": {
   "codemirror_mode": {
    "name": "ipython",
    "version": 2
   },
   "file_extension": ".py",
   "mimetype": "text/x-python",
   "name": "python",
   "nbconvert_exporter": "python",
   "pygments_lexer": "ipython2",
   "version": "2.7.11"
  }
 },
 "nbformat": 4,
 "nbformat_minor": 0
}
