{
 "cells": [
  {
   "cell_type": "markdown",
   "metadata": {},
   "source": [
    "# The two-layer grey radiation model (aka the leaky greenhouse)"
   ]
  },
  {
   "cell_type": "markdown",
   "metadata": {},
   "source": [
    "### I think this notebook needs updating to account for the reversal of the vertical pressure axis that happened awhile back in `climlab`. "
   ]
  },
  {
   "cell_type": "markdown",
   "metadata": {},
   "source": [
    "- Surface temperature is $T_s$\n",
    "- Atm. temperatures are $T_1, T_2$ where $T_1$ is closest to the surface.\n",
    "- absorptivity of atm layers is $\\epsilon_1, \\epsilon_2$\n",
    "- Surface emission is $\\sigma T_s^4$\n",
    "- Atm emission is $\\epsilon_1 \\sigma T_1^4, \\epsilon_2 \\sigma T_2^4$ (up and down)\n",
    "- Abs = emissivity for atm layers\n",
    "- Transmissivity for atm layers is $\\tau_1, \\tau_2$ where $\\tau_i = (1-\\epsilon_i)$\n",
    "\n",
    "### Emission\n",
    "$$ E_s = \\sigma T_s^4 $$\n",
    "\n",
    "$$ E_1 = \\epsilon_1 \\sigma T_1^4 $$\n",
    "\n",
    "$$ E_2 = \\epsilon_2 \\sigma T_2^4 $$\n",
    "\n",
    "### Incident radiation\n",
    "\n",
    "$$ F_s = \\tau_1 E_2 + E_1 $$\n",
    "\n",
    "$$ F_1 = E_s + E_2 $$\n",
    "\n",
    "$$ F_2 = \\tau_1 E_s + E_1 $$\n",
    "\n",
    "### Net radiation\n",
    "(absorptivity) * incident - emission\n",
    "\n",
    "$$ R_s = F_s - E_s $$\n",
    "\n",
    "$$ R_1 = \\epsilon_1 F_1 - 2 E_1 $$\n",
    "\n",
    "$$ R_2 = \\epsilon_2 F_2 - 2 E_2 $$\n",
    "\n",
    "### OLR\n",
    "\n",
    "$$ OLR = \\tau_2 F_2 + E_2 $$\n",
    "\n",
    "$$ = \\tau_1 \\tau_2 E_s + \\tau_2 E_1 + E_2 $$\n",
    "$$ = \\tau_1 \\tau_2 \\sigma T_s^4 + \\tau_2 \\epsilon_1 \\sigma T_1^4 + \\epsilon_2 \\sigma T_2^4 $$\n",
    "\n",
    "### Net radiation in terms of emissions\n",
    "\n",
    "$$ R_s = \\tau_1 E_2 + E_1 - E_s $$\n",
    "\n",
    "$$ R_1 = \\epsilon_1 (E_s + E_2) - 2 E_1 $$\n",
    "\n",
    "$$ R_2 = \\epsilon_2 (\\tau_1 E_s + E_1) - 2 E_2 $$\n",
    "\n",
    "### Net radiation in terms of temperatures\n",
    "\n",
    "$$ R_s = \\tau_1 \\epsilon_2 \\sigma T_2^4 + \\epsilon_1 \\sigma T_1^4 - \\sigma T_s^4 $$\n",
    "\n",
    "$$ R_1 = \\epsilon_1 (\\sigma T_s^4 + \\epsilon_2 \\sigma T_2^4) - 2 \\epsilon_1 \\sigma T_1^4 $$\n",
    "\n",
    "$$ R_2 = \\epsilon_2 (\\tau_1 \\sigma T_s^4 + \\epsilon_1 \\sigma T_1^4) - 2 \\epsilon_2 \\sigma T_2^4 $$\n",
    "\n",
    "### Net radiation in terms of temperatures and absorptivities\n",
    "\n",
    "$$ R_s = (1-\\epsilon_1) \\epsilon_2 \\sigma T_2^4 + \\epsilon_1 \\sigma T_1^4 - \\sigma T_s^4 $$\n",
    "\n",
    "$$ R_1 = \\epsilon_1 (\\sigma T_s^4 + \\epsilon_2 \\sigma T_2^4) - 2 \\epsilon_1 \\sigma T_1^4 $$\n",
    "\n",
    "$$ R_2 = \\epsilon_2 ((1-\\epsilon_1) \\sigma T_s^4 + \\epsilon_1 \\sigma T_1^4) - 2 \\epsilon_2 \\sigma T_2^4 $$\n",
    "\n",
    "## Solve for radiative equilibrium\n",
    "Need to add the solar energy source. We assume atm is transparent, solar is all absorbed at the surface.\n",
    "\n",
    "$$ R_1 = R_2 = 0$$\n",
    "\n",
    "$$ R_s = - (1-\\alpha) Q $$\n",
    "\n",
    "Introduce useful notation shorthand:\n",
    "\n",
    "$$ (1-\\alpha) Q = \\sigma T_e^4 $$\n",
    "\n",
    "This gives a 3x3 system which is **linear in $T^4$** (divide through by $\\sigma$)\n",
    "\n",
    "$$ - T_s^4 + \\epsilon_1 T_1^4 + (1-\\epsilon_1) \\epsilon_2  T_2^4 + T_e^4 = 0 $$\n",
    "\n",
    "$$ \\epsilon_1 T_s^4 - 2 \\epsilon_1 T_1^4 + \\epsilon_1 \\epsilon_2  T_2^4 = 0$$\n",
    "\n",
    "$$ \\epsilon_2 (1-\\epsilon_1) T_s^4 + \\epsilon_1 \\epsilon_2 T_1^4 - 2 \\epsilon_2 T_2^4 = 0$$\n",
    "\n",
    "Here we use the `sympy` module to solve the algebraic system symbolically."
   ]
  },
  {
   "cell_type": "code",
   "execution_count": 1,
   "metadata": {
    "collapsed": false
   },
   "outputs": [
    {
     "data": {
      "image/png": "[encoded data removed]",
      "text/latex": [
       "$$\\left \\{ T_{1}^{4} : \\frac{T_{e}^{4} \\left(- e_{1} e_{2} + e_{2} + 2\\right)}{e_{1} e_{2} - 2 e_{1} - 2 e_{2} + 4}, \\quad T_{2}^{4} : - \\frac{T_{e}^{4}}{e_{2} - 2}, \\quad T_{s}^{4} : \\frac{T_{e}^{4} \\left(- e_{1} e_{2} + 4\\right)}{e_{1} e_{2} - 2 e_{1} - 2 e_{2} + 4}\\right \\}$$"
      ],
      "text/plain": [
       "⎧        4                             4                4                ⎫\n",
       "⎪  4   Tₑ ⋅(-e₁⋅e₂ + e₂ + 2)     4  -Tₑ        4      Tₑ ⋅(-e₁⋅e₂ + 4)   ⎪\n",
       "⎨T₁ : ───────────────────────, T₂ : ──────, T_s : ───────────────────────⎬\n",
       "⎪     e₁⋅e₂ - 2⋅e₁ - 2⋅e₂ + 4       e₂ - 2        e₁⋅e₂ - 2⋅e₁ - 2⋅e₂ + 4⎪\n",
       "⎩                                                                        ⎭"
      ]
     },
     "execution_count": 1,
     "metadata": {},
     "output_type": "execute_result"
    }
   ],
   "source": [
    "import sympy\n",
    "sympy.init_printing()\n",
    "T_s, T_1, T_2, T_e, e_1, e_2 = sympy.symbols('T_s, T_1, T_2, T_e, e_1, e_2', positive=True )\n",
    "system = [-T_s**4 + e_1*T_1**4 + e_2*(1-e_1)*T_2**4 + T_e**4,\n",
    "              e_1*T_s**4 - 2*e_1*T_1**4 + e_1*e_2*T_2**4,\n",
    "              e_2*(1-e_1)*T_s**4 + e_1*e_2*T_1**4 - 2*e_2*T_2**4]\n",
    "out1 = sympy.solve( system, [T_s**4, T_1**4, T_2**4])\n",
    "out1"
   ]
  },
  {
   "cell_type": "code",
   "execution_count": 2,
   "metadata": {
    "collapsed": false
   },
   "outputs": [
    {
     "data": {
      "image/png": "[encoded data removed]",
      "text/latex": [
       "$$\\left \\{ T_{1} : T_{e} \\sqrt[4]{\\frac{- e_{1} e_{2} + e_{2} + 2}{e_{1} e_{2} - 2 e_{1} - 2 e_{2} + 4}}, \\quad T_{2} : T_{e} \\sqrt[4]{- \\frac{1}{e_{2} - 2}}, \\quad T_{s} : T_{e} \\sqrt[4]{\\frac{- e_{1} e_{2} + 4}{e_{1} e_{2} - 2 e_{1} - 2 e_{2} + 4}}\\right \\}$$"
      ],
      "text/plain": [
       "⎧           _________________________             ________              ______\n",
       "⎪          ╱     -e₁⋅e₂ + e₂ + 2                 ╱  -1                 ╱      \n",
       "⎨T₁: Tₑ⋅4 ╱  ─────────────────────── , T₂: Tₑ⋅4 ╱  ────── , T_s: Tₑ⋅4 ╱  ─────\n",
       "⎪       ╲╱   e₁⋅e₂ - 2⋅e₁ - 2⋅e₂ + 4          ╲╱   e₂ - 2           ╲╱   e₁⋅e₂\n",
       "⎩                                                                             \n",
       "\n",
       "___________________⎫\n",
       "  -e₁⋅e₂ + 4       ⎪\n",
       "────────────────── ⎬\n",
       " - 2⋅e₁ - 2⋅e₂ + 4 ⎪\n",
       "                   ⎭"
      ]
     },
     "execution_count": 2,
     "metadata": {},
     "output_type": "execute_result"
    }
   ],
   "source": [
    "quarter = sympy.Rational(1,4)\n",
    "out2 = {}\n",
    "for var4, formula in out1.iteritems():\n",
    "    var = (var4)**quarter\n",
    "    out2[var] = sympy.simplify(formula**quarter)\n",
    "out2"
   ]
  },
  {
   "cell_type": "code",
   "execution_count": 3,
   "metadata": {
    "collapsed": false
   },
   "outputs": [
    {
     "data": {
      "image/png": "[encoded data removed]",
      "text/latex": [
       "$$\\left \\{ T_{1} : T_{e} \\sqrt[4]{\\frac{- e - 1}{e - 2}}, \\quad T_{2} : T_{e} \\sqrt[4]{- \\frac{1}{e - 2}}, \\quad T_{s} : T_{e} \\sqrt[4]{\\frac{- e - 2}{e - 2}}\\right \\}$$"
      ],
      "text/plain": [
       "⎧           ________             _______              ________⎫\n",
       "⎪          ╱ -e - 1             ╱  -1                ╱ -e - 2 ⎪\n",
       "⎨T₁: Tₑ⋅4 ╱  ────── , T₂: Tₑ⋅4 ╱  ───── , T_s: Tₑ⋅4 ╱  ────── ⎬\n",
       "⎪       ╲╱   e - 2           ╲╱   e - 2           ╲╱   e - 2  ⎪\n",
       "⎩                                                             ⎭"
      ]
     },
     "execution_count": 3,
     "metadata": {},
     "output_type": "execute_result"
    }
   ],
   "source": [
    "#  The special case of equal absorptivities\n",
    "e = sympy.symbols('e')\n",
    "out3 = {}\n",
    "for var4, formula in out1.iteritems():\n",
    "    var = (var4)**quarter\n",
    "    simple_formula = sympy.cancel(formula.subs([(e_2, e),(e_1, e)]))\n",
    "    out3[var] = sympy.simplify( simple_formula**quarter )\n",
    "out3"
   ]
  },
  {
   "cell_type": "markdown",
   "metadata": {},
   "source": [
    "The solution is\n",
    "\n",
    "\\begin{align} \n",
    "T_s^4 &= T_e^4 \\frac{4 - \\epsilon_1 \\epsilon_2}{4 + \\epsilon_1 \\epsilon_2 - 2 \\epsilon_1 - 2 \\epsilon_2}  \\\\\n",
    "T_1^4 &= T_e^4 \\frac{2 -\\epsilon_1 \\epsilon_2 + \\epsilon_2}{4 + \\epsilon_1 \\epsilon_2 - 2 \\epsilon_1 - 2 \\epsilon_2} \\\\\n",
    "T_2^4 &= T_e^4 \\frac{ 1}{2 - \\epsilon_2}\n",
    "\\end{align}"
   ]
  },
  {
   "cell_type": "markdown",
   "metadata": {},
   "source": [
    "In the special case $\\epsilon_1 = \\epsilon_2$ this reduces to\n",
    "\n",
    "\\begin{align} \n",
    "T_s^4 &= T_e^4 \\frac{2+\\epsilon}{2-\\epsilon}  \\\\\n",
    "T_1^4 &= T_e^4 \\frac{1+\\epsilon}{2-\\epsilon} \\\\\n",
    "T_2^4 &= T_e^4 \\frac{ 1}{2 - \\epsilon}\n",
    "\\end{align}"
   ]
  },
  {
   "cell_type": "code",
   "execution_count": 4,
   "metadata": {
    "collapsed": false
   },
   "outputs": [
    {
     "data": {
      "image/png": "[encoded data removed]",
      "text/latex": [
       "$$282.203889523582$$"
      ],
      "text/plain": [
       "282.203889523582"
      ]
     },
     "execution_count": 4,
     "metadata": {},
     "output_type": "execute_result"
    }
   ],
   "source": [
    "out2[T_s].subs([(T_e, 255), (e_1, 0.4), (e_2, 0.4)])"
   ]
  },
  {
   "cell_type": "code",
   "execution_count": 5,
   "metadata": {
    "collapsed": false
   },
   "outputs": [
    {
     "name": "stdout",
     "output_type": "stream",
     "text": [
      "246.627893584128\n",
      "282.203889523582\n",
      "226.730624779963\n"
     ]
    }
   ],
   "source": [
    "for var, formula in out2.iteritems():\n",
    "    print formula.subs([(T_e, 255), (e_1, 0.4), (e_2, 0.4)])"
   ]
  },
  {
   "cell_type": "code",
   "execution_count": 6,
   "metadata": {
    "collapsed": false
   },
   "outputs": [],
   "source": [
    "# Coding up the analytical solutions for radiative equilibrium\n",
    "#  These use the analytical results returned by sympy and wrap them in callable functions\n",
    "\n",
    "def Ts(Te, e1, e2):\n",
    "    #return Te*((4-e1*e2)/(4+e1*e2-2*(e1+e2)))**0.25\n",
    "    return out2[T_s].subs([(T_e, Te), (e_1, e1), (e_2, e2)])\n",
    "def T1(Te, e1, e2):\n",
    "    #return Te*((2+e2-e1*e2)/(4+e1*e2-2*(e1+e2)))**0.25\n",
    "    return out2[T_1].subs([(T_e, Te), (e_1, e1), (e_2, e2)])\n",
    "def T2(Te, e1, e2):\n",
    "    #return Te*(1/(2-e2))**0.25\n",
    "    return out2[T_2].subs([(T_e, Te), (e_1, e1), (e_2, e2)])"
   ]
  },
  {
   "cell_type": "code",
   "execution_count": 7,
   "metadata": {
    "collapsed": false
   },
   "outputs": [],
   "source": [
    "%matplotlib inline\n",
    "import numpy as np\n",
    "from climlab import constants as const\n",
    "import climlab"
   ]
  },
  {
   "cell_type": "code",
   "execution_count": 8,
   "metadata": {
    "collapsed": false
   },
   "outputs": [],
   "source": [
    "mycolumn = climlab.GreyRadiationModel( num_lev=2 )"
   ]
  },
  {
   "cell_type": "code",
   "execution_count": 9,
   "metadata": {
    "collapsed": false
   },
   "outputs": [
    {
     "name": "stdout",
     "output_type": "stream",
     "text": [
      "climlab Process of type <class 'climlab.model.column.GreyRadiationModel'>. \n",
      "State variables and domain shapes: \n",
      "  Tatm: (2,) \n",
      "  Ts: (1,) \n",
      "The subprocess tree: \n",
      "top: <class 'climlab.model.column.GreyRadiationModel'>\n",
      "   LW: <class 'climlab.radiation.greygas.GreyGas'>\n",
      "   SW: <class 'climlab.radiation.greygas.GreyGasSW'>\n",
      "   insolation: <class 'climlab.radiation.insolation.FixedInsolation'>\n",
      "\n"
     ]
    }
   ],
   "source": [
    "print mycolumn"
   ]
  },
  {
   "cell_type": "code",
   "execution_count": 10,
   "metadata": {
    "collapsed": false
   },
   "outputs": [
    {
     "name": "stdout",
     "output_type": "stream",
     "text": [
      "Integrating for 3652 steps, 3652.422 days, or 10.0 years.\n",
      "Total elapsed time is 9.99884460229 years.\n"
     ]
    }
   ],
   "source": [
    "mycolumn.integrate_years(10.)"
   ]
  },
  {
   "cell_type": "code",
   "execution_count": 11,
   "metadata": {
    "collapsed": false
   },
   "outputs": [
    {
     "name": "stdout",
     "output_type": "stream",
     "text": [
      "[ 287.84605967]\n",
      "[ 229.43643402  252.95019305]\n"
     ]
    }
   ],
   "source": [
    "print mycolumn.Ts\n",
    "print mycolumn.Tatm"
   ]
  },
  {
   "cell_type": "code",
   "execution_count": 12,
   "metadata": {
    "collapsed": false
   },
   "outputs": [
    {
     "name": "stdout",
     "output_type": "stream",
     "text": [
      "0.477374247427 0.477374247427\n"
     ]
    }
   ],
   "source": [
    "(e1, e2)= mycolumn.subprocess['LW'].absorptivity\n",
    "print e1, e2"
   ]
  },
  {
   "cell_type": "code",
   "execution_count": 13,
   "metadata": {
    "collapsed": false
   },
   "outputs": [
    {
     "name": "stdout",
     "output_type": "stream",
     "text": [
      "254.865280431\n"
     ]
    }
   ],
   "source": [
    "ASR = (1-mycolumn.param['albedo_sfc'])*mycolumn.param['Q']\n",
    "Te = (ASR/const.sigma)**0.25\n",
    "print Te"
   ]
  },
  {
   "cell_type": "markdown",
   "metadata": {},
   "source": [
    "## Check numerical versus analytical results\n",
    "\n",
    "Use a tolerance value to test if the results are the same."
   ]
  },
  {
   "cell_type": "code",
   "execution_count": 14,
   "metadata": {
    "collapsed": false
   },
   "outputs": [],
   "source": [
    "tol = 0.01\n",
    "\n",
    "def test_2level(col):\n",
    "    (e1, e2)= col.subprocess['LW'].absorptivity\n",
    "    ASR = (1-col.param['albedo_sfc'])*col.param['Q']\n",
    "    Te = (ASR/const.sigma)**0.25\n",
    "    print 'Surface:'\n",
    "    num = col.Ts\n",
    "    anal = Ts(Te,e1,e2)\n",
    "    print '  Numerical: %.2f   Analytical: %.2f    Same:' %(num, anal) , abs(num - anal)<tol\n",
    "    print 'Level 1'\n",
    "    num = col.Tatm[0]\n",
    "    anal = T1(Te,e1,e2)\n",
    "    print '  Numerical: %.2f   Analytical: %.2f    Same:' %(num, anal) , abs(num - anal)<tol\n",
    "    print 'Level 2'\n",
    "    num = col.Tatm[1]\n",
    "    anal = T2(Te,e1,e2)\n",
    "    print '  Numerical: %.2f   Analytical: %.2f    Same:' %(num, anal) , abs(num - anal)<tol"
   ]
  },
  {
   "cell_type": "code",
   "execution_count": 15,
   "metadata": {
    "collapsed": false
   },
   "outputs": [
    {
     "name": "stdout",
     "output_type": "stream",
     "text": [
      "Surface:\n",
      "  Numerical: 287.85   Analytical: 287.85    Same: [ True]\n",
      "Level 1\n",
      "  Numerical: 229.44   Analytical: 252.95    Same: False\n",
      "Level 2\n",
      "  Numerical: 252.95   Analytical: 229.44    Same: False\n"
     ]
    }
   ],
   "source": [
    "test_2level(mycolumn)"
   ]
  },
  {
   "cell_type": "code",
   "execution_count": 16,
   "metadata": {
    "collapsed": false
   },
   "outputs": [
    {
     "name": "stdout",
     "output_type": "stream",
     "text": [
      "Integrating for 3652 steps, 3652.422 days, or 10.0 years.\n",
      "Total elapsed time is 19.9976892046 years.\n"
     ]
    }
   ],
   "source": [
    "e1 = 0.3\n",
    "e2 = 0.4\n",
    "mycolumn.subprocess['LW'].absorptivity = np.array([e1,e2])\n",
    "mycolumn.integrate_years(10.)"
   ]
  },
  {
   "cell_type": "code",
   "execution_count": 17,
   "metadata": {
    "collapsed": false
   },
   "outputs": [
    {
     "name": "stdout",
     "output_type": "stream",
     "text": [
      "Surface:\n",
      "  Numerical: 278.53   Analytical: 278.53    Same: [ True]\n",
      "Level 1\n",
      "  Numerical: 223.20   Analytical: 243.87    Same: False\n",
      "Level 2\n",
      "  Numerical: 241.15   Analytical: 226.61    Same: False\n"
     ]
    }
   ],
   "source": [
    "test_2level(mycolumn)"
   ]
  },
  {
   "cell_type": "code",
   "execution_count": 18,
   "metadata": {
    "collapsed": false
   },
   "outputs": [
    {
     "name": "stdout",
     "output_type": "stream",
     "text": [
      "Integrating for 3652 steps, 3652.422 days, or 10.0 years.\n",
      "Total elapsed time is 29.9965338069 years.\n",
      "Surface:\n",
      "  Numerical: 297.52   Analytical: 297.52    Same: [ True]\n",
      "Level 1\n",
      "  Numerical: 234.30   Analytical: 263.52    Same: False\n",
      "Level 2\n",
      "  Numerical: 263.52   Analytical: 234.30    Same: False\n"
     ]
    }
   ],
   "source": [
    "e1 = 0.6\n",
    "e2 = 0.6\n",
    "mycolumn.subprocess['LW'].absorptivity = np.array([e1,e2])\n",
    "mycolumn.integrate_years(10.)\n",
    "test_2level(mycolumn)"
   ]
  },
  {
   "cell_type": "code",
   "execution_count": 19,
   "metadata": {
    "collapsed": false
   },
   "outputs": [
    {
     "name": "stdout",
     "output_type": "stream",
     "text": [
      "0.652920962199 0.652920962199\n",
      "Integrating for 3652 steps, 3652.422 days, or 10.0 years.\n",
      "Total elapsed time is 9.99884460229 years.\n",
      "Surface:\n",
      "  Numerical: 301.92   Analytical: 301.92    Same: [ True]\n",
      "Level 1\n",
      "  Numerical: 236.57   Analytical: 268.24    Same: False\n",
      "Level 2\n",
      "  Numerical: 268.24   Analytical: 236.57    Same: False\n"
     ]
    }
   ],
   "source": [
    "col1 = climlab.GreyRadiationModel(num_lev=2, abs_coeff=1.9E-4)\n",
    "(e1, e2) = col1.subprocess['LW'].absorptivity\n",
    "print e1, e2\n",
    "col1.integrate_years(10.)\n",
    "test_2level(col1)"
   ]
  },
  {
   "cell_type": "code",
   "execution_count": 20,
   "metadata": {
    "collapsed": false
   },
   "outputs": [
    {
     "name": "stdout",
     "output_type": "stream",
     "text": [
      "Integrating for 3652 steps, 3652.422 days, or 10.0 years.\n",
      "Total elapsed time is 9.99884460229 years.\n",
      "Surface:\n",
      "  Numerical: 307.85   Analytical: 307.85    Same: [ True]\n",
      "Level 1\n",
      "  Numerical: 242.68   Analytical: 272.49    Same: False\n",
      "Level 2\n",
      "  Numerical: 276.56   Analytical: 236.57    Same: False\n"
     ]
    }
   ],
   "source": [
    "col1 = climlab.GreyRadiationModel(num_lev=2, abs_coeff=1.9E-4)\n",
    "lw = col1.subprocess['LW']\n",
    "(e1, e2) = lw.absorptivity\n",
    "e1 *= 1.2\n",
    "lw.absorptivity = np.array([e1, e2])\n",
    "col1.integrate_years(10.)\n",
    "test_2level(col1)"
   ]
  },
  {
   "cell_type": "markdown",
   "metadata": {},
   "source": [
    "### Conclusion: The Two-level model works"
   ]
  },
  {
   "cell_type": "markdown",
   "metadata": {},
   "source": [
    "## Three-layer model\n",
    "\n",
    "Extend the analysis to three layers.\n",
    "Start numbering the layers from 0 to be consistent with array indexing.\n"
   ]
  },
  {
   "cell_type": "code",
   "execution_count": 21,
   "metadata": {
    "collapsed": false
   },
   "outputs": [],
   "source": [
    "T_s, T_0, T_1, T_2, T_e, epsilon_0, epsilon_1, epsilon_2, sigma = \\\n",
    "    sympy.symbols('T_s, T_0, T_1, T_2, T_e, epsilon_0, epsilon_1, epsilon_2, sigma', positive=True )"
   ]
  },
  {
   "cell_type": "markdown",
   "metadata": {},
   "source": [
    "Define the transmissivities $\\tau_i$ for layers $i=0, 1, \\dots, N-1$"
   ]
  },
  {
   "cell_type": "code",
   "execution_count": 22,
   "metadata": {
    "collapsed": false
   },
   "outputs": [
    {
     "data": {
      "image/png": "[encoded data removed]",
      "text/latex": [
       "$$\\left ( - \\epsilon_{0} + 1, \\quad - \\epsilon_{1} + 1, \\quad - \\epsilon_{2} + 1\\right )$$"
      ],
      "text/plain": [
       "(-ε₀ + 1, -ε₁ + 1, -ε₂ + 1)"
      ]
     },
     "execution_count": 22,
     "metadata": {},
     "output_type": "execute_result"
    }
   ],
   "source": [
    "tau_0 = (1-epsilon_0)\n",
    "tau_1 = (1-epsilon_1)\n",
    "tau_2 = (1-epsilon_2)\n",
    "tau_0, tau_1, tau_2"
   ]
  },
  {
   "cell_type": "markdown",
   "metadata": {},
   "source": [
    "Note that if the atmosphere has $N$ layers then $\\epsilon_N = 0$\n",
    "\n",
    "Define the emissions for each layer:"
   ]
  },
  {
   "cell_type": "code",
   "execution_count": 23,
   "metadata": {
    "collapsed": false
   },
   "outputs": [
    {
     "data": {
      "image/png": "[encoded data removed]",
      "text/latex": [
       "$$\\left ( T_{s}^{4} \\sigma, \\quad T_{0}^{4} \\epsilon_{0} \\sigma, \\quad T_{1}^{4} \\epsilon_{1} \\sigma, \\quad T_{2}^{4} \\epsilon_{2} \\sigma\\right )$$"
      ],
      "text/plain": [
       "⎛   4      4         4         4     ⎞\n",
       "⎝T_s ⋅σ, T₀ ⋅ε₀⋅σ, T₁ ⋅ε₁⋅σ, T₂ ⋅ε₂⋅σ⎠"
      ]
     },
     "execution_count": 23,
     "metadata": {},
     "output_type": "execute_result"
    }
   ],
   "source": [
    "E_s = sigma*T_s**4\n",
    "E_0 = epsilon_0*sigma*T_0**4\n",
    "E_1 = epsilon_1*sigma*T_1**4\n",
    "E_2 = epsilon_2*sigma*T_2**4\n",
    "E_s, E_0, E_1, E_2"
   ]
  },
  {
   "cell_type": "markdown",
   "metadata": {},
   "source": [
    "Define the longwave fluxes incident on each layer, $F_{i}$\n",
    "\n",
    "Note that if the atmosphere has $N$ layers then $F_{N}$ is the OLR (emission to space)"
   ]
  },
  {
   "cell_type": "code",
   "execution_count": 24,
   "metadata": {
    "collapsed": false
   },
   "outputs": [
    {
     "data": {
      "image/png": "[encoded data removed]",
      "text/latex": [
       "$$\\left ( T_{0}^{4} \\epsilon_{0} \\sigma + T_{1}^{4} \\epsilon_{1} \\sigma \\left(- \\epsilon_{0} + 1\\right) + T_{2}^{4} \\epsilon_{2} \\sigma \\left(- \\epsilon_{0} + 1\\right) \\left(- \\epsilon_{1} + 1\\right), \\quad T_{1}^{4} \\epsilon_{1} \\sigma + T_{2}^{4} \\epsilon_{2} \\sigma \\left(- \\epsilon_{1} + 1\\right) + T_{s}^{4} \\sigma, \\quad T_{0}^{4} \\epsilon_{0} \\sigma + T_{2}^{4} \\epsilon_{2} \\sigma + T_{s}^{4} \\sigma \\left(- \\epsilon_{0} + 1\\right), \\quad T_{0}^{4} \\epsilon_{0} \\sigma \\left(- \\epsilon_{1} + 1\\right) + T_{1}^{4} \\epsilon_{1} \\sigma + T_{s}^{4} \\sigma \\left(- \\epsilon_{0} + 1\\right) \\left(- \\epsilon_{1} + 1\\right), \\quad T_{0}^{4} \\epsilon_{0} \\sigma \\left(- \\epsilon_{1} + 1\\right) \\left(- \\epsilon_{2} + 1\\right) + T_{1}^{4} \\epsilon_{1} \\sigma \\left(- \\epsilon_{2} + 1\\right) + T_{2}^{4} \\epsilon_{2} \\sigma + T_{s}^{4} \\sigma \\left(- \\epsilon_{0} + 1\\right) \\left(- \\epsilon_{1} + 1\\right) \\left(- \\epsilon_{2} + 1\\right)\\right )$$"
      ],
      "text/plain": [
       "⎛  4          4                    4                             4          4 \n",
       "⎝T₀ ⋅ε₀⋅σ + T₁ ⋅ε₁⋅σ⋅(-ε₀ + 1) + T₂ ⋅ε₂⋅σ⋅(-ε₀ + 1)⋅(-ε₁ + 1), T₁ ⋅ε₁⋅σ + T₂ ⋅\n",
       "\n",
       "                    4      4          4           4                4          \n",
       "ε₂⋅σ⋅(-ε₁ + 1) + T_s ⋅σ, T₀ ⋅ε₀⋅σ + T₂ ⋅ε₂⋅σ + T_s ⋅σ⋅(-ε₀ + 1), T₀ ⋅ε₀⋅σ⋅(-ε₁\n",
       "\n",
       "          4           4                          4                            \n",
       " + 1) + T₁ ⋅ε₁⋅σ + T_s ⋅σ⋅(-ε₀ + 1)⋅(-ε₁ + 1), T₀ ⋅ε₀⋅σ⋅(-ε₁ + 1)⋅(-ε₂ + 1) + \n",
       "\n",
       "  4                    4           4                                ⎞\n",
       "T₁ ⋅ε₁⋅σ⋅(-ε₂ + 1) + T₂ ⋅ε₂⋅σ + T_s ⋅σ⋅(-ε₀ + 1)⋅(-ε₁ + 1)⋅(-ε₂ + 1)⎠"
      ]
     },
     "execution_count": 24,
     "metadata": {},
     "output_type": "execute_result"
    }
   ],
   "source": [
    "F_s = E_0 + tau_0*E_1 + tau_0*tau_1*E_2\n",
    "F_0 = E_s + E_1 + tau_1*E_2\n",
    "F_1 = tau_0*E_s + E_0 + E_2\n",
    "F_2 = tau_1*tau_0*E_s + tau_1*E_0 + E_1\n",
    "F_3 = tau_2*tau_1*tau_0*E_s + tau_2*tau_1*E_0 + tau_2*E_1 + E_2\n",
    "\n",
    "F_s, F_0, F_1, F_2, F_3"
   ]
  },
  {
   "cell_type": "markdown",
   "metadata": {},
   "source": [
    "Now define the net absorbed longwave radiation (flux divergence) in each layer."
   ]
  },
  {
   "cell_type": "code",
   "execution_count": 25,
   "metadata": {
    "collapsed": false
   },
   "outputs": [
    {
     "data": {
      "image/png": "[encoded data removed]",
      "text/latex": [
       "$$\\left ( T_{0}^{4} \\epsilon_{0} \\sigma + T_{1}^{4} \\epsilon_{1} \\sigma \\left(- \\epsilon_{0} + 1\\right) + T_{2}^{4} \\epsilon_{2} \\sigma \\left(- \\epsilon_{0} + 1\\right) \\left(- \\epsilon_{1} + 1\\right) - T_{s}^{4} \\sigma, \\quad - 2 T_{0}^{4} \\epsilon_{0} \\sigma + \\epsilon_{0} \\left(T_{1}^{4} \\epsilon_{1} \\sigma + T_{2}^{4} \\epsilon_{2} \\sigma \\left(- \\epsilon_{1} + 1\\right) + T_{s}^{4} \\sigma\\right), \\quad - 2 T_{1}^{4} \\epsilon_{1} \\sigma + \\epsilon_{1} \\left(T_{0}^{4} \\epsilon_{0} \\sigma + T_{2}^{4} \\epsilon_{2} \\sigma + T_{s}^{4} \\sigma \\left(- \\epsilon_{0} + 1\\right)\\right), \\quad - 2 T_{2}^{4} \\epsilon_{2} \\sigma + \\epsilon_{2} \\left(T_{0}^{4} \\epsilon_{0} \\sigma \\left(- \\epsilon_{1} + 1\\right) + T_{1}^{4} \\epsilon_{1} \\sigma + T_{s}^{4} \\sigma \\left(- \\epsilon_{0} + 1\\right) \\left(- \\epsilon_{1} + 1\\right)\\right)\\right )$$"
      ],
      "text/plain": [
       "⎛  4          4                    4                               4          \n",
       "⎝T₀ ⋅ε₀⋅σ + T₁ ⋅ε₁⋅σ⋅(-ε₀ + 1) + T₂ ⋅ε₂⋅σ⋅(-ε₀ + 1)⋅(-ε₁ + 1) - T_s ⋅σ, - 2⋅T₀\n",
       "\n",
       "4           ⎛  4          4                     4  ⎞        4           ⎛  4  \n",
       " ⋅ε₀⋅σ + ε₀⋅⎝T₁ ⋅ε₁⋅σ + T₂ ⋅ε₂⋅σ⋅(-ε₁ + 1) + T_s ⋅σ⎠, - 2⋅T₁ ⋅ε₁⋅σ + ε₁⋅⎝T₀ ⋅ε\n",
       "\n",
       "        4           4            ⎞        4           ⎛  4                    \n",
       "₀⋅σ + T₂ ⋅ε₂⋅σ + T_s ⋅σ⋅(-ε₀ + 1)⎠, - 2⋅T₂ ⋅ε₂⋅σ + ε₂⋅⎝T₀ ⋅ε₀⋅σ⋅(-ε₁ + 1) + T₁\n",
       "\n",
       "4           4                      ⎞⎞\n",
       " ⋅ε₁⋅σ + T_s ⋅σ⋅(-ε₀ + 1)⋅(-ε₁ + 1)⎠⎠"
      ]
     },
     "execution_count": 25,
     "metadata": {},
     "output_type": "execute_result"
    }
   ],
   "source": [
    "R_s = F_s - E_s\n",
    "R_0 = epsilon_0*F_0 - 2*E_0\n",
    "R_1 = epsilon_1*F_1 - 2*E_1\n",
    "R_2 = epsilon_2*F_2 - 2*E_2\n",
    "\n",
    "R_s, R_0, R_1, R_2"
   ]
  },
  {
   "cell_type": "markdown",
   "metadata": {},
   "source": [
    "### Solve for radiative equilibrium\n",
    "\n",
    "Use `sympy.solve` to automatically solve the algebraic system.\n",
    "\n",
    "We will solve for the **radiative equilibrium temperatures** in two steps:\n",
    "\n",
    "- First solve for $T_i^4$, which is a purely linear problem.\n",
    "- Then take the fourth roots to solve for the temperatures."
   ]
  },
  {
   "cell_type": "code",
   "execution_count": 26,
   "metadata": {
    "collapsed": false
   },
   "outputs": [
    {
     "data": {
      "image/png": "[encoded data removed]",
      "text/latex": [
       "$$\\left \\{ T_{0}^{4} : \\frac{T_{e}^{4} \\left(- 2 \\epsilon_{0} \\epsilon_{1} \\epsilon_{2} + 2 \\epsilon_{0} \\epsilon_{1} + 2 \\epsilon_{0} \\epsilon_{2} + 3 \\epsilon_{1} \\epsilon_{2} - 2 \\epsilon_{1} - 2 \\epsilon_{2} - 4\\right)}{\\epsilon_{0} \\epsilon_{1} \\epsilon_{2} - 2 \\epsilon_{0} \\epsilon_{1} - 2 \\epsilon_{0} \\epsilon_{2} + 4 \\epsilon_{0} - 2 \\epsilon_{1} \\epsilon_{2} + 4 \\epsilon_{1} + 4 \\epsilon_{2} - 8}, \\quad T_{1}^{4} : \\frac{T_{e}^{4} \\left(- \\epsilon_{1} \\epsilon_{2} + \\epsilon_{2} + 2\\right)}{\\epsilon_{1} \\epsilon_{2} - 2 \\epsilon_{1} - 2 \\epsilon_{2} + 4}, \\quad T_{2}^{4} : - \\frac{T_{e}^{4}}{\\epsilon_{2} - 2}, \\quad T_{s}^{4} : \\frac{2 T_{e}^{4} \\left(- \\epsilon_{0} \\epsilon_{1} \\epsilon_{2} + \\epsilon_{0} \\epsilon_{1} + \\epsilon_{0} \\epsilon_{2} + \\epsilon_{1} \\epsilon_{2} - 4\\right)}{\\epsilon_{0} \\epsilon_{1} \\epsilon_{2} - 2 \\epsilon_{0} \\epsilon_{1} - 2 \\epsilon_{0} \\epsilon_{2} + 4 \\epsilon_{0} - 2 \\epsilon_{1} \\epsilon_{2} + 4 \\epsilon_{1} + 4 \\epsilon_{2} - 8}\\right \\}$$"
      ],
      "text/plain": [
       "⎧       4                                                                     \n",
       "⎪  4  Tₑ ⋅(-2⋅ε₀⋅ε₁⋅ε₂ + 2⋅ε₀⋅ε₁ + 2⋅ε₀⋅ε₂ + 3⋅ε₁⋅ε₂ - 2⋅ε₁ - 2⋅ε₂ - 4)    4  \n",
       "⎨T₀ : ─────────────────────────────────────────────────────────────────, T₁ : \n",
       "⎪      ε₀⋅ε₁⋅ε₂ - 2⋅ε₀⋅ε₁ - 2⋅ε₀⋅ε₂ + 4⋅ε₀ - 2⋅ε₁⋅ε₂ + 4⋅ε₁ + 4⋅ε₂ - 8        \n",
       "⎩                                                                             \n",
       "\n",
       "   4                             4                       4                    \n",
       " Tₑ ⋅(-ε₁⋅ε₂ + ε₂ + 2)     4  -Tₑ        4           2⋅Tₑ ⋅(-ε₀⋅ε₁⋅ε₂ + ε₀⋅ε₁ \n",
       "───────────────────────, T₂ : ──────, T_s : ──────────────────────────────────\n",
       "ε₁⋅ε₂ - 2⋅ε₁ - 2⋅ε₂ + 4       ε₂ - 2        ε₀⋅ε₁⋅ε₂ - 2⋅ε₀⋅ε₁ - 2⋅ε₀⋅ε₂ + 4⋅ε\n",
       "                                                                              \n",
       "\n",
       "                             ⎫\n",
       "+ ε₀⋅ε₂ + ε₁⋅ε₂ - 4)         ⎪\n",
       "─────────────────────────────⎬\n",
       "₀ - 2⋅ε₁⋅ε₂ + 4⋅ε₁ + 4⋅ε₂ - 8⎪\n",
       "                             ⎭"
      ]
     },
     "execution_count": 26,
     "metadata": {},
     "output_type": "execute_result"
    }
   ],
   "source": [
    "out1 = sympy.solve([R_s + sigma*T_e**4, R_0, R_1, R_2],\n",
    "            [T_s**4, T_0**4, T_1**4, T_2**4])\n",
    "out1"
   ]
  },
  {
   "cell_type": "code",
   "execution_count": 27,
   "metadata": {
    "collapsed": false
   },
   "outputs": [
    {
     "data": {
      "image/png": "[encoded data removed]",
      "text/latex": [
       "$$\\left \\{ T_{0} : T_{e} \\sqrt[4]{\\frac{- 2 \\epsilon_{0} \\epsilon_{1} \\epsilon_{2} + 2 \\epsilon_{0} \\epsilon_{1} + 2 \\epsilon_{0} \\epsilon_{2} + 3 \\epsilon_{1} \\epsilon_{2} - 2 \\epsilon_{1} - 2 \\epsilon_{2} - 4}{\\epsilon_{0} \\epsilon_{1} \\epsilon_{2} - 2 \\epsilon_{0} \\epsilon_{1} - 2 \\epsilon_{0} \\epsilon_{2} + 4 \\epsilon_{0} - 2 \\epsilon_{1} \\epsilon_{2} + 4 \\epsilon_{1} + 4 \\epsilon_{2} - 8}}, \\quad T_{1} : T_{e} \\sqrt[4]{\\frac{- \\epsilon_{1} \\epsilon_{2} + \\epsilon_{2} + 2}{\\epsilon_{1} \\epsilon_{2} - 2 \\epsilon_{1} - 2 \\epsilon_{2} + 4}}, \\quad T_{2} : T_{e} \\sqrt[4]{- \\frac{1}{\\epsilon_{2} - 2}}, \\quad T_{s} : \\sqrt[4]{2} T_{e} \\sqrt[4]{\\frac{- \\epsilon_{0} \\epsilon_{1} \\epsilon_{2} + \\epsilon_{0} \\epsilon_{1} + \\epsilon_{0} \\epsilon_{2} + \\epsilon_{1} \\epsilon_{2} - 4}{\\epsilon_{0} \\epsilon_{1} \\epsilon_{2} - 2 \\epsilon_{0} \\epsilon_{1} - 2 \\epsilon_{0} \\epsilon_{2} + 4 \\epsilon_{0} - 2 \\epsilon_{1} \\epsilon_{2} + 4 \\epsilon_{1} + 4 \\epsilon_{2} - 8}}\\right \\}$$"
      ],
      "text/plain": [
       "⎧           _________________________________________________________________ \n",
       "⎪          ╱   -2⋅ε₀⋅ε₁⋅ε₂ + 2⋅ε₀⋅ε₁ + 2⋅ε₀⋅ε₂ + 3⋅ε₁⋅ε₂ - 2⋅ε₁ - 2⋅ε₂ - 4    \n",
       "⎨T₀: Tₑ⋅4 ╱  ─────────────────────────────────────────────────────────────── ,\n",
       "⎪       ╲╱   ε₀⋅ε₁⋅ε₂ - 2⋅ε₀⋅ε₁ - 2⋅ε₀⋅ε₂ + 4⋅ε₀ - 2⋅ε₁⋅ε₂ + 4⋅ε₁ + 4⋅ε₂ - 8  \n",
       "⎩                                                                             \n",
       "\n",
       "            _________________________             ________                    \n",
       "           ╱     -ε₁⋅ε₂ + ε₂ + 2                 ╱  -1           4 ___       ╱\n",
       " T₁: Tₑ⋅4 ╱  ─────────────────────── , T₂: Tₑ⋅4 ╱  ────── , T_s: ╲╱ 2 ⋅Tₑ⋅4 ╱ \n",
       "        ╲╱   ε₁⋅ε₂ - 2⋅ε₁ - 2⋅ε₂ + 4          ╲╱   ε₂ - 2                 ╲╱  \n",
       "                                                                              \n",
       "\n",
       "_________________________________________________________________⎫\n",
       "              -ε₀⋅ε₁⋅ε₂ + ε₀⋅ε₁ + ε₀⋅ε₂ + ε₁⋅ε₂ - 4              ⎪\n",
       " ─────────────────────────────────────────────────────────────── ⎬\n",
       " ε₀⋅ε₁⋅ε₂ - 2⋅ε₀⋅ε₁ - 2⋅ε₀⋅ε₂ + 4⋅ε₀ - 2⋅ε₁⋅ε₂ + 4⋅ε₁ + 4⋅ε₂ - 8 ⎪\n",
       "                                                                 ⎭"
      ]
     },
     "execution_count": 27,
     "metadata": {},
     "output_type": "execute_result"
    }
   ],
   "source": [
    "quarter = sympy.Rational(1,4)\n",
    "out2 = {}\n",
    "for var4, formula in out1.iteritems():\n",
    "    var = (var4)**quarter\n",
    "    out2[var] = sympy.simplify(formula**quarter)\n",
    "out2"
   ]
  },
  {
   "cell_type": "markdown",
   "metadata": {},
   "source": [
    "Now wrap these analytical radiative equilibrium solutions in callable functions:"
   ]
  },
  {
   "cell_type": "code",
   "execution_count": 28,
   "metadata": {
    "collapsed": false
   },
   "outputs": [],
   "source": [
    "def Ts(Te, e0, e1, e2):\n",
    "    return out2[T_s].subs([(T_e, Te), (epsilon_0, e0), (epsilon_1, e1), (epsilon_2, e2)])\n",
    "def T0(Te, e0, e1, e2):\n",
    "    return out2[T_0].subs([(T_e, Te), (epsilon_0, e0), (epsilon_1, e1), (epsilon_2, e2)])\n",
    "def T1(Te, e0, e1, e2):\n",
    "    return out2[T_1].subs([(T_e, Te), (epsilon_0, e0), (epsilon_1, e1), (epsilon_2, e2)])\n",
    "def T2(Te, e0, e1, e2):\n",
    "    return out2[T_2].subs([(T_e, Te), (epsilon_0, e0), (epsilon_1, e1), (epsilon_2, e2)])"
   ]
  },
  {
   "cell_type": "markdown",
   "metadata": {},
   "source": [
    "### Compare numerical and analytical solutions for radiative equilibrium\n",
    "\n",
    "Define a function that takes a `climlab.GreyRadiationModel` object (which should be first integrated out to equilibrium), and compares the numerical solution to our analytical solution."
   ]
  },
  {
   "cell_type": "code",
   "execution_count": 29,
   "metadata": {
    "collapsed": false
   },
   "outputs": [],
   "source": [
    "tol = 0.01\n",
    "\n",
    "def test_3level(col):\n",
    "    (e0, e1, e2)= col.subprocess['LW'].absorptivity\n",
    "    ASR = (1-col.param['albedo_sfc'])*col.param['Q']\n",
    "    Te = (ASR/const.sigma)**0.25\n",
    "    print 'Surface:'\n",
    "    num = col.Ts\n",
    "    anal = Ts(Te,e0,e1,e2)\n",
    "    print '  Numerical: %.2f   Analytical: %.2f    Same:' %(num, anal) , abs(num - anal)<tol\n",
    "    print 'Level 0'\n",
    "    num = col.Tatm[0]\n",
    "    anal = T0(Te,e0,e1,e2)\n",
    "    print '  Numerical: %.2f   Analytical: %.2f    Same:' %(num, anal) , abs(num - anal)<tol\n",
    "    print 'Level 1'\n",
    "    num = col.Tatm[1]\n",
    "    anal = T1(Te,e0,e1,e2)\n",
    "    print '  Numerical: %.2f   Analytical: %.2f    Same:' %(num, anal) , abs(num - anal)<tol\n",
    "    print 'Level 2'\n",
    "    num = col.Tatm[2]\n",
    "    anal = T2(Te,e0,e1,e2)\n",
    "    print '  Numerical: %.2f   Analytical: %.2f    Same:' %(num, anal) , abs(num - anal)<tol"
   ]
  },
  {
   "cell_type": "code",
   "execution_count": 30,
   "metadata": {
    "collapsed": false
   },
   "outputs": [
    {
     "name": "stdout",
     "output_type": "stream",
     "text": [
      "Integrating for 3652 steps, 3652.422 days, or 10.0 years.\n",
      "Total elapsed time is 9.99884460229 years.\n",
      "Surface:\n",
      "  Numerical: 287.85   Analytical: 287.85    Same: [ True]\n",
      "Level 0\n",
      "  Numerical: 224.73   Analytical: 256.29    Same: False\n",
      "Level 1\n",
      "  Numerical: 242.05   Analytical: 242.05    Same: True\n",
      "Level 2\n",
      "  Numerical: 256.29   Analytical: 224.73    Same: False\n"
     ]
    }
   ],
   "source": [
    "col = climlab.GreyRadiationModel( num_lev=3 )\n",
    "col.integrate_years(10.)\n",
    "test_3level(col)"
   ]
  },
  {
   "cell_type": "code",
   "execution_count": 31,
   "metadata": {
    "collapsed": false
   },
   "outputs": [
    {
     "name": "stdout",
     "output_type": "stream",
     "text": [
      "Integrating for 3652 steps, 3652.422 days, or 10.0 years.\n",
      "Total elapsed time is 19.9976892046 years.\n",
      "Surface:\n",
      "  Numerical: 291.71   Analytical: 291.71    Same: [ True]\n",
      "Level 0\n",
      "  Numerical: 223.20   Analytical: 262.65    Same: False\n",
      "Level 1\n",
      "  Numerical: 247.60   Analytical: 242.93    Same: False\n",
      "Level 2\n",
      "  Numerical: 264.53   Analytical: 220.04    Same: False\n"
     ]
    }
   ],
   "source": [
    "e0 = 0.3\n",
    "e1 = 0.6\n",
    "e2 = 0.2\n",
    "col.subprocess['LW'].absorptivity = np.array([e0,e1,e2])\n",
    "col.integrate_years(10.)\n",
    "test_3level(col)"
   ]
  },
  {
   "cell_type": "markdown",
   "metadata": {},
   "source": [
    "### Conclusion: The three-level model works"
   ]
  },
  {
   "cell_type": "code",
   "execution_count": 32,
   "metadata": {
    "collapsed": false
   },
   "outputs": [
    {
     "data": {
      "image/png": "[encoded data removed]",
      "text/latex": [
       "$$\\left \\{ T_{0} : T_{e} \\sqrt[4]{\\frac{- \\epsilon_{0} \\epsilon_{1} + \\epsilon_{1} + 2}{\\epsilon_{0} \\epsilon_{1} - 2 \\epsilon_{0} - 2 \\epsilon_{1} + 4}}, \\quad T_{1} : T_{e} \\sqrt[4]{- \\frac{1}{\\epsilon_{1} - 2}}, \\quad T_{s} : T_{e} \\sqrt[4]{\\frac{- \\epsilon_{0} \\epsilon_{1} + 4}{\\epsilon_{0} \\epsilon_{1} - 2 \\epsilon_{0} - 2 \\epsilon_{1} + 4}}\\right \\}$$"
      ],
      "text/plain": [
       "⎧           _________________________             ________              ______\n",
       "⎪          ╱     -ε₀⋅ε₁ + ε₁ + 2                 ╱  -1                 ╱      \n",
       "⎨T₀: Tₑ⋅4 ╱  ─────────────────────── , T₁: Tₑ⋅4 ╱  ────── , T_s: Tₑ⋅4 ╱  ─────\n",
       "⎪       ╲╱   ε₀⋅ε₁ - 2⋅ε₀ - 2⋅ε₁ + 4          ╲╱   ε₁ - 2           ╲╱   ε₀⋅ε₁\n",
       "⎩                                                                             \n",
       "\n",
       "___________________⎫\n",
       "  -ε₀⋅ε₁ + 4       ⎪\n",
       "────────────────── ⎬\n",
       " - 2⋅ε₀ - 2⋅ε₁ + 4 ⎪\n",
       "                   ⎭"
      ]
     },
     "execution_count": 32,
     "metadata": {},
     "output_type": "execute_result"
    }
   ],
   "source": [
    "# The 3-layer solution reduces to two layer solution if we set e_2 = 0\n",
    "out3 = {}\n",
    "for var, formula in out2.iteritems():\n",
    "    if var is not T_2:\n",
    "        out3[var] = sympy.simplify(formula.subs(epsilon_2,0))\n",
    "out3"
   ]
  },
  {
   "cell_type": "markdown",
   "metadata": {},
   "source": [
    "## Generalizing to N layers\n",
    "\n",
    "\\begin{align}\n",
    "E_i &= \\epsilon_i \\sigma T_i^4  \\\\\n",
    "F_i &= ... + \\tau_{i+2} \\tau_{i+1} E_{i+3} + \\tau_{i+1} E_{i+2} + E_{i+1} + E_{i-1} + \\tau_{i-1} E_{i-2} + \\tau_{i-1} \\tau_{i-2} E_{i-3} + ... \\\\\n",
    "F_i &= \\sum_{n=2}^{N-i} \\bigg( \\prod_{j=1}^{n-1} \\tau_{i+j} \\bigg) E_{i+n} + E_{i+1} + E_{i-1} + \\sum_{n=2}^{i-1} \\bigg( \\prod_{j=1}^{n-1} \\tau_{i-j} \\bigg) E_{i-n}  \\\\\n",
    " &= \\sum_{n=1}^{N-i} \\bigg( \\prod_{j=0}^{n-1} \\tau_{i+j} \\bigg) E_{i+n} / \\tau_{i}  + \\sum_{n=1}^{i-1} \\bigg( \\prod_{j=0}^{n-1} \\tau_{i-j} \\bigg) E_{i-n} / \\tau_i \\\\\n",
    " &= \\frac{1}{\\tau_i} \\left\\{ \\sum_{n=1}^{N-i} \\bigg( \\prod_{j=0}^{n-1} \\tau_{i+j} \\bigg) E_{i+n} + \\sum_{n=1}^{i-1} \\bigg( \\prod_{j=0}^{n-1} \\tau_{i-j} \\bigg) E_{i-n}  \\right\\} \n",
    "\\end{align}\n",
    "\n",
    "Now substitute $n \\rightarrow -n$ in the second summation.\n",
    "\n",
    "\\begin{align}\n",
    "F_i &= \\frac{1}{\\tau_i} \\left\\{ \\sum_{n=1}^{N-i} \\bigg( \\prod_{j=0}^{n-1} \\tau_{i+j} \\bigg) E_{i+n} + \\sum_{-n=1}^{i-1} \\bigg( \\prod_{j=0}^{-n-1} \\tau_{i-j} \\bigg) E_{i+n}  \\right\\}  \\\\\n",
    " &= \\frac{1}{\\tau_i} \\left\\{ \\sum_{n=1}^{N-i} \\bigg( \\prod_{j=0}^{n-1} \\tau_{i+j} \\bigg) E_{i+n} + \\sum_{n=1-i}^{-1} \\bigg( \\prod_{j=0}^{-n-1} \\tau_{i-j} \\bigg) E_{i+n}  \\right\\} \n",
    "\\end{align}\n",
    "\n",
    "And substitude $j \\rightarrow -j$ in the second product.\n",
    "\n",
    "\\begin{align}\n",
    "F_i &= \\frac{1}{\\tau_i} \\left\\{ \\sum_{n=1}^{N-i} \\bigg( \\prod_{j=0}^{n-1} \\tau_{i+j} \\bigg) E_{i+n} + \\sum_{n=1-i}^{-1} \\bigg( \\prod_{-j=0}^{-n-1} \\tau_{i+j} \\bigg) E_{i+n}  \\right\\} \\\\\n",
    "  &= \\frac{1}{\\tau_i} \\left\\{ \\sum_{n=1}^{N-i} \\bigg( \\prod_{j=0}^{n-1} \\tau_{i+j} \\bigg) E_{i+n} + \\sum_{n=1-i}^{-1} \\bigg( \\prod_{j=0}^{1+n} \\tau_{i+j} \\bigg) E_{i+n}  \\right\\} \\\\\n",
    "  &= \\frac{1}{\\tau_i} \\left\\{ \\sum_{n=1}^{N-i} \\bigg( \\prod_{j=0}^{|n|-1} \\tau_{i+j} \\bigg) E_{i+n} + \\sum_{n=1-i}^{-1} \\bigg( \\prod_{j=0}^{1- |n|} \\tau_{i+j} \\bigg) E_{i+n}  \\right\\} \\\\\n",
    "  &= \\frac{1}{\\tau_i} \\left\\{ \\sum_{n=1}^{N-i} \\bigg( \\prod_{j=0}^{|n|-1} \\tau_{i+j} \\bigg) E_{i+n} + \\sum_{n=1-i}^{-1} \\bigg( \\prod_{j=0}^{sign(n) (|n|-1)} \\tau_{i+j} \\bigg) E_{i+n}  \\right\\} \n",
    "\\end{align}\n",
    "\n",
    "Now combine both sums together\n",
    "\n",
    "\\begin{align}\n",
    "F_i &= \\frac{1}{\\tau_i} \\left\\{ \\sum_{n=1}^{N-i} \\bigg( \\prod_{j=0}^{|n|-1} \\tau_{i+j} \\bigg) E_{i+n} + E_i + \\sum_{n=1-i}^{-1} \\bigg( \\prod_{j=0}^{sign(n) (|n|-1)} \\tau_{i+j} \\bigg) E_{i+n}  \\right\\} - \\frac{E_i}{\\tau_i} \\\\\n",
    "   &= \\frac{1}{\\tau_i} \\left\\{ \\sum_{n=1-i}^{N-i} \\bigg( \\prod_{j=0}^{sign(n) \\big(|n|-1\\big)} \\tau_{i+j} \\bigg) E_{i+n}  - E_i \\right\\} \n",
    "\\end{align}\n",
    "\n",
    "with the convention that $\\prod_{j=0}^{-1} = 1$.\n",
    "\n",
    "Alternatively if we set $\\prod_{j=0}^{-1} = 0$ then\n",
    "\n",
    "$$ F_i = \\frac{1}{\\tau_i} \\left\\{ \\sum_{n=1-i}^{N-i} \\bigg( \\prod_{j=0}^{sign(n) \\big(|n|-1\\big)} \\tau_{i+j} \\bigg) E_{i+n} \\right\\} $$\n",
    "\n",
    "Let's use this notation since it simplifies our expressions.\n",
    "\n",
    "### Net radiation\n",
    "(absorptivity) * incident - emission\n",
    "\n",
    "\\begin{align}\n",
    "R_i &= \\epsilon_i F_i - 2 E_i  \\\\\n",
    "  &= \\frac{\\epsilon_i}{\\tau_i}  \\left\\{ \\sum_{n=1-i}^{N-i} \\bigg( \\prod_{j=0}^{sign(n) \\big(|n|-1\\big)} \\tau_{i+j} \\bigg) E_{i+n} \\right\\}  - 2 E_i\n",
    "\\end{align}"
   ]
  },
  {
   "cell_type": "markdown",
   "metadata": {},
   "source": [
    "### Alternative...\n",
    "\n",
    "We will define the **transmissivity between layer i and layer i+n **\n",
    "\n",
    "$$ T_{in} = \\left\\{ \\begin{array}{cc} \n",
    " \\prod_{j=1}^{n-1} \\tau_{i+j} &  n > 1 \\\\\n",
    " 1 &  n = 1 \\\\\n",
    " 0  &  n = 0 \\\\\n",
    " 1 & n = -1 \\\\\n",
    " \\prod_{j=1}^{-n-1} \\tau_{i-j} &  n < -1\n",
    " \\end{array} \\right\\}\n",
    " $$\n",
    "\n",
    "Then the incident flux follows directly\n",
    "\n",
    "$$ F_i = \\sum_{n=1-i}^{N-i} T_{in} E_{i+n} $$\n",
    "\n",
    "and the net radiation is\n",
    "\n",
    "\\begin{align}\n",
    "R_i &= \\epsilon_i F_i - 2 E_i  \\\\\n",
    " &= \\epsilon_i \\sum_{n=1-i}^{N-i} T_{in} E_{i+n} - 2 E_i \n",
    "\\end{align}\n",
    "\n",
    "Now make the substitution $i+n \\rightarrow m$\n",
    "\n",
    "\\begin{align}\n",
    "F_i &= \\sum_{m=1}^{N} T_{im} E_{m}  \\\\\n",
    "T_{im} &= \\left\\{ \\begin{array}{cc} \n",
    " \\prod_{j=1}^{m-i-1} \\tau_{i+j} &  m > 1+i \\\\\n",
    " 1 &  m = i+1 \\\\\n",
    " 0  &  m = i \\\\\n",
    " 1 & m = i-1 \\\\\n",
    " \\prod_{j=1}^{i-m-1} \\tau_{i-j} &  m < i-1\n",
    " \\end{array} \\right\\}\n",
    "\\end{align}\n",
    "\n",
    "Or using the Einstein summation notation, since $m$ is a repeated index, we can just write\n",
    "\n",
    "$$ F_i = T_{im} E_{m} $$\n",
    "\n",
    "and the net radiation is\n",
    "\n",
    "$$ R_i = \\epsilon_i F_i - 2 E_i $$\n"
   ]
  },
  {
   "cell_type": "markdown",
   "metadata": {},
   "source": [
    "## Reformulating in terms of flux between layers\n",
    "\n",
    "Let the upwelling flux be a vector ${\\bf{U}} = [U_0, U_1, ..., U_{N-1}, U_N]$.\n",
    "\n",
    "If there are $N$ levels then $\\bf{U}$ has $N+1$ elements. We will number the layers starting from 0 following `numpy` index conventions.\n",
    "\n",
    "- $U_0$ is the upwelling flux from surface to layer 0.\n",
    "- $U_1$ is the upwelling flux layer 0 to layer 1, etc.\n",
    "- $U_N$ is the upwelling flux from layer N-1 (the top level) to space.\n",
    "\n",
    "Same for the downwelling flux ${\\bf{D}} = [D_0, D_1, ..., D_N]$. So $D_N$ is the flux down from space and $D_0$ is the backradiation to the surface.\n",
    "\n",
    "The absorptivity vector is ${\\bf{\\epsilon}} = [\\epsilon_0, \\epsilon_1, ..., \\epsilon_{N-1}]$ ($N$ elements)"
   ]
  },
  {
   "cell_type": "code",
   "execution_count": 33,
   "metadata": {
    "collapsed": false
   },
   "outputs": [],
   "source": [
    "epsilon, epsilon_i, N = sympy.symbols('epsilon, epsilon_i, N', nonnegative=True )"
   ]
  },
  {
   "cell_type": "markdown",
   "metadata": {},
   "source": [
    "##  Will do the 3 layer version first"
   ]
  },
  {
   "cell_type": "code",
   "execution_count": 34,
   "metadata": {
    "collapsed": false
   },
   "outputs": [
    {
     "data": {
      "image/png": "[encoded data removed]",
      "text/latex": [
       "$$\\left[\\begin{matrix}T_{0}^{4} \\epsilon_{0} \\sigma\\\\T_{1}^{4} \\epsilon_{1} \\sigma\\\\T_{2}^{4} \\epsilon_{2} \\sigma\\end{matrix}\\right]$$"
      ],
      "text/plain": [
       "⎡  4     ⎤\n",
       "⎢T₀ ⋅ε₀⋅σ⎥\n",
       "⎢        ⎥\n",
       "⎢  4     ⎥\n",
       "⎢T₁ ⋅ε₁⋅σ⎥\n",
       "⎢        ⎥\n",
       "⎢  4     ⎥\n",
       "⎣T₂ ⋅ε₂⋅σ⎦"
      ]
     },
     "execution_count": 34,
     "metadata": {},
     "output_type": "execute_result"
    }
   ],
   "source": [
    "# vector of emissions\n",
    "E = sympy.Matrix([E_0, E_1, E_2])\n",
    "E"
   ]
  },
  {
   "cell_type": "code",
   "execution_count": 35,
   "metadata": {
    "collapsed": false
   },
   "outputs": [
    {
     "data": {
      "image/png": "[encoded data removed]",
      "text/latex": [
       "$$\\left[\\begin{matrix}T_{s}^{4} \\sigma\\\\T_{0}^{4} \\epsilon_{0} \\sigma + T_{s}^{4} \\sigma \\left(- \\epsilon_{0} + 1\\right)\\\\T_{1}^{4} \\epsilon_{1} \\sigma + \\left(- \\epsilon_{1} + 1\\right) \\left(T_{0}^{4} \\epsilon_{0} \\sigma + T_{s}^{4} \\sigma \\left(- \\epsilon_{0} + 1\\right)\\right)\\\\T_{2}^{4} \\epsilon_{2} \\sigma + \\left(- \\epsilon_{2} + 1\\right) \\left(T_{1}^{4} \\epsilon_{1} \\sigma + \\left(- \\epsilon_{1} + 1\\right) \\left(T_{0}^{4} \\epsilon_{0} \\sigma + T_{s}^{4} \\sigma \\left(- \\epsilon_{0} + 1\\right)\\right)\\right)\\end{matrix}\\right]$$"
      ],
      "text/plain": [
       "⎡                                    4                                    ⎤\n",
       "⎢                                 T_s ⋅σ                                  ⎥\n",
       "⎢                                                                         ⎥\n",
       "⎢                         4           4                                   ⎥\n",
       "⎢                       T₀ ⋅ε₀⋅σ + T_s ⋅σ⋅(-ε₀ + 1)                       ⎥\n",
       "⎢                                                                         ⎥\n",
       "⎢             4                  ⎛  4           4            ⎞            ⎥\n",
       "⎢           T₁ ⋅ε₁⋅σ + (-ε₁ + 1)⋅⎝T₀ ⋅ε₀⋅σ + T_s ⋅σ⋅(-ε₀ + 1)⎠            ⎥\n",
       "⎢                                                                         ⎥\n",
       "⎢  4                  ⎛  4                  ⎛  4           4            ⎞⎞⎥\n",
       "⎣T₂ ⋅ε₂⋅σ + (-ε₂ + 1)⋅⎝T₁ ⋅ε₁⋅σ + (-ε₁ + 1)⋅⎝T₀ ⋅ε₀⋅σ + T_s ⋅σ⋅(-ε₀ + 1)⎠⎠⎦"
      ]
     },
     "execution_count": 35,
     "metadata": {},
     "output_type": "execute_result"
    }
   ],
   "source": [
    "# upwelling flux\n",
    "fromsurface = E_s\n",
    "U = sympy.Matrix([fromsurface, tau_0*fromsurface + E_0, tau_1*(tau_0*fromsurface + E_0) + E_1, \n",
    "                  tau_2*(tau_1*(tau_0*fromsurface + E_0) + E_1) + E_2])\n",
    "U"
   ]
  },
  {
   "cell_type": "code",
   "execution_count": 36,
   "metadata": {
    "collapsed": false
   },
   "outputs": [
    {
     "data": {
      "image/png": "[encoded data removed]",
      "text/latex": [
       "$$\\left[\\begin{matrix}T_{0}^{4} \\epsilon_{0} \\sigma + \\left(- \\epsilon_{0} + 1\\right) \\left(T_{1}^{4} \\epsilon_{1} \\sigma + T_{2}^{4} \\epsilon_{2} \\sigma \\left(- \\epsilon_{1} + 1\\right)\\right)\\\\T_{1}^{4} \\epsilon_{1} \\sigma + T_{2}^{4} \\epsilon_{2} \\sigma \\left(- \\epsilon_{1} + 1\\right)\\\\T_{2}^{4} \\epsilon_{2} \\sigma\\\\0\\end{matrix}\\right]$$"
      ],
      "text/plain": [
       "⎡  4                  ⎛  4          4               ⎞⎤\n",
       "⎢T₀ ⋅ε₀⋅σ + (-ε₀ + 1)⋅⎝T₁ ⋅ε₁⋅σ + T₂ ⋅ε₂⋅σ⋅(-ε₁ + 1)⎠⎥\n",
       "⎢                                                    ⎥\n",
       "⎢             4          4                           ⎥\n",
       "⎢           T₁ ⋅ε₁⋅σ + T₂ ⋅ε₂⋅σ⋅(-ε₁ + 1)            ⎥\n",
       "⎢                                                    ⎥\n",
       "⎢                        4                           ⎥\n",
       "⎢                      T₂ ⋅ε₂⋅σ                      ⎥\n",
       "⎢                                                    ⎥\n",
       "⎣                         0                          ⎦"
      ]
     },
     "execution_count": 36,
     "metadata": {},
     "output_type": "execute_result"
    }
   ],
   "source": [
    "# downwelling flux...\n",
    "fromspace = 0\n",
    "D = sympy.Matrix([ tau_0*(tau_1*(tau_2*fromspace + E_2) + E_1) + E_0, \n",
    "                 tau_1*(tau_2*fromspace + E_2) + E_1, tau_2*fromspace + E_2, fromspace])\n",
    "D"
   ]
  },
  {
   "cell_type": "code",
   "execution_count": 37,
   "metadata": {
    "collapsed": false
   },
   "outputs": [
    {
     "data": {
      "image/png": "[encoded data removed]",
      "text/latex": [
       "$$\\left[\\begin{matrix}- T_{0}^{4} \\epsilon_{0} \\sigma + T_{s}^{4} \\sigma - \\left(- \\epsilon_{0} + 1\\right) \\left(T_{1}^{4} \\epsilon_{1} \\sigma + T_{2}^{4} \\epsilon_{2} \\sigma \\left(- \\epsilon_{1} + 1\\right)\\right)\\\\T_{0}^{4} \\epsilon_{0} \\sigma - T_{1}^{4} \\epsilon_{1} \\sigma - T_{2}^{4} \\epsilon_{2} \\sigma \\left(- \\epsilon_{1} + 1\\right) + T_{s}^{4} \\sigma \\left(- \\epsilon_{0} + 1\\right)\\\\T_{1}^{4} \\epsilon_{1} \\sigma - T_{2}^{4} \\epsilon_{2} \\sigma + \\left(- \\epsilon_{1} + 1\\right) \\left(T_{0}^{4} \\epsilon_{0} \\sigma + T_{s}^{4} \\sigma \\left(- \\epsilon_{0} + 1\\right)\\right)\\\\T_{2}^{4} \\epsilon_{2} \\sigma + \\left(- \\epsilon_{2} + 1\\right) \\left(T_{1}^{4} \\epsilon_{1} \\sigma + \\left(- \\epsilon_{1} + 1\\right) \\left(T_{0}^{4} \\epsilon_{0} \\sigma + T_{s}^{4} \\sigma \\left(- \\epsilon_{0} + 1\\right)\\right)\\right)\\end{matrix}\\right]$$"
      ],
      "text/plain": [
       "⎡         4           4               ⎛  4          4               ⎞     ⎤\n",
       "⎢     - T₀ ⋅ε₀⋅σ + T_s ⋅σ - (-ε₀ + 1)⋅⎝T₁ ⋅ε₁⋅σ + T₂ ⋅ε₂⋅σ⋅(-ε₁ + 1)⎠     ⎥\n",
       "⎢                                                                         ⎥\n",
       "⎢         4          4          4                     4                   ⎥\n",
       "⎢       T₀ ⋅ε₀⋅σ - T₁ ⋅ε₁⋅σ - T₂ ⋅ε₂⋅σ⋅(-ε₁ + 1) + T_s ⋅σ⋅(-ε₀ + 1)       ⎥\n",
       "⎢                                                                         ⎥\n",
       "⎢        4          4                  ⎛  4           4            ⎞      ⎥\n",
       "⎢      T₁ ⋅ε₁⋅σ - T₂ ⋅ε₂⋅σ + (-ε₁ + 1)⋅⎝T₀ ⋅ε₀⋅σ + T_s ⋅σ⋅(-ε₀ + 1)⎠      ⎥\n",
       "⎢                                                                         ⎥\n",
       "⎢  4                  ⎛  4                  ⎛  4           4            ⎞⎞⎥\n",
       "⎣T₂ ⋅ε₂⋅σ + (-ε₂ + 1)⋅⎝T₁ ⋅ε₁⋅σ + (-ε₁ + 1)⋅⎝T₀ ⋅ε₀⋅σ + T_s ⋅σ⋅(-ε₀ + 1)⎠⎠⎦"
      ]
     },
     "execution_count": 37,
     "metadata": {},
     "output_type": "execute_result"
    }
   ],
   "source": [
    "# Net flux, positive up\n",
    "F = U - D\n",
    "F"
   ]
  },
  {
   "cell_type": "code",
   "execution_count": 38,
   "metadata": {
    "collapsed": false
   },
   "outputs": [
    {
     "data": {
      "image/png": "[encoded data removed]",
      "text/latex": [
       "$$\\left[\\begin{matrix}- 2 T_{0}^{4} \\epsilon_{0} \\sigma + T_{1}^{4} \\epsilon_{1} \\sigma + T_{2}^{4} \\epsilon_{2} \\sigma \\left(- \\epsilon_{1} + 1\\right) - T_{s}^{4} \\sigma \\left(- \\epsilon_{0} + 1\\right) + T_{s}^{4} \\sigma - \\left(- \\epsilon_{0} + 1\\right) \\left(T_{1}^{4} \\epsilon_{1} \\sigma + T_{2}^{4} \\epsilon_{2} \\sigma \\left(- \\epsilon_{1} + 1\\right)\\right)\\\\T_{0}^{4} \\epsilon_{0} \\sigma - 2 T_{1}^{4} \\epsilon_{1} \\sigma - T_{2}^{4} \\epsilon_{2} \\sigma \\left(- \\epsilon_{1} + 1\\right) + T_{2}^{4} \\epsilon_{2} \\sigma + T_{s}^{4} \\sigma \\left(- \\epsilon_{0} + 1\\right) - \\left(- \\epsilon_{1} + 1\\right) \\left(T_{0}^{4} \\epsilon_{0} \\sigma + T_{s}^{4} \\sigma \\left(- \\epsilon_{0} + 1\\right)\\right)\\\\T_{1}^{4} \\epsilon_{1} \\sigma - 2 T_{2}^{4} \\epsilon_{2} \\sigma + \\left(- \\epsilon_{1} + 1\\right) \\left(T_{0}^{4} \\epsilon_{0} \\sigma + T_{s}^{4} \\sigma \\left(- \\epsilon_{0} + 1\\right)\\right) - \\left(- \\epsilon_{2} + 1\\right) \\left(T_{1}^{4} \\epsilon_{1} \\sigma + \\left(- \\epsilon_{1} + 1\\right) \\left(T_{0}^{4} \\epsilon_{0} \\sigma + T_{s}^{4} \\sigma \\left(- \\epsilon_{0} + 1\\right)\\right)\\right)\\end{matrix}\\right]$$"
      ],
      "text/plain": [
       "⎡            4          4          4                     4                  4 \n",
       "⎢      - 2⋅T₀ ⋅ε₀⋅σ + T₁ ⋅ε₁⋅σ + T₂ ⋅ε₂⋅σ⋅(-ε₁ + 1) - T_s ⋅σ⋅(-ε₀ + 1) + T_s ⋅\n",
       "⎢                                                                             \n",
       "⎢         4            4          4                    4           4          \n",
       "⎢       T₀ ⋅ε₀⋅σ - 2⋅T₁ ⋅ε₁⋅σ - T₂ ⋅ε₂⋅σ⋅(-ε₁ + 1) + T₂ ⋅ε₂⋅σ + T_s ⋅σ⋅(-ε₀ + \n",
       "⎢                                                                             \n",
       "⎢  4            4                  ⎛  4           4            ⎞             ⎛\n",
       "⎣T₁ ⋅ε₁⋅σ - 2⋅T₂ ⋅ε₂⋅σ + (-ε₁ + 1)⋅⎝T₀ ⋅ε₀⋅σ + T_s ⋅σ⋅(-ε₀ + 1)⎠ - (-ε₂ + 1)⋅⎝\n",
       "\n",
       "              ⎛  4          4               ⎞      ⎤\n",
       "σ - (-ε₀ + 1)⋅⎝T₁ ⋅ε₁⋅σ + T₂ ⋅ε₂⋅σ⋅(-ε₁ + 1)⎠      ⎥\n",
       "                                                   ⎥\n",
       "               ⎛  4           4            ⎞       ⎥\n",
       "1) - (-ε₁ + 1)⋅⎝T₀ ⋅ε₀⋅σ + T_s ⋅σ⋅(-ε₀ + 1)⎠       ⎥\n",
       "                                                   ⎥\n",
       "  4                  ⎛  4           4            ⎞⎞⎥\n",
       "T₁ ⋅ε₁⋅σ + (-ε₁ + 1)⋅⎝T₀ ⋅ε₀⋅σ + T_s ⋅σ⋅(-ε₀ + 1)⎠⎠⎦"
      ]
     },
     "execution_count": 38,
     "metadata": {},
     "output_type": "execute_result"
    }
   ],
   "source": [
    "# The absorption is then simply the flux convergence in each layer\n",
    "\n",
    "# define a vector of absorbed radiation -- same size as emissions\n",
    "A = E.copy()\n",
    "\n",
    "# Get the convergence\n",
    "for n in range(3):\n",
    "    A[n] = -(F[n+1]-F[n])\n",
    "\n",
    "A"
   ]
  },
  {
   "cell_type": "code",
   "execution_count": 39,
   "metadata": {
    "collapsed": false
   },
   "outputs": [
    {
     "data": {
      "image/png": "[encoded data removed]",
      "text/latex": [
       "$$\\left[\\begin{matrix}0\\\\0\\\\0\\end{matrix}\\right]$$"
      ],
      "text/plain": [
       "⎡0⎤\n",
       "⎢ ⎥\n",
       "⎢0⎥\n",
       "⎢ ⎥\n",
       "⎣0⎦"
      ]
     },
     "execution_count": 39,
     "metadata": {},
     "output_type": "execute_result"
    }
   ],
   "source": [
    "# this should reduce to zero if I did it right\n",
    "sympy.simplify(A - sympy.Matrix([R_0, R_1, R_2]))"
   ]
  },
  {
   "cell_type": "markdown",
   "metadata": {},
   "source": [
    "## So that works. I can formulate the tests against numerical code this way\n"
   ]
  },
  {
   "cell_type": "code",
   "execution_count": null,
   "metadata": {
    "collapsed": false
   },
   "outputs": [],
   "source": []
  }
 ],
 "metadata": {
  "anaconda-cloud": {},
  "kernelspec": {
   "display_name": "Python [default]",
   "language": "python",
   "name": "python2"
  },
  "language_info": {
   "codemirror_mode": {
    "name": "ipython",
    "version": 2
   },
   "file_extension": ".py",
   "mimetype": "text/x-python",
   "name": "python",
   "nbconvert_exporter": "python",
   "pygments_lexer": "ipython2",
   "version": "2.7.12"
  }
 },
 "nbformat": 4,
 "nbformat_minor": 0
}
