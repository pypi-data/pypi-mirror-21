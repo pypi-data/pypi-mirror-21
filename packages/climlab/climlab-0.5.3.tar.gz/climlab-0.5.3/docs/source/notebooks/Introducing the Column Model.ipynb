{
 "cells": [
  {
   "cell_type": "markdown",
   "metadata": {},
   "source": [
    "# Introducing the Column Model"
   ]
  },
  {
   "cell_type": "markdown",
   "metadata": {},
   "source": [
    "## About this exercise:"
   ]
  },
  {
   "cell_type": "markdown",
   "metadata": {},
   "source": [
    "There are two goals for this (hopefully straightforward) exercise:\n",
    "\n",
    "1. To introduce you to working with files and modules in Python\n",
    "2. To introduce the column radiation model\n",
    "\n",
    "We will be working with this same model code for the next few weeks.\n",
    "\n",
    "Your job is to go through the whole exercise. There are 3 questions clearly marked below for you to answer. Hand in ONLY your answers to those questions."
   ]
  },
  {
   "cell_type": "markdown",
   "metadata": {},
   "source": [
    "#### Please DO NOT just copy and paste the examples from here. Type them in yourself! This is MUCH better way to learn what you are doing."
   ]
  },
  {
   "cell_type": "markdown",
   "metadata": {},
   "source": [
    "### Answers are due on Tuesday February 25, 2014"
   ]
  },
  {
   "cell_type": "markdown",
   "metadata": {},
   "source": [
    "## About Python modules:"
   ]
  },
  {
   "cell_type": "markdown",
   "metadata": {},
   "source": [
    "Every time we use the import statement in Python, the interpreter loads instructions from a file, usually with the extension .py at the end of the file name.\n",
    "\n",
    "For example if we typed 'import foo' the interpreter would try to open and read a file called 'foo.py'\n",
    "\n",
    "This file would contain the same types of Python code that you have been entering manually on the command line, e.g. definitions of variables and functions.\n",
    "\n",
    "The real beauty of the import statement is that it makes the Python language very modular. With one 'import' we can have access to all kinds of useful code.\n",
    "\n",
    "To then access variables and functions in a module, we usually type the name of the module, followed by period (.), followed by the variable or function name. You've already seen a bit of this with the netCDF4 module you used in the last homework. You'll practice these skills again here."
   ]
  },
  {
   "cell_type": "code",
   "execution_count": 1,
   "metadata": {
    "collapsed": false
   },
   "outputs": [],
   "source": [
    "%matplotlib inline\n",
    "import numpy as np\n",
    "import climlab\n",
    "from climlab import constants as const"
   ]
  },
  {
   "cell_type": "markdown",
   "metadata": {},
   "source": [
    "## Creating a new instance of the Column Model"
   ]
  },
  {
   "cell_type": "markdown",
   "metadata": {},
   "source": [
    "To begin working with the model, we just need to tell Python to create a new object called a `mycolumn` that implements a grey radiation model.\n",
    "\n",
    "Try this:"
   ]
  },
  {
   "cell_type": "code",
   "execution_count": 2,
   "metadata": {
    "collapsed": false
   },
   "outputs": [],
   "source": [
    "mycolumn = climlab.GreyRadiationModel( num_lev=2 )"
   ]
  },
  {
   "cell_type": "markdown",
   "metadata": {},
   "source": [
    "You have just created a new column object. What is that? Let's take a look:"
   ]
  },
  {
   "cell_type": "code",
   "execution_count": 3,
   "metadata": {
    "collapsed": false
   },
   "outputs": [
    {
     "name": "stdout",
     "output_type": "stream",
     "text": [
      "climlab Process of type <class 'climlab.model.column.GreyRadiationModel'>. \n",
      "State variables and domain shapes: \n",
      "  Tatm: (2,) \n",
      "  Ts: (1,) \n",
      "The subprocess tree: \n",
      "top: <class 'climlab.model.column.GreyRadiationModel'>\n",
      "   LW: <class 'climlab.radiation.greygas.GreyGas'>\n",
      "   SW: <class 'climlab.radiation.greygas.GreyGasSW'>\n",
      "   insolation: <class 'climlab.radiation.insolation.FixedInsolation'>\n",
      "\n"
     ]
    }
   ],
   "source": [
    "print mycolumn"
   ]
  },
  {
   "cell_type": "markdown",
   "metadata": {},
   "source": [
    "Try just typing mycolumn. and then hitting the tab key. You should see a list pop up. Everything on that list is the name of some object that is contained within mycolumn.\n",
    "\n",
    "\"Object\" is a very general concept. Everything in Python that has a name is an object. This includes variables (numbers, character strings, etc.), but also functions.\n",
    "\n",
    "Our object called mycolumn contains a bunch of data, and it also contains some functions that operate on those data.\n",
    "\n",
    "Try this:"
   ]
  },
  {
   "cell_type": "code",
   "execution_count": 4,
   "metadata": {
    "collapsed": false
   },
   "outputs": [
    {
     "name": "stdout",
     "output_type": "stream",
     "text": [
      "{'Tatm': Field([ 200.,  278.]), 'Ts': Field([ 288.])}\n"
     ]
    }
   ],
   "source": [
    "print mycolumn.state"
   ]
  },
  {
   "cell_type": "markdown",
   "metadata": {},
   "source": [
    "We will use the column object to model temperature in a column. What you just did above was to look at the temperatures currently stored in mycolumn, for the surface (a single number), and the atmosphere.\n",
    "\n",
    "When you created mycolumn a few lines ago, you specifically asked for a column with 2 levels in the atmosphere.\n",
    "\n",
    "We can see where those levels are in the atmosphere as follows:"
   ]
  },
  {
   "cell_type": "code",
   "execution_count": 5,
   "metadata": {
    "collapsed": false
   },
   "outputs": [
    {
     "name": "stdout",
     "output_type": "stream",
     "text": [
      "[ 250.  750.]\n",
      "[ 250.  750.]\n",
      "[ 250.  750.]\n"
     ]
    }
   ],
   "source": [
    "#  Three ways to get this:\n",
    "print mycolumn.lev\n",
    "print mycolumn.Tatm.domain.axes['lev'].points\n",
    "print mycolumn.domains['Tatm'].axes['lev'].points"
   ]
  },
  {
   "cell_type": "markdown",
   "metadata": {},
   "source": [
    "which is actually the pressure (in mb or hPa) at which we are specifying the temperature -- in this case essentially the lower and upper troposphere."
   ]
  },
  {
   "cell_type": "markdown",
   "metadata": {},
   "source": [
    "### So what does this code actually do?"
   ]
  },
  {
   "cell_type": "markdown",
   "metadata": {},
   "source": [
    "It calculates the warming and cooling of the air and the surface based on the grey radition approximation that we have looked at in class.\n",
    "\n",
    "I encourage you to look through the code. Try typing this:"
   ]
  },
  {
   "cell_type": "raw",
   "metadata": {},
   "source": [
    "edit ColumnModel"
   ]
  },
  {
   "cell_type": "markdown",
   "metadata": {},
   "source": [
    "You should find that the code is now displayed in your editor window. Have a look, but obviously don't fret about not understanding it at this point.\n",
    "\n",
    "Notice, though, that there are lots of comments sprinkled throughout the code. Comments in Python begin with # and are just words to help us understand the code. Comments are never executed by the Python interpreter.\n",
    "\n",
    "Convince yourself of this by typing something like this:"
   ]
  },
  {
   "cell_type": "code",
   "execution_count": 6,
   "metadata": {
    "collapsed": false
   },
   "outputs": [],
   "source": [
    "# this is not valid Python code"
   ]
  },
  {
   "cell_type": "markdown",
   "metadata": {},
   "source": [
    "You might want to try typing the same thing without the # in front."
   ]
  },
  {
   "cell_type": "code",
   "execution_count": 7,
   "metadata": {
    "collapsed": false
   },
   "outputs": [
    {
     "ename": "SyntaxError",
     "evalue": "invalid syntax (<ipython-input-7-146db698be12>, line 1)",
     "output_type": "error",
     "traceback": [
      "\u001b[0;36m  File \u001b[0;32m\"<ipython-input-7-146db698be12>\"\u001b[0;36m, line \u001b[0;32m1\u001b[0m\n\u001b[0;31m    this is not valid Python code\u001b[0m\n\u001b[0m                           ^\u001b[0m\n\u001b[0;31mSyntaxError\u001b[0m\u001b[0;31m:\u001b[0m invalid syntax\n"
     ]
    }
   ],
   "source": [
    "this is not valid Python code"
   ]
  },
  {
   "cell_type": "markdown",
   "metadata": {},
   "source": [
    "### OK but what does this code actually do?"
   ]
  },
  {
   "cell_type": "markdown",
   "metadata": {},
   "source": [
    "It calculates the warming and cooling of the air and the surface based on the grey radition approximation that we have looked at in class.\n",
    "\n",
    "Try this:"
   ]
  },
  {
   "cell_type": "code",
   "execution_count": 8,
   "metadata": {
    "collapsed": false
   },
   "outputs": [
    {
     "name": "stdout",
     "output_type": "stream",
     "text": [
      "[-205.79241571]\n",
      "[  87.88678511 -116.45384996]\n"
     ]
    }
   ],
   "source": [
    "mycolumn.compute_diagnostics()\n",
    "print mycolumn.LW_absorbed_sfc\n",
    "print mycolumn.LW_absorbed_atm"
   ]
  },
  {
   "cell_type": "markdown",
   "metadata": {},
   "source": [
    "What you just did was to call a function Longwave_Heating() that calculates how much longwave radiation is emitted up and down from each layer, and how much is absorbed by each layer (and the surface).\n",
    "\n",
    "You then printed out some quantities that were calculated and stored by the function, which are actually the heating rates at each level in W / m$^2$\n",
    "\n",
    "Now try this:"
   ]
  },
  {
   "cell_type": "code",
   "execution_count": 9,
   "metadata": {
    "collapsed": false
   },
   "outputs": [
    {
     "name": "stdout",
     "output_type": "stream",
     "text": [
      "[ 239.2513]\n",
      "[ 0.  0.]\n"
     ]
    }
   ],
   "source": [
    "print mycolumn.SW_absorbed_sfc\n",
    "print mycolumn.SW_absorbed_atm"
   ]
  },
  {
   "cell_type": "markdown",
   "metadata": {},
   "source": [
    "Hopefully this makes sense. Our code also calculates the energy absorbed due to shortwave (solar) radiation. The atmosphere is transparent to solar radiation in this model, so the absorption all occurs at the surface.\n",
    "\n",
    "Look in the code file to find where the function Shortwave_Heating() is defined. It's really just calculating\n",
    "$(1-\\alpha) Q$ based on some default parameter values for $\\alpha$ and $Q$. We'll think about changing the defaults later."
   ]
  },
  {
   "cell_type": "markdown",
   "metadata": {},
   "source": [
    "### Energy (im)balance in the column"
   ]
  },
  {
   "cell_type": "markdown",
   "metadata": {},
   "source": [
    "To get the total energy sources and sinks at each point, we just need to add up the shortwave and longwave terms:"
   ]
  },
  {
   "cell_type": "code",
   "execution_count": 10,
   "metadata": {
    "collapsed": false
   },
   "outputs": [
    {
     "name": "stdout",
     "output_type": "stream",
     "text": [
      "[  87.88678511 -116.45384996]\n",
      "[ 33.45888429]\n"
     ]
    }
   ],
   "source": [
    "print mycolumn.LW_absorbed_atm + mycolumn.SW_absorbed_atm\n",
    "print mycolumn.LW_absorbed_sfc + mycolumn.SW_absorbed_sfc"
   ]
  },
  {
   "cell_type": "markdown",
   "metadata": {},
   "source": [
    "\n",
    "Evidently this column is NOT in energy balance! The surface is gaining energy at a rate 33 W / m$^2$, the lower atmosphere is losing energy at 116 W / m$^2$, and the upper atmosphere is gaining nearly 90 W / m$^2$."
   ]
  },
  {
   "cell_type": "markdown",
   "metadata": {},
   "source": [
    "### OK so what?"
   ]
  },
  {
   "cell_type": "markdown",
   "metadata": {},
   "source": [
    "The code will not just calculate the energy imbalance, but also change the temperatures in response to the imbalance. It does this by time-stepping, just like we did with the zero-dimensional model in the first homework."
   ]
  },
  {
   "cell_type": "code",
   "execution_count": 11,
   "metadata": {
    "collapsed": false
   },
   "outputs": [
    {
     "name": "stdout",
     "output_type": "stream",
     "text": [
      "{'Tatm': Field([ 201.48238045,  276.0357808 ]), 'Ts': Field([ 288.69137531])}\n"
     ]
    }
   ],
   "source": [
    "mycolumn.step_forward()\n",
    "print mycolumn.state"
   ]
  },
  {
   "cell_type": "markdown",
   "metadata": {},
   "source": [
    "Here you just called a function `step_forward()` that computes the energy imbalance as you just did above, and then uses that imbalance to adjust the temperatures."
   ]
  },
  {
   "cell_type": "markdown",
   "metadata": {},
   "source": [
    "## HOMEWORK QUESTION 1"
   ]
  },
  {
   "cell_type": "markdown",
   "metadata": {},
   "source": [
    "Have the temperatures gone up or down at the surface and at each level from where they started? Why?\n",
    "\n",
    "(This is an easy question, not a trick question)"
   ]
  },
  {
   "cell_type": "markdown",
   "metadata": {},
   "source": [
    "## Timestepping to equilibrium"
   ]
  },
  {
   "cell_type": "markdown",
   "metadata": {},
   "source": [
    "Just like we did with the zero-dimensional model in the first homework, we will use loops to time-step the model towards equilibrium. Try this:"
   ]
  },
  {
   "cell_type": "code",
   "execution_count": 12,
   "metadata": {
    "collapsed": false
   },
   "outputs": [
    {
     "name": "stdout",
     "output_type": "stream",
     "text": [
      "[ 289.22566617]\n",
      "[ 289.63070626]\n",
      "[ 289.92977194]\n",
      "[ 290.14229416]\n",
      "[ 290.28446635]\n",
      "[ 290.36976133]\n",
      "[ 290.40936944]\n",
      "[ 290.41256879]\n",
      "[ 290.38703728]\n",
      "[ 290.33911515]\n"
     ]
    }
   ],
   "source": [
    "for n in range(10):\n",
    "    mycolumn.step_forward()\n",
    "    print mycolumn.Ts\n"
   ]
  },
  {
   "cell_type": "markdown",
   "metadata": {},
   "source": [
    "This little loop just repeated the call to Step_Forward 10 times, and printed out the surface temperature after each time step.\n",
    "\n",
    "Notice that the temperature is changing each time. That means we are not at equilibrium. Try it again!"
   ]
  },
  {
   "cell_type": "code",
   "execution_count": 13,
   "metadata": {
    "collapsed": false
   },
   "outputs": [
    {
     "name": "stdout",
     "output_type": "stream",
     "text": [
      "[ 290.27402541]\n",
      "[ 290.19605881]\n",
      "[ 290.10872876]\n",
      "[ 290.01490115]\n",
      "[ 289.91690295]\n",
      "[ 289.81661304]\n",
      "[ 289.71553825]\n",
      "[ 289.61487688]\n",
      "[ 289.51557179]\n",
      "[ 289.41835483]\n"
     ]
    }
   ],
   "source": [
    "for n in range(10):\n",
    "    mycolumn.step_forward()\n",
    "    print mycolumn.Ts"
   ]
  },
  {
   "cell_type": "markdown",
   "metadata": {},
   "source": [
    "Still changing, but not by as much.\n",
    "\n",
    "Here's a trick:"
   ]
  },
  {
   "cell_type": "code",
   "execution_count": 14,
   "metadata": {
    "collapsed": false
   },
   "outputs": [
    {
     "name": "stdout",
     "output_type": "stream",
     "text": [
      "Integrating for 109 steps, 109.57266 days, or 0.3 years.\n",
      "Total elapsed time is 0.355928203258 years.\n",
      "[ 287.80463186]\n"
     ]
    }
   ],
   "source": [
    "mycolumn.integrate_years(0.3)\n",
    "print mycolumn.Ts"
   ]
  },
  {
   "cell_type": "markdown",
   "metadata": {},
   "source": [
    "What you just did was to loop through the time-stepping procedure 100 times!\n",
    "\n",
    "Look at the code and find the function Step_Forward(). Do you see how the code creates a loop?\n",
    "\n",
    "In this case the function Step_Forward() takes an optional input argument which is the number of iterations through the loop. This number defaults to 1 if we don't specify it, which is what happened above!\n",
    "\n",
    "Has the model reached equilibrium yet? We can always keep on time-stepping and see if anything changes:"
   ]
  },
  {
   "cell_type": "code",
   "execution_count": 15,
   "metadata": {
    "collapsed": false
   },
   "outputs": [
    {
     "name": "stdout",
     "output_type": "stream",
     "text": [
      "Integrating for 109 steps, 109.57266 days, or 0.3 years.\n",
      "Total elapsed time is 0.654360312144 years.\n",
      "[ 287.84175315]\n"
     ]
    }
   ],
   "source": [
    "mycolumn.integrate_years(0.3)\n",
    "print mycolumn.Ts"
   ]
  },
  {
   "cell_type": "markdown",
   "metadata": {},
   "source": [
    "The changes are now minimal, and it is close to equilibrium.\n",
    "\n",
    "Let's look at the whole column temperature:"
   ]
  },
  {
   "cell_type": "code",
   "execution_count": 16,
   "metadata": {
    "collapsed": false
   },
   "outputs": [
    {
     "name": "stdout",
     "output_type": "stream",
     "text": [
      "Tatm [ 229.4276408   252.94283401]\n",
      "Ts [ 287.84175315]\n"
     ]
    }
   ],
   "source": [
    "for key, item in mycolumn.state.iteritems():\n",
    "    print key, item"
   ]
  },
  {
   "cell_type": "code",
   "execution_count": 17,
   "metadata": {
    "collapsed": false
   },
   "outputs": [
    {
     "data": {
      "text/plain": [
       "{'ASR': array([ 239.2513]),\n",
       " 'LW_absorbed_atm': array([ 0.01151376,  0.00957817]),\n",
       " 'LW_absorbed_sfc': Field([-239.24671907]),\n",
       " 'LW_down_sfc': array([ 150.00060273]),\n",
       " 'LW_emission': Field([  74.99816428,  110.80463068]),\n",
       " 'LW_up_sfc': Field([ 389.2473218]),\n",
       " 'OLR': array([ 239.22562713]),\n",
       " 'SW_absorbed_atm': array([ 0.,  0.]),\n",
       " 'SW_absorbed_sfc': Field([ 239.2513]),\n",
       " 'SW_down_TOA': array([ 341.3]),\n",
       " 'SW_up_TOA': array([ 102.0487]),\n",
       " 'SW_up_sfc': Field([ 102.0487]),\n",
       " 'absorbed': array([ 0.,  0.]),\n",
       " 'absorbed_total': 0.0,\n",
       " 'emission': Field([ 0.,  0.]),\n",
       " 'emission_sfc': Field([ 0.]),\n",
       " 'flux_from_sfc': Field([ 102.0487]),\n",
       " 'flux_reflected_up': array([   0.    ,    0.    ,  102.0487]),\n",
       " 'flux_to_sfc': array([ 341.3]),\n",
       " 'flux_to_space': array([ 102.0487]),\n",
       " 'insolation': array([ 341.3]),\n",
       " 'planetary_albedo': array([ 0.299])}"
      ]
     },
     "execution_count": 17,
     "metadata": {},
     "output_type": "execute_result"
    }
   ],
   "source": [
    "mycolumn.diagnostics"
   ]
  },
  {
   "cell_type": "markdown",
   "metadata": {},
   "source": [
    "## HOMEWORK QUESTION 2"
   ]
  },
  {
   "cell_type": "markdown",
   "metadata": {},
   "source": [
    "Compare the temperatures you found here (after time-stepping to equilibrium) with the radiative equilibrium temperatures we derived in class for this same model. Do they agree?"
   ]
  },
  {
   "cell_type": "markdown",
   "metadata": {},
   "source": [
    "### Greenhouse warming in the 2-layer model"
   ]
  },
  {
   "cell_type": "markdown",
   "metadata": {},
   "source": [
    "Now that our column is in equilibrium, let's look at the Outgoing Longwave Radiation. The model keeps track of this for us:"
   ]
  },
  {
   "cell_type": "code",
   "execution_count": 18,
   "metadata": {
    "collapsed": false
   },
   "outputs": [
    {
     "name": "stdout",
     "output_type": "stream",
     "text": [
      "[ 239.22562713]\n"
     ]
    }
   ],
   "source": [
    "print mycolumn.OLR"
   ]
  },
  {
   "cell_type": "markdown",
   "metadata": {},
   "source": [
    "This should hopefully be almost exactly equal to the shortwave absorption:"
   ]
  },
  {
   "cell_type": "code",
   "execution_count": 19,
   "metadata": {
    "collapsed": false
   },
   "outputs": [
    {
     "name": "stdout",
     "output_type": "stream",
     "text": [
      "[ 239.2513]\n"
     ]
    }
   ],
   "source": [
    "print mycolumn.ASR"
   ]
  },
  {
   "cell_type": "markdown",
   "metadata": {},
   "source": [
    "Now you are going to do a \"global warming\" experiment, like we started in class.\n",
    "\n",
    "The following will increase the emissivity / absorptivity of each layer by 10%, which is analagous to an increase in greenhouse gases in the atmosphere:"
   ]
  },
  {
   "cell_type": "code",
   "execution_count": 20,
   "metadata": {
    "collapsed": false
   },
   "outputs": [
    {
     "name": "stdout",
     "output_type": "stream",
     "text": [
      "[ 0.47737425  0.47737425]\n",
      "[ 0.52511167  0.52511167]\n"
     ]
    }
   ],
   "source": [
    "#  Make an exact clone of the model\n",
    "column2 = climlab.process_like(mycolumn)\n",
    "absorptivity = column2.subprocess['LW'].absorptivity\n",
    "print absorptivity\n",
    "column2.subprocess['LW'].absorptivity *= 1.1 \n",
    "print column2.subprocess['LW'].absorptivity"
   ]
  },
  {
   "cell_type": "markdown",
   "metadata": {},
   "source": [
    "Let's now re-calculate the longwave radiation with this new value of eps:"
   ]
  },
  {
   "cell_type": "code",
   "execution_count": 21,
   "metadata": {
    "collapsed": false
   },
   "outputs": [],
   "source": [
    "column2.compute_diagnostics()"
   ]
  },
  {
   "cell_type": "markdown",
   "metadata": {},
   "source": [
    "## HOMEWORK QUESTION 3"
   ]
  },
  {
   "cell_type": "markdown",
   "metadata": {},
   "source": [
    "Find the new value of OLR after this change. Is it larger or smaller than it was before we added greenhouse gases? What do you think should happen to the surface temperature as a result? Why?"
   ]
  },
  {
   "cell_type": "code",
   "execution_count": 22,
   "metadata": {
    "collapsed": false
   },
   "outputs": [
    {
     "name": "stdout",
     "output_type": "stream",
     "text": [
      "[ 228.1635001]\n"
     ]
    }
   ],
   "source": [
    "print column2.OLR"
   ]
  },
  {
   "cell_type": "code",
   "execution_count": 23,
   "metadata": {
    "collapsed": false
   },
   "outputs": [
    {
     "data": {
      "text/plain": [
       "{'ASR': array([ 239.2513]),\n",
       " 'LW_absorbed_atm': array([-3.92683254,  3.94836693]),\n",
       " 'LW_absorbed_sfc': Field([-228.18503449]),\n",
       " 'LW_down_sfc': array([ 161.0633006]),\n",
       " 'LW_emission': Field([  82.49853342,  121.88571002]),\n",
       " 'LW_up_sfc': Field([ 389.24833509]),\n",
       " 'OLR': array([ 228.1635001]),\n",
       " 'SW_absorbed_atm': array([ 0.,  0.]),\n",
       " 'SW_absorbed_sfc': Field([ 239.2513]),\n",
       " 'SW_down_TOA': array([ 341.3]),\n",
       " 'SW_up_TOA': array([ 102.0487]),\n",
       " 'SW_up_sfc': Field([ 102.0487]),\n",
       " 'absorbed': array([ 0.,  0.]),\n",
       " 'absorbed_total': 0.0,\n",
       " 'emission': Field([ 0.,  0.]),\n",
       " 'emission_sfc': Field([ 0.]),\n",
       " 'flux_from_sfc': Field([ 102.0487]),\n",
       " 'flux_reflected_up': array([   0.    ,    0.    ,  102.0487]),\n",
       " 'flux_to_sfc': array([ 341.3]),\n",
       " 'flux_to_space': array([ 102.0487]),\n",
       " 'insolation': array([ 341.3]),\n",
       " 'planetary_albedo': array([ 0.299])}"
      ]
     },
     "execution_count": 23,
     "metadata": {},
     "output_type": "execute_result"
    }
   ],
   "source": [
    "column2.diagnostics"
   ]
  },
  {
   "cell_type": "code",
   "execution_count": null,
   "metadata": {
    "collapsed": false
   },
   "outputs": [],
   "source": []
  }
 ],
 "metadata": {
  "kernelspec": {
   "display_name": "Python [default]",
   "language": "python",
   "name": "python2"
  },
  "language_info": {
   "codemirror_mode": {
    "name": "ipython",
    "version": 2
   },
   "file_extension": ".py",
   "mimetype": "text/x-python",
   "name": "python",
   "nbconvert_exporter": "python",
   "pygments_lexer": "ipython2",
   "version": "2.7.12"
  }
 },
 "nbformat": 4,
 "nbformat_minor": 0
}
