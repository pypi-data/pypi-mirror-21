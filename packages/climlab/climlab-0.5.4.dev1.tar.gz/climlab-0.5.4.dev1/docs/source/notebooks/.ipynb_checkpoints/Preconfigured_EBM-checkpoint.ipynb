{
 "cells": [
  {
   "cell_type": "markdown",
   "metadata": {},
   "source": [
    "# Preconfigured Energy Balance Models"
   ]
  },
  {
   "cell_type": "markdown",
   "metadata": {},
   "source": [
    "In this document the basic use of climlab's preconfigured EBM class is shown. \n",
    "\n",
    "Contents are how to\n",
    "\n",
    "  * setup an EBM model\n",
    "  * show and access subprocesses\n",
    "  * integrate the model\n",
    "  * access and plot various model variables\n",
    "  * calculate the global mean of the temperature"
   ]
  },
  {
   "cell_type": "code",
   "execution_count": 1,
   "metadata": {
    "collapsed": false
   },
   "outputs": [],
   "source": [
    "# import header\n",
    "\n",
    "%matplotlib inline\n",
    "import numpy as np\n",
    "import matplotlib.pyplot as plt\n",
    "import climlab\n",
    "from climlab import constants as const\n",
    "from climlab.domain.field import global_mean"
   ]
  },
  {
   "cell_type": "markdown",
   "metadata": {},
   "source": [
    "### Model Creation"
   ]
  },
  {
   "cell_type": "markdown",
   "metadata": {},
   "source": [
    "The regular path for the EBM class is ``climlab.model.ebm.EBM`` but it can also be accessed through ``climlab.EBM``\n",
    "\n",
    "An EBM model instance is created through"
   ]
  },
  {
   "cell_type": "code",
   "execution_count": 2,
   "metadata": {
    "collapsed": true
   },
   "outputs": [],
   "source": [
    "# model creation\n",
    "ebm_model = climlab.EBM()"
   ]
  },
  {
   "cell_type": "markdown",
   "metadata": {},
   "source": [
    "By default many parameters are set during initialization:\n",
    "\n",
    "``num_lat=90, S0=const.S0, A=210., B=2., D=0.55, water_depth=10., Tf=-10, a0=0.3, a2=0.078, ai=0.62, timestep=const.seconds_per_year/90., T0=12., T2=-40``\n",
    "\n",
    "For further details see the climlab documentation.\n",
    "\n",
    "Many of the input parameters are stored in the following dictionary:"
   ]
  },
  {
   "cell_type": "code",
   "execution_count": 3,
   "metadata": {
    "collapsed": false
   },
   "outputs": [
    {
     "data": {
      "text/plain": [
       "{'A': 210.0,\n",
       " 'B': 2.0,\n",
       " 'D': 0.555,\n",
       " 'S0': 1365.2,\n",
       " 'Tf': -10.0,\n",
       " 'a0': 0.3,\n",
       " 'a2': 0.078,\n",
       " 'ai': 0.62,\n",
       " 'timestep': 350632.51200000005,\n",
       " 'water_depth': 10.0}"
      ]
     },
     "execution_count": 3,
     "metadata": {},
     "output_type": "execute_result"
    }
   ],
   "source": [
    "# print model parameters\n",
    "ebm_model.param"
   ]
  },
  {
   "cell_type": "markdown",
   "metadata": {},
   "source": [
    "The model consists of one state variable (surface temperature) and a couple of defined subprocesses."
   ]
  },
  {
   "cell_type": "code",
   "execution_count": 4,
   "metadata": {
    "collapsed": false
   },
   "outputs": [
    {
     "name": "stdout",
     "output_type": "stream",
     "text": [
      "climlab Process of type <class 'climlab.model.ebm.EBM'>. \n",
      "State variables and domain shapes: \n",
      "  Ts: (90, 1) \n",
      "The subprocess tree: \n",
      "top: <class 'climlab.model.ebm.EBM'>\n",
      "   diffusion: <class 'climlab.dynamics.diffusion.MeridionalDiffusion'>\n",
      "   LW: <class 'climlab.radiation.AplusBT.AplusBT'>\n",
      "   albedo: <class 'climlab.surface.albedo.StepFunctionAlbedo'>\n",
      "      iceline: <class 'climlab.surface.albedo.Iceline'>\n",
      "      cold_albedo: <class 'climlab.surface.albedo.ConstantAlbedo'>\n",
      "      warm_albedo: <class 'climlab.surface.albedo.P2Albedo'>\n",
      "   insolation: <class 'climlab.radiation.insolation.P2Insolation'>\n",
      "\n"
     ]
    }
   ],
   "source": [
    "# print model states and suprocesses\n",
    "print ebm_model"
   ]
  },
  {
   "cell_type": "markdown",
   "metadata": {},
   "source": [
    "### Model subprocesses"
   ]
  },
  {
   "cell_type": "markdown",
   "metadata": {},
   "source": [
    "The subprocesses are stored in a dictionary and can be accessed through"
   ]
  },
  {
   "cell_type": "code",
   "execution_count": 5,
   "metadata": {
    "collapsed": false
   },
   "outputs": [
    {
     "data": {
      "text/plain": [
       "['diffusion', 'LW', 'albedo', 'insolation']"
      ]
     },
     "execution_count": 5,
     "metadata": {},
     "output_type": "execute_result"
    }
   ],
   "source": [
    "# access model subprocesses\n",
    "ebm_model.subprocess.keys()"
   ]
  },
  {
   "cell_type": "markdown",
   "metadata": {},
   "source": [
    "So to access the time type of the Longwave Radiation subprocess for example, type:"
   ]
  },
  {
   "cell_type": "code",
   "execution_count": 6,
   "metadata": {
    "collapsed": false
   },
   "outputs": [
    {
     "data": {
      "text/plain": [
       "'explicit'"
      ]
     },
     "execution_count": 6,
     "metadata": {},
     "output_type": "execute_result"
    }
   ],
   "source": [
    "# access specific subprocess through dictionary\n",
    "ebm_model.subprocess['LW'].time_type"
   ]
  },
  {
   "cell_type": "markdown",
   "metadata": {},
   "source": [
    "### Model integration"
   ]
  },
  {
   "cell_type": "markdown",
   "metadata": {},
   "source": [
    "The model time dictionary shows information about all the time related content and quantities."
   ]
  },
  {
   "cell_type": "code",
   "execution_count": 7,
   "metadata": {
    "collapsed": false
   },
   "outputs": [
    {
     "data": {
      "text/plain": [
       "{'day_of_year_index': 0,\n",
       " 'days_elapsed': 0,\n",
       " 'days_of_year': array([   0.        ,    4.05824667,    8.11649333,   12.17474   ,\n",
       "          16.23298667,   20.29123333,   24.34948   ,   28.40772667,\n",
       "          32.46597333,   36.52422   ,   40.58246667,   44.64071333,\n",
       "          48.69896   ,   52.75720667,   56.81545333,   60.8737    ,\n",
       "          64.93194667,   68.99019333,   73.04844   ,   77.10668667,\n",
       "          81.16493333,   85.22318   ,   89.28142667,   93.33967333,\n",
       "          97.39792   ,  101.45616667,  105.51441333,  109.57266   ,\n",
       "         113.63090667,  117.68915333,  121.7474    ,  125.80564667,\n",
       "         129.86389333,  133.92214   ,  137.98038667,  142.03863333,\n",
       "         146.09688   ,  150.15512667,  154.21337333,  158.27162   ,\n",
       "         162.32986667,  166.38811333,  170.44636   ,  174.50460667,\n",
       "         178.56285333,  182.6211    ,  186.67934667,  190.73759333,\n",
       "         194.79584   ,  198.85408667,  202.91233333,  206.97058   ,\n",
       "         211.02882667,  215.08707333,  219.14532   ,  223.20356667,\n",
       "         227.26181333,  231.32006   ,  235.37830667,  239.43655333,\n",
       "         243.4948    ,  247.55304667,  251.61129333,  255.66954   ,\n",
       "         259.72778667,  263.78603333,  267.84428   ,  271.90252667,\n",
       "         275.96077333,  280.01902   ,  284.07726667,  288.13551333,\n",
       "         292.19376   ,  296.25200667,  300.31025333,  304.3685    ,\n",
       "         308.42674667,  312.48499333,  316.54324   ,  320.60148667,\n",
       "         324.65973333,  328.71798   ,  332.77622667,  336.83447333,\n",
       "         340.89272   ,  344.95096667,  349.00921333,  353.06746   ,\n",
       "         357.12570667,  361.18395333]),\n",
       " 'num_steps_per_year': 90.0,\n",
       " 'steps': 0,\n",
       " 'timestep': 350632.51200000005,\n",
       " 'years_elapsed': 0}"
      ]
     },
     "execution_count": 7,
     "metadata": {},
     "output_type": "execute_result"
    }
   ],
   "source": [
    "# accessing the model time dictionary\n",
    "ebm_model.time"
   ]
  },
  {
   "cell_type": "markdown",
   "metadata": {},
   "source": [
    "To integrate the model forward in time different methods are availible: "
   ]
  },
  {
   "cell_type": "code",
   "execution_count": 8,
   "metadata": {
    "collapsed": false
   },
   "outputs": [],
   "source": [
    "# integrate model for a single timestep\n",
    "ebm_model.step_forward()"
   ]
  },
  {
   "cell_type": "markdown",
   "metadata": {},
   "source": [
    "The model time step has increased from 0 to 1:"
   ]
  },
  {
   "cell_type": "code",
   "execution_count": 9,
   "metadata": {
    "collapsed": false
   },
   "outputs": [
    {
     "data": {
      "text/plain": [
       "1"
      ]
     },
     "execution_count": 9,
     "metadata": {},
     "output_type": "execute_result"
    }
   ],
   "source": [
    "ebm_model.time['steps']"
   ]
  },
  {
   "cell_type": "code",
   "execution_count": 10,
   "metadata": {
    "collapsed": false
   },
   "outputs": [
    {
     "name": "stdout",
     "output_type": "stream",
     "text": [
      "Integrating for 12 steps, 50.0 days, or 0.136895462792 years.\n",
      "Total elapsed time is 0.144444444444 years.\n"
     ]
    }
   ],
   "source": [
    "# integrate model for a 50 days\n",
    "ebm_model.integrate_days(50.)"
   ]
  },
  {
   "cell_type": "code",
   "execution_count": 11,
   "metadata": {
    "collapsed": false
   },
   "outputs": [
    {
     "name": "stdout",
     "output_type": "stream",
     "text": [
      "Integrating for 90 steps, 365.2422 days, or 1.0 years.\n",
      "Total elapsed time is 1.14444444444 years.\n"
     ]
    }
   ],
   "source": [
    "# integrate model for two years\n",
    "ebm_model.integrate_years(1.)"
   ]
  },
  {
   "cell_type": "code",
   "execution_count": 12,
   "metadata": {
    "collapsed": false
   },
   "outputs": [
    {
     "name": "stdout",
     "output_type": "stream",
     "text": [
      "Total elapsed time is 9.14444444444 years.\n"
     ]
    }
   ],
   "source": [
    "# integrate model until solution converges\n",
    "ebm_model.integrate_converge()"
   ]
  },
  {
   "cell_type": "markdown",
   "metadata": {
    "collapsed": true
   },
   "source": [
    "## Plotting model variables"
   ]
  },
  {
   "cell_type": "markdown",
   "metadata": {},
   "source": [
    "A couple of interesting model variables are stored in a dictionary named ``diagnostics``. It has following entries:"
   ]
  },
  {
   "cell_type": "code",
   "execution_count": 13,
   "metadata": {
    "collapsed": false
   },
   "outputs": [
    {
     "data": {
      "text/plain": [
       "['ASR', 'OLR', 'icelat', 'net_radiation', 'albedo', 'insolation']"
      ]
     },
     "execution_count": 13,
     "metadata": {},
     "output_type": "execute_result"
    }
   ],
   "source": [
    "ebm_model.diagnostics.keys()"
   ]
  },
  {
   "cell_type": "markdown",
   "metadata": {},
   "source": [
    "They can be accessed respecively to the keys through ``ebm_model.diagnostics['ASR']``. Most of them can be also accessed directly as model attributes like:"
   ]
  },
  {
   "cell_type": "code",
   "execution_count": 14,
   "metadata": {
    "collapsed": false
   },
   "outputs": [
    {
     "data": {
      "text/plain": [
       "array([-70.,  70.])"
      ]
     },
     "execution_count": 14,
     "metadata": {},
     "output_type": "execute_result"
    }
   ],
   "source": [
    "ebm_model.icelat"
   ]
  },
  {
   "cell_type": "markdown",
   "metadata": {},
   "source": [
    "The following code does the plotting for some model variables."
   ]
  },
  {
   "cell_type": "code",
   "execution_count": 15,
   "metadata": {
    "collapsed": false,
    "scrolled": false
   },
   "outputs": [
    {
     "data": {
      "image/png": "[encoded data removed]",
      "text/plain": [
       "<matplotlib.figure.Figure at 0x7f5138a45810>"
      ]
     },
     "metadata": {},
     "output_type": "display_data"
    }
   ],
   "source": [
    "# creating plot figure\n",
    "fig = plt.figure(figsize=(15,10))\n",
    "\n",
    "# Temperature plot\n",
    "ax1 = fig.add_subplot(221)\n",
    "ax1.plot(ebm_model.lat,ebm_model.Ts)\n",
    "\n",
    "ax1.set_xticks([-90,-60,-30,0,30,60,90])\n",
    "ax1.set_xlim([-90,90])\n",
    "ax1.set_xlabel('latitude')\n",
    "ax1.set_ylabel('surface temperature (degC)', fontsize=12)\n",
    "ax1.grid()\n",
    "\n",
    "# Albedo plot\n",
    "ax2 = fig.add_subplot(223, sharex = ax1)\n",
    "ax2.plot(ebm_model.lat,ebm_model.albedo)\n",
    "\n",
    "ax2.set_ylabel('albedo', fontsize=12)\n",
    "ax2.set_ylim([0,1])\n",
    "ax2.grid()\n",
    "\n",
    "# Net Radiation plot\n",
    "ax3 = fig.add_subplot(222, sharex = ax1)\n",
    "ax3.plot(ebm_model.lat, ebm_model.OLR, label='OLR',\n",
    "                                         color='cyan')\n",
    "ax3.plot(ebm_model.lat, ebm_model.ASR, label='ASR',\n",
    "                                         color='magenta')\n",
    "ax3.plot(ebm_model.lat, ebm_model.ASR-ebm_model.OLR, \n",
    "                                         label='net radiation',\n",
    "                                         color='red')\n",
    "\n",
    "ax3.set_ylabel('radiation (W/m$^2$)', fontsize=12)\n",
    "ax3.legend(loc='best')\n",
    "ax3.grid()\n",
    "\n",
    "\n",
    "# Energy Balance plot\n",
    "net_rad = np.squeeze(ebm_model.net_radiation)\n",
    "transport = ebm_model.heat_transport_convergence()\n",
    "\n",
    "ax4 = fig.add_subplot(224, sharex = ax1)\n",
    "ax4.plot(ebm_model.lat, net_rad, label='net radiation', \n",
    "                                             color='red')\n",
    "ax4.plot(ebm_model.lat, transport, label='heat transport', \n",
    "                                             color='blue')\n",
    "ax4.plot(ebm_model.lat, net_rad+transport, label='balance',\n",
    "                                             color='black')\n",
    "\n",
    "ax4.set_ylabel('energy (W/m$^2$)', fontsize=12)\n",
    "ax4.legend(loc='best')\n",
    "ax4.grid()\n",
    "\n",
    "\n",
    "plt.show()"
   ]
  },
  {
   "cell_type": "markdown",
   "metadata": {},
   "source": [
    "### Global mean temperature"
   ]
  },
  {
   "cell_type": "markdown",
   "metadata": {},
   "source": [
    "The model's state dictionary has following entries:"
   ]
  },
  {
   "cell_type": "code",
   "execution_count": 16,
   "metadata": {
    "collapsed": false
   },
   "outputs": [
    {
     "data": {
      "text/plain": [
       "['Ts']"
      ]
     },
     "execution_count": 16,
     "metadata": {},
     "output_type": "execute_result"
    }
   ],
   "source": [
    "ebm_model.state.keys()"
   ]
  },
  {
   "cell_type": "markdown",
   "metadata": {},
   "source": [
    "So the surface temperature can usually be accessed through ``ebm_model.state['Ts']`` but is also availible as a model attribute: ``ebm_model.Ts``"
   ]
  },
  {
   "cell_type": "markdown",
   "metadata": {},
   "source": [
    "The global mean of the model's surface temperature can be calculated through"
   ]
  },
  {
   "cell_type": "code",
   "execution_count": 17,
   "metadata": {
    "collapsed": false
   },
   "outputs": [
    {
     "data": {
      "text/plain": [
       "Field(14.288135944994657)"
      ]
     },
     "execution_count": 17,
     "metadata": {},
     "output_type": "execute_result"
    }
   ],
   "source": [
    "# calculate global mean temperature\n",
    "global_mean(ebm_model.Ts)"
   ]
  },
  {
   "cell_type": "markdown",
   "metadata": {},
   "source": [
    "Note that in the **header** the `global_mean` method has been **imported**!"
   ]
  },
  {
   "cell_type": "code",
   "execution_count": 18,
   "metadata": {
    "collapsed": false
   },
   "outputs": [
    {
     "name": "stdout",
     "output_type": "stream",
     "text": [
      "The global mean temperature is 14.29 degC with a model ice edge at 70.0 deg.\n"
     ]
    }
   ],
   "source": [
    "print 'The global mean temperature is %s degC with a model ice edge at %s deg.' \\\n",
    "       %(np.round(global_mean(ebm_model.Ts),2), np.max(ebm_model.icelat))"
   ]
  }
 ],
 "metadata": {
  "kernelspec": {
   "display_name": "Python 2",
   "language": "python",
   "name": "python2"
  },
  "language_info": {
   "codemirror_mode": {
    "name": "ipython",
    "version": 2
   },
   "file_extension": ".py",
   "mimetype": "text/x-python",
   "name": "python",
   "nbconvert_exporter": "python",
   "pygments_lexer": "ipython2",
   "version": "2.7.11"
  }
 },
 "nbformat": 4,
 "nbformat_minor": 0
}
