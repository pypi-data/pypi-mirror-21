{
 "cells": [
  {
   "cell_type": "markdown",
   "metadata": {},
   "source": [
    "## Vérifier que le robot a bien été installé par un :  > pip install roboticia-horse"
   ]
  },
  {
   "cell_type": "code",
   "execution_count": 1,
   "metadata": {
    "collapsed": true
   },
   "outputs": [],
   "source": [
    "import pip"
   ]
  },
  {
   "cell_type": "code",
   "execution_count": 2,
   "metadata": {
    "collapsed": false
   },
   "outputs": [
    {
     "name": "stdout",
     "output_type": "stream",
     "text": [
      "roboticia-quattro est bien installé\n"
     ]
    }
   ],
   "source": [
    "if 'roboticia-quattro' in str(pip.get_installed_distributions()):\n",
    "    print('roboticia-quattro est bien installé')\n",
    "else:\n",
    "    print(\"Attention le package roboticia-horse n'est pas installé. Exécutez pip install roboticia-horse\")\n",
    "    "
   ]
  },
  {
   "cell_type": "code",
   "execution_count": null,
   "metadata": {
    "collapsed": true
   },
   "outputs": [],
   "source": []
  },
  {
   "cell_type": "markdown",
   "metadata": {},
   "source": [
    "## Importer le package Roboticia"
   ]
  },
  {
   "cell_type": "code",
   "execution_count": null,
   "metadata": {
    "collapsed": false
   },
   "outputs": [],
   "source": [
    "from pypot.creatures import RoboticiaQuattro"
   ]
  },
  {
   "cell_type": "code",
   "execution_count": 4,
   "metadata": {
    "collapsed": false
   },
   "outputs": [],
   "source": [
    "robot = RoboticiaQuattro(simulator='vrep')"
   ]
  },
  {
   "cell_type": "code",
   "execution_count": 5,
   "metadata": {
    "collapsed": false
   },
   "outputs": [
    {
     "data": {
      "text/plain": [
       "<Robot motors=[<DxlMotor name=m11 id=11 pos=-0.0>, <DxlMotor name=m12 id=12 pos=0.0>, <DxlMotor name=m13 id=13 pos=-0.0>, <DxlMotor name=m21 id=21 pos=-0.0>, <DxlMotor name=m22 id=22 pos=0.0>, <DxlMotor name=m23 id=23 pos=0.0>, <DxlMotor name=m31 id=31 pos=0.0>, <DxlMotor name=m32 id=32 pos=0.0>, <DxlMotor name=m33 id=33 pos=0.0>, <DxlMotor name=m41 id=41 pos=0.0>, <DxlMotor name=m42 id=42 pos=0.0>, <DxlMotor name=m43 id=43 pos=0.0>]>"
      ]
     },
     "execution_count": 5,
     "metadata": {},
     "output_type": "execute_result"
    }
   ],
   "source": [
    "robot"
   ]
  },
  {
   "cell_type": "code",
   "execution_count": 6,
   "metadata": {
    "collapsed": true
   },
   "outputs": [],
   "source": [
    "robot.m12.goal_position = 20"
   ]
  },
  {
   "cell_type": "code",
   "execution_count": 7,
   "metadata": {
    "collapsed": false
   },
   "outputs": [],
   "source": [
    "robot.close()"
   ]
  },
  {
   "cell_type": "code",
   "execution_count": 3,
   "metadata": {
    "collapsed": false
   },
   "outputs": [],
   "source": [
    "import math as mt"
   ]
  },
  {
   "cell_type": "code",
   "execution_count": 6,
   "metadata": {
    "collapsed": false
   },
   "outputs": [
    {
     "data": {
      "text/plain": [
       "<function math.sqrt>"
      ]
     },
     "execution_count": 6,
     "metadata": {},
     "output_type": "execute_result"
    }
   ],
   "source": [
    "mt.sqrt"
   ]
  },
  {
   "cell_type": "code",
   "execution_count": 13,
   "metadata": {
    "collapsed": true
   },
   "outputs": [],
   "source": [
    "def AK_angle(side_a,side_b,gamma):\n",
    "    side_c = mt.sqrt (side_a**2 + side_b**2 - 2*side_a*side_b*mt.cos(gamma))\n",
    "    alpha = mt.acos((side_b**2 + side_c**2 - side_a**2)/(2*side_b*side_c))\n",
    "    beta= mt.pi - alpha - gamma\n",
    "    return (side_c,alpha,beta)\n",
    "            "
   ]
  },
  {
   "cell_type": "code",
   "execution_count": 15,
   "metadata": {
    "collapsed": false
   },
   "outputs": [
    {
     "data": {
      "text/plain": [
       "(4.2654371267945335, 0.4055815784746657, 1.7360110751151274)"
      ]
     },
     "execution_count": 15,
     "metadata": {},
     "output_type": "execute_result"
    }
   ],
   "source": [
    "AK_angle(2,5,1)"
   ]
  },
  {
   "cell_type": "code",
   "execution_count": 16,
   "metadata": {
    "collapsed": false
   },
   "outputs": [],
   "source": [
    "def AK_side(side_a,side_b,side_c):\n",
    "    alpha = mt.acos((side_b**2 + side_c**2 - side_a**2)/(2*side_b*side_c))\n",
    "    beta = mt.acos((side_a**2 + side_c**2 - side_b**2)/(2*side_a*side_c))\n",
    "    gamma = mt.pi - alpha - beta\n",
    "    return (alpha,beta,gamma)"
   ]
  },
  {
   "cell_type": "code",
   "execution_count": 17,
   "metadata": {
    "collapsed": false
   },
   "outputs": [
    {
     "data": {
      "text/plain": [
       "(0.4055815784746657, 1.7360110751151276, 0.9999999999999998)"
      ]
     },
     "execution_count": 17,
     "metadata": {},
     "output_type": "execute_result"
    }
   ],
   "source": [
    "AK_side (2,5,4.2654371267945335)"
   ]
  },
  {
   "cell_type": "code",
   "execution_count": 18,
   "metadata": {
    "collapsed": true
   },
   "outputs": [],
   "source": [
    "shin = 79\n",
    "thigh = 72"
   ]
  },
  {
   "cell_type": "code",
   "execution_count": 4,
   "metadata": {
    "collapsed": false
   },
   "outputs": [
    {
     "data": {
      "text/plain": [
       "<function math.copysign>"
      ]
     },
     "execution_count": 4,
     "metadata": {},
     "output_type": "execute_result"
    }
   ],
   "source": [
    "mt.copysign"
   ]
  },
  {
   "cell_type": "code",
   "execution_count": 6,
   "metadata": {
    "collapsed": false
   },
   "outputs": [
    {
     "data": {
      "text/plain": [
       "<function math.radians>"
      ]
     },
     "execution_count": 6,
     "metadata": {},
     "output_type": "execute_result"
    }
   ],
   "source": [
    "mt.radians"
   ]
  },
  {
   "cell_type": "code",
   "execution_count": null,
   "metadata": {
    "collapsed": true
   },
   "outputs": [],
   "source": [
    "class leg(object):\n",
    "    def __init__(self):\n",
    "        self.shin = 79\n",
    "        self.thigh = 72"
   ]
  },
  {
   "cell_type": "code",
   "execution_count": null,
   "metadata": {
    "collapsed": true
   },
   "outputs": [],
   "source": [
    "from pypot.primitive import Primitive"
   ]
  },
  {
   "cell_type": "code",
   "execution_count": null,
   "metadata": {
    "collapsed": true
   },
   "outputs": [],
   "source": [
    "class Leg(Primitive):\n",
    "    def __init__(self,robot,motors_name):\n",
    "        self.robot = robot\n",
    "        Primitive.__init__(self, robot)\n",
    "        self.fake_motors=[]\n",
    "        for name in motors_name:\n",
    "            self.fake_motors.append(getattr(self.robot, name))  \n",
    "            \n",
    "        self.shin = 79\n",
    "        self.thigh = 72\n",
    "        \n",
    "    def AK_angle(side_a,side_b,gamma):\n",
    "    side_c = mt.sqrt (side_a**2 + side_b**2 - 2*side_a*side_b*mt.cos(gamma))\n",
    "    alpha = mt.acos((side_b**2 + side_c**2 - side_a**2)/(2*side_b*side_c))\n",
    "    beta= mt.pi - alpha - gamma\n",
    "    return (side_c,alpha,beta)\n",
    "        \n",
    "          \n",
    "    def get_pos(self):\n",
    "        (side_c,alpha,beta) = AK_angle(self.shin,self.thigh,pi-abs(mt.radians(self.fake_motor[0].present_position)))\n",
    "        # calcul de l'angle beta_2 entre side_c et la veticale\n",
    "        beta_2 = mt.radians(self.fake_motor[1].present_position+mt.copysign(beta,self.fake_motor[0].present_position))\n",
    "        h = mt.cos(beta2)*side_c\n",
    "        d = mt.sin(beta2)*side_c\n",
    "        return (h,d)\n",
    "        \n",
    "        \n",
    "        \n",
    "    def setup(self):\n",
    "        pass\n",
    "        '''\n",
    "        for m in self.fake_motors.keys():\n",
    "            self.position[m] = []\n",
    "        self.python_time=[]\n",
    "        self.pypot_time=[]\n",
    "        '''\n",
    "    def run(self):\n",
    "        pass\n",
    "        '''\n",
    "        t0 = time.time()\n",
    "        while not self.should_stop():\n",
    "            for m in self.fake_motors.keys():\n",
    "                self.position[m].append(self.fake_motors[m].present_position)\n",
    "                self.load[m].append(self.fake_motors[m].present_load)\n",
    "                self.speed[m].append(self.fake_motors[m].present_speed)\n",
    "            self.python_time.append(time.time()-t0)\n",
    "            self.pypot_time.append(self.elapsed_time)\n",
    "            time.sleep(0.02)\n",
    "            '''\n",
    "     \n",
    "        "
   ]
  }
 ],
 "metadata": {
  "kernelspec": {
   "display_name": "Python 2",
   "language": "python",
   "name": "python2"
  },
  "language_info": {
   "codemirror_mode": {
    "name": "ipython",
    "version": 2
   },
   "file_extension": ".py",
   "mimetype": "text/x-python",
   "name": "python",
   "nbconvert_exporter": "python",
   "pygments_lexer": "ipython2",
   "version": "2.7.9"
  }
 },
 "nbformat": 4,
 "nbformat_minor": 0
}
