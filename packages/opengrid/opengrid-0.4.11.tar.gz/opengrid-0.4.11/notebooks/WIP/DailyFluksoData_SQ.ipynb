{
 "cells": [
  {
   "cell_type": "code",
   "execution_count": 1,
   "metadata": {
    "collapsed": true
   },
   "outputs": [],
   "source": [
    "from opengrid.library import fluksoapi"
   ]
  },
  {
   "cell_type": "code",
   "execution_count": 3,
   "metadata": {
    "collapsed": false
   },
   "outputs": [],
   "source": [
    "var = {}\n",
    "var['cons_ouest'] = dict(sensor='166d04195fa03720bb4b6c8aee7e3321', token='469690e332353aac821b0a506f0872d3')\n",
    "var['prod_couvert'] = dict(sensor='f5382eef3bf2545c55bbb7aa39df91c1', token='825edf58c56a15253509bfc1f3440169')\n"
   ]
  },
  {
   "cell_type": "code",
   "execution_count": 28,
   "metadata": {
    "collapsed": false
   },
   "outputs": [],
   "source": [
    "r=fluksoapi.pull_api(sensor=var['cons_ouest']['sensor'], token=var['cons_ouest']['token'],\n",
    "              unit='watt', interval='year', resolution='day')  \n",
    "ser = fluksoapi.parse(r)\n",
    "ser.to_csv('cons_ouest_watt.csv')"
   ]
  },
  {
   "cell_type": "code",
   "execution_count": 30,
   "metadata": {
    "collapsed": false
   },
   "outputs": [],
   "source": [
    "r=fluksoapi.pull_api(sensor=var['prod_couvert']['sensor'], token=var['prod_couvert']['token'],\n",
    "              unit='watt', interval='month', resolution='day')  \n",
    "ser=fluksoapi.parse(r)\n",
    "ser.to_csv('prod_couvert_watt.csv')"
   ]
  },
  {
   "cell_type": "code",
   "execution_count": null,
   "metadata": {
    "collapsed": true
   },
   "outputs": [],
   "source": []
  }
 ],
 "metadata": {
  "kernelspec": {
   "display_name": "Python 2",
   "language": "python",
   "name": "python2"
  },
  "language_info": {
   "codemirror_mode": {
    "name": "ipython",
    "version": 2
   },
   "file_extension": ".py",
   "mimetype": "text/x-python",
   "name": "python",
   "nbconvert_exporter": "python",
   "pygments_lexer": "ipython2",
   "version": "2.7.6"
  }
 },
 "nbformat": 4,
 "nbformat_minor": 0
}
