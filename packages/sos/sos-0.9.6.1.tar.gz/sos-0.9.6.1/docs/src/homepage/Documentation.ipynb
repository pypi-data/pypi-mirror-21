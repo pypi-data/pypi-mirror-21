{
 "cells": [
  {
   "cell_type": "markdown",
   "metadata": {
    "deletable": true,
    "editable": true
   },
   "source": [
    "# Presentations"
   ]
  },
  {
   "cell_type": "markdown",
   "metadata": {
    "deletable": true,
    "editable": true
   },
   "source": [
    "[Script of Scripts for the writing and execution of scripts in multiple languages](doc/presentations/SoS_BCB_Jan23_2017/index.html)<br>\n",
    "The University of Texas, MD Anderson Cancer Center. Jan 23, 2017. "
   ]
  },
  {
   "cell_type": "markdown",
   "metadata": {
    "deletable": true,
    "editable": true
   },
   "source": [
    "# Tutorials"
   ]
  },
  {
   "cell_type": "markdown",
   "metadata": {
    "deletable": true,
    "editable": true
   },
   "source": [
    "[Quick Start Guide](doc/tutorials/Quick_Start_Guide.html)<br>\n",
    "    Brief introduction to the SoS format and basic usages\n",
    "    \n",
    "[Using SoS interactively](doc/tutorials/Using_SoS_Interactively.html)<br>\n",
    "Interactive execution of SoS workflows\n",
    "\n",
    "* [Using SoS with Jupyter notebook](doc/tutorials/Using_SoS_with_Jupyter_Notebook.html)<br>\n",
    "    For interactive data analysis in a notebook interface\n",
    "* [Using Spyder as SoS IDE](doc/tutorials/Using_SoS_with_Spyder.html)<br>\n",
    "    For data analysis and workflow development with an IDE\n",
    "* [Using Spyder with iPython](doc/tutorials/Using_SoS_with_IPython.html)<br>\n",
    "    For experienced iPyhton user\n",
    "* [using SoS with VIM](doc/tutorials/Using_SoS_with_VIM.html)<br>\n",
    "    For hard-core vim user\n",
    "\n",
    "[Running SoS workflows](doc/tutorials/Execution_of_Workflow.html)<br>\n",
    "   Make effective use of SoS in batch mode\n",
    "   \n",
    "* [SoS Docker Guide](doc/tutorials/SoS_Docker_Guide.html)<br>\n",
    "   Running commands in docker containers\n",
    "\n",
    "* [Remote_Execution](doc/tutorials/Remote_Execution.html)<br>\n",
    "   Execute tasks on remote hosts with or without shared file systems\n",
    "\n",
    "[Generating Reports](doc/tutorials/Generating_Reports.html)<br>\n",
    "   Generate reports using [pandoc](http://pandoc.org/) or [Rmarkdown](http://rmarkdown.rstudio.com/)\n",
    "\n",
    "[File Conversion](doc/tutorials/File_Conversion.html)<br>\n",
    "   Conversion between `.sos`, `.ipynb`, `.html` and other formats\n",
    "   \n",
    "[Project Management](doc/tutorials/Project_Management.html)<br>\n",
    "   Manage files and archive projects."
   ]
  },
  {
   "cell_type": "markdown",
   "metadata": {
    "deletable": true,
    "editable": true
   },
   "source": [
    "# Documentation\n",
    "\n",
    "[SoS Syntax](doc/documentation/SoS_Syntax.html)<br>\n",
    "   An overview of the SoS syntax and key components of SoS scripts\n",
    "    \n",
    "* [String Interpolation](doc/documentation/String_Interpolation.html)<br>\n",
    "    Compose scripts in other languages using SoS variables\n",
    "    \n",
    "[Defining workflows](doc/documentation/Workflow_Specification.html)<br>\n",
    "  Define one or more workflows in a SoS script\n",
    "  \n",
    "* [Understanding Targets](doc/documentation/Understanding_Targets.html)<br>\n",
    "  Beyond file targets\n",
    "* [SoS Actions](doc/documentation/SoS_Actions.html)<br>\n",
    "  How to use and define SoS actions\n",
    "* [Steps of workflow](doc/documentation/SoS_Step.html)<br>\n",
    "  Step input, depends, output, and process\n",
    "* [Makefile-style workflows](doc/documentation/Auxiliary_Steps.html)<br>\n",
    "  Steps that are executed only when needed\n",
    "* [External tasks and job queues](doc/documentation/External_task.html)<br>\n",
    "  Running and monitoring tasks externally\n",
    " \n",
    "[User Interface](doc/documentation/User_Interface.html)<br>\n",
    "Command line and notebook interface\n",
    "\n",
    "* [Command line options](doc/documentation/Command_Line_Options.html)<br>\n",
    "  Customize workflow with command line options\n",
    "* [Configuration files](doc/documentation/Configuration_Files.html)<br>\n",
    "  Use of global, local and user-specified configuration files\n",
    "* [Jupyter notebook interface](doc/documentation/Notebook_Interface.html)<br>\n",
    "  Using SoS with Jupyter notebook\n",
    "    \n",
    "[Reference Manual](doc/documentation/Reference_Manual.html)<br>\n",
    "   Complete references to all SoS functions, actions, and objects.\n",
    "   \n",
    "[Extending SoS](doc/documentation/Extending_SoS.html)<br>\n",
    "  Define your own target, language, converter."
   ]
  },
  {
   "cell_type": "markdown",
   "metadata": {
    "deletable": true,
    "editable": true
   },
   "source": [
    "# Examples\n",
    "\n",
    "SoS scripts for the maintenance of SoS\n",
    "* [update_toc.sos](doc/examples/update_toc.html)<br>\n",
    "   A sos script that was used by SoS to update TOC of the wiki pages.\n",
    "* [release](doc/examples/release.html)<br>\n",
    "   Script to manage SoS website and release SoS to pip, docker hub, etc\n",
    "\n",
    "Small scripts for bioinformatics analysis\n",
    "* [Fusion_sequences.sos](doc/examples/Fusion_sequences/Fusion_sequences.html) \n",
    "([repo](https://github.com/vatlab/SOS/tree/master/docs/src/examples/Fusion_sequences))<br>\n",
    "    A sos script that generates DNA and mRNA sequence around breakpoints. Nested workflows are used to handle all fusion candidates in all input files, and for multiple parameters."
   ]
  }
 ],
 "metadata": {
  "anaconda-cloud": {},
  "kernelspec": {
   "display_name": "SoS",
   "language": "sos",
   "name": "sos"
  },
  "language_info": {
   "codemirror_mode": "sos",
   "file_extension": ".sos",
   "mimetype": "text/x-sos",
   "name": "sos",
   "nbconvert_exporter": "sos.jupyter.converter.SoS_Exporter",
   "pygments_lexer": "sos"
  },
  "sos": {
   "celltoolbar": true,
   "kernels": [
    [
     "sos",
     "SoS",
     ""
    ],
    [
     "python3",
     "Python3",
     "#EAFAF1"
    ],
    [
     "bash",
     "Bash",
     "#E6EEFF"
    ],
    [
     "ir",
     "R",
     "#FDEDEC"
    ],
    [
     "python2",
     "Python2",
     "#F6FAEA"
    ]
   ],
   "panel": {
    "displayed": true,
    "height": 0,
    "style": "side"
   }
  },
  "toc": {
   "colors": {
    "hover_highlight": "#DAA520",
    "running_highlight": "#FF0000",
    "selected_highlight": "#FFD700"
   },
   "moveMenuLeft": true,
   "nav_menu": {
    "height": "45px",
    "width": "254px"
   },
   "navigate_menu": true,
   "number_sections": true,
   "sideBar": true,
   "threshold": 4,
   "toc_cell": false,
   "toc_section_display": "block",
   "toc_window_display": true
  }
 },
 "nbformat": 4,
 "nbformat_minor": 2
}
