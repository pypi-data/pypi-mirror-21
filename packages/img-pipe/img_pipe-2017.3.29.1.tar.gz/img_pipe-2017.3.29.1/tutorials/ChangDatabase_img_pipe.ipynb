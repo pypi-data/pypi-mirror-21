{
 "cells": [
  {
   "cell_type": "markdown",
   "metadata": {},
   "source": [
    "## Get electrodes from certain tasks using Chang Lab Database queries ##\n",
    "\n",
    "You can also query the database for subjects that performed a given task, and plot these electrodes on the warped brain."
   ]
  },
  {
   "cell_type": "code",
   "execution_count": 4,
   "metadata": {
    "collapsed": false
   },
   "outputs": [
    {
     "ename": "RuntimeError",
     "evalue": "Settings already configured.",
     "output_type": "error",
     "traceback": [
      "\u001b[0;31m---------------------------------------------------------------------------\u001b[0m",
      "\u001b[0;31mRuntimeError\u001b[0m                              Traceback (most recent call last)",
      "\u001b[0;32m<ipython-input-4-09bbce5e1baf>\u001b[0m in \u001b[0;36m<module>\u001b[0;34m()\u001b[0m\n\u001b[1;32m      4\u001b[0m \u001b[0;32mimport\u001b[0m \u001b[0mimg_pipe\u001b[0m\u001b[0;34m\u001b[0m\u001b[0m\n\u001b[1;32m      5\u001b[0m \u001b[0msys\u001b[0m\u001b[0;34m.\u001b[0m\u001b[0mpath\u001b[0m\u001b[0;34m.\u001b[0m\u001b[0mappend\u001b[0m\u001b[0;34m(\u001b[0m\u001b[0;34m'/Users/dlchang/dura/data_store2/imaging/changrepo/python/database/changlabdb'\u001b[0m\u001b[0;34m)\u001b[0m\u001b[0;34m\u001b[0m\u001b[0m\n\u001b[0;32m----> 6\u001b[0;31m \u001b[0;32mfrom\u001b[0m \u001b[0mchanglabdb\u001b[0m\u001b[0;34m.\u001b[0m\u001b[0mbackend\u001b[0m \u001b[0;32mimport\u001b[0m \u001b[0;34m*\u001b[0m\u001b[0;34m\u001b[0m\u001b[0m\n\u001b[0m\u001b[1;32m      7\u001b[0m \u001b[0;34m\u001b[0m\u001b[0m\n\u001b[1;32m      8\u001b[0m \u001b[0;32mfrom\u001b[0m \u001b[0mplotting\u001b[0m\u001b[0;34m.\u001b[0m\u001b[0mctmr_brain_plot\u001b[0m \u001b[0;32mimport\u001b[0m \u001b[0mel_add\u001b[0m\u001b[0;34m\u001b[0m\u001b[0m\n",
      "\u001b[0;32m/Users/dlchang/dura/data_store2/imaging/changrepo/python/database/changlabdb/changlabdb/backend.py\u001b[0m in \u001b[0;36m<module>\u001b[0;34m()\u001b[0m\n\u001b[1;32m     18\u001b[0m             \u001b[0;34m'NAME'\u001b[0m \u001b[0;34m:\u001b[0m \u001b[0;34m\"chang_lab_db\"\u001b[0m\u001b[0;34m,\u001b[0m\u001b[0;34m\u001b[0m\u001b[0m\n\u001b[1;32m     19\u001b[0m             \u001b[0;34m'USER'\u001b[0m \u001b[0;34m:\u001b[0m \u001b[0;34m\"django_user\"\u001b[0m\u001b[0;34m,\u001b[0m\u001b[0;34m\u001b[0m\u001b[0m\n\u001b[0;32m---> 20\u001b[0;31m             \u001b[0;34m'PASSWORD'\u001b[0m \u001b[0;34m:\u001b[0m \u001b[0;34m\"Broca1!\"\u001b[0m\u001b[0;34m,\u001b[0m\u001b[0;34m\u001b[0m\u001b[0m\n\u001b[0m\u001b[1;32m     21\u001b[0m         }\n\u001b[1;32m     22\u001b[0m     }\n",
      "\u001b[0;32m/Users/dlchang/anaconda2/lib/python2.7/site-packages/django/conf/__init__.pyc\u001b[0m in \u001b[0;36mconfigure\u001b[0;34m(self, default_settings, **options)\u001b[0m\n\u001b[1;32m     61\u001b[0m         \"\"\"\n\u001b[1;32m     62\u001b[0m         \u001b[0;32mif\u001b[0m \u001b[0mself\u001b[0m\u001b[0;34m.\u001b[0m\u001b[0m_wrapped\u001b[0m \u001b[0;32mis\u001b[0m \u001b[0;32mnot\u001b[0m \u001b[0mempty\u001b[0m\u001b[0;34m:\u001b[0m\u001b[0;34m\u001b[0m\u001b[0m\n\u001b[0;32m---> 63\u001b[0;31m             \u001b[0;32mraise\u001b[0m \u001b[0mRuntimeError\u001b[0m\u001b[0;34m(\u001b[0m\u001b[0;34m'Settings already configured.'\u001b[0m\u001b[0;34m)\u001b[0m\u001b[0;34m\u001b[0m\u001b[0m\n\u001b[0m\u001b[1;32m     64\u001b[0m         \u001b[0mholder\u001b[0m \u001b[0;34m=\u001b[0m \u001b[0mUserSettingsHolder\u001b[0m\u001b[0;34m(\u001b[0m\u001b[0mdefault_settings\u001b[0m\u001b[0;34m)\u001b[0m\u001b[0;34m\u001b[0m\u001b[0m\n\u001b[1;32m     65\u001b[0m         \u001b[0;32mfor\u001b[0m \u001b[0mname\u001b[0m\u001b[0;34m,\u001b[0m \u001b[0mvalue\u001b[0m \u001b[0;32min\u001b[0m \u001b[0moptions\u001b[0m\u001b[0;34m.\u001b[0m\u001b[0mitems\u001b[0m\u001b[0;34m(\u001b[0m\u001b[0;34m)\u001b[0m\u001b[0;34m:\u001b[0m\u001b[0;34m\u001b[0m\u001b[0m\n",
      "\u001b[0;31mRuntimeError\u001b[0m: Settings already configured."
     ]
    }
   ],
   "source": [
    "import numpy as np\n",
    "import sys\n",
    "sys.path.append('/Users/dlchang/img_pipe/')\n",
    "import img_pipe\n",
    "sys.path.append('/Users/dlchang/dura/data_store2/imaging/changrepo/python/database/changlabdb')\n",
    "from changlabdb.backend import *\n",
    "\n",
    "from plotting.ctmr_brain_plot import el_add"
   ]
  },
  {
   "cell_type": "code",
   "execution_count": null,
   "metadata": {
    "collapsed": false
   },
   "outputs": [],
   "source": [
    "# Get all the blocks from a certain task\n",
    "task_oi = 'TIMIT1'\n",
    "task = Task.objects.get(task_uid = task_oi)\n",
    "blocks = Block.objects.filter(task=task)\n",
    "task_patients = np.unique([block.session.patient.patient_uid for block in blocks])\n",
    "\n",
    "print task_patients"
   ]
  },
  {
   "cell_type": "code",
   "execution_count": null,
   "metadata": {
    "collapsed": false
   },
   "outputs": [],
   "source": [
    "# Plot the atlas brain\n",
    "template = 'cvs_avg35_inMNI152'\n",
    "atlas_patient = img_pipe.freeCoG(subj = template, hem='lh',\\\n",
    "                                 subj_dir = '/Users/liberty/dura_mount/data_store2/imaging/subjects')\n",
    "\n",
    "roi = atlas_patient.roi('pial', opacity=0.5)\n",
    "mesh, points, mlab = atlas_patient.plot_brain(rois = [roi], showfig=False)\n",
    "\n",
    "# Now get all the STG electrodes from the patients who did this task\n",
    "elecs = []\n",
    "for s in task_patients:\n",
    "    print s\n",
    "    patient = img_pipe.freeCoG(subj = s, hem = 'stereo',\\\n",
    "                               subj_dir = '/Users/liberty/dura_mount/data_store2/imaging/subjects')\n",
    "    # Find the warped electrodes in STG\n",
    "    elecs_warped = patient.get_elecs(elecfile_prefix='TDT_elecs_all_warped', roi='superiortemporal')\n",
    "    \n",
    "    # If there are any electrodes that fit these criteria, add them to the elecs list\n",
    "    if elecs_warped['elecmatrix'] != []:\n",
    "        print elecs_warped['elecmatrix'].shape\n",
    "        elecs.append(elecs_warped['elecmatrix'])\n",
    "\n",
    "elecmatrix = np.concatenate(elecs, axis=0)\n",
    "# Add all the electrodes to the surface mesh\n",
    "el_add(elecmatrix)    \n",
    "\n",
    "# Render the mayavi window\n",
    "mlab.show()"
   ]
  },
  {
   "cell_type": "code",
   "execution_count": null,
   "metadata": {
    "collapsed": false
   },
   "outputs": [],
   "source": []
  }
 ],
 "metadata": {
  "anaconda-cloud": {},
  "kernelspec": {
   "display_name": "Python [default]",
   "language": "python",
   "name": "python2"
  },
  "language_info": {
   "codemirror_mode": {
    "name": "ipython",
    "version": 2
   },
   "file_extension": ".py",
   "mimetype": "text/x-python",
   "name": "python",
   "nbconvert_exporter": "python",
   "pygments_lexer": "ipython2",
   "version": "2.7.12"
  }
 },
 "nbformat": 4,
 "nbformat_minor": 2
}
