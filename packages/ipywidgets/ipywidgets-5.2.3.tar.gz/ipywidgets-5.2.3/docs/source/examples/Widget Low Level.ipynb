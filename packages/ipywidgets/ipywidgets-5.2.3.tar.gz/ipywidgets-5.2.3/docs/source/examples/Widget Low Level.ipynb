{
 "cells": [
  {
   "cell_type": "markdown",
   "metadata": {
    "slideshow": {
     "slide_type": "slide"
    }
   },
   "source": [
    "# Low Level Widget Tutorial"
   ]
  },
  {
   "cell_type": "markdown",
   "metadata": {},
   "source": [
    "## How do they fit into the picture?"
   ]
  },
  {
   "cell_type": "markdown",
   "metadata": {},
   "source": [
    "One of the goals of the Jupyter Notebook is to minimize the “distance” the user is from their data.  This means allowing the user to quickly view and manipulate the data.  "
   ]
  },
  {
   "cell_type": "markdown",
   "metadata": {
    "collapsed": false
   },
   "source": [
    "| ![](images/inputoutput.PNG)                                                                           | ![](images/widgets.PNG)                                                                                                                      |\n",
    "|-------------------------------------------------------------------------------------------------------|----------------------------------------------------------------------------------------------------------------------------------------------|\n",
    "| Before the widgets, this was just the segmentation of code and results from executing those segments. | Widgets further decrease the distance between the user and their data by allowing UI interactions to directly manipulate data in the kernel. |"
   ]
  },
  {
   "cell_type": "markdown",
   "metadata": {
    "collapsed": true,
    "slideshow": {
     "slide_type": "slide"
    }
   },
   "source": [
    "## How?"
   ]
  },
  {
   "cell_type": "markdown",
   "metadata": {},
   "source": [
    "Jupyter interactive widgets are interactive elements, think sliders, textboxes, buttons, that have representations both in the kernel (place where code is executed) and the front-end (the Notebook web interface).  To do this, a clean, well abstracted communication layer must exist."
   ]
  },
  {
   "cell_type": "markdown",
   "metadata": {
    "slideshow": {
     "slide_type": "slide"
    }
   },
   "source": [
    "## Comms"
   ]
  },
  {
   "cell_type": "markdown",
   "metadata": {},
   "source": [
    "This is where Jupyter notebook “comms” come into play.  The comm API is a symmetric, asynchronous, fire and forget style messaging API.  It allows the programmer to send JSON-able blobs between the front-end and the back-end.  The comm API hides the complexity of the webserver, ZMQ, and websockets."
   ]
  },
  {
   "cell_type": "markdown",
   "metadata": {},
   "source": [
    "![](images/transport.svg)"
   ]
  },
  {
   "cell_type": "markdown",
   "metadata": {
    "collapsed": true,
    "slideshow": {
     "slide_type": "slide"
    }
   },
   "source": [
    "## Synchronized state"
   ]
  },
  {
   "cell_type": "markdown",
   "metadata": {},
   "source": [
    "Using comms, the widget base layer is designed to keep state in sync.  In the kernel, a Widget instance exists.  This Widget instance has a corresponding WidgetModel instance in the front-end.  The Widget and WidgetModel store the same state.  The widget framework ensures both models are kept in sync with eachother.  If the WidgetModel is changed in the front-end, the Widget receives the same change in the kernel.  Vise versa, if the Widget in the kernel is changed, the WidgetModel in the front-end receives the same change.  There is no single source of truth, both models have the same precedence.  Although a notebook has the notion of cells, neither Widget or WidgetModel are bound to any single cell."
   ]
  },
  {
   "cell_type": "markdown",
   "metadata": {},
   "source": [
    "![](images/state_sync.svg)"
   ]
  },
  {
   "cell_type": "markdown",
   "metadata": {
    "slideshow": {
     "slide_type": "slide"
    }
   },
   "source": [
    "## Views"
   ]
  },
  {
   "cell_type": "markdown",
   "metadata": {},
   "source": [
    "In order for the user to interact with widgets on a cell by cell basis, the WidgetModels are represented by WidgetViews.  Any single WidgetView is bound to a single cell.  Multiple WidgetViews can be linked to a single WidgetModel.  This is how you can redisplay the same Widget multiple times and it still works.  To accomplish this, the widget framework uses Backbone.js.  In a traditional MVC design, the WidgetModel is the (M)odel, and the WidgetView is both the (V)iew and (C)ontroller. Meaning that, the views both display the state of the model and manipulate it.  Think about a slider control, it both displays the value and allows the user to change the value by dragging the slide handle."
   ]
  },
  {
   "cell_type": "code",
   "execution_count": 1,
   "metadata": {
    "collapsed": false
   },
   "outputs": [
    {
     "data": {
      "image/png": "[encoded data removed]",
      "text/html": [
       "<img src=data:image/png;base64,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 class=\"jupyter-widget\">\n",
       "<script type=\"application/vnd.jupyter-embedded-widgets\">[{},{\"layout\":\"IPY_MODEL_03225a794cb147f58d8b1b8083b78879\"}]</script>"
      ]
     },
     "metadata": {
      "isWidgetSnapshot": true
     },
     "output_type": "display_data"
    }
   ],
   "source": [
    "from ipywidgets import *\n",
    "from IPython.display import display\n",
    "w = IntSlider()\n",
    "display(w, w)"
   ]
  },
  {
   "cell_type": "code",
   "execution_count": 2,
   "metadata": {
    "collapsed": true
   },
   "outputs": [
    {
     "data": {
      "image/png": "[encoded data removed]",
      "text/html": [
       "<img src=data:image/png;base64,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 class=\"jupyter-widget\">\n",
       "<script type=\"application/vnd.jupyter-embedded-widgets\">[{},{\"layout\":\"IPY_MODEL_03225a794cb147f58d8b1b8083b78879\"}]</script>"
      ]
     },
     "metadata": {
      "isWidgetSnapshot": true
     },
     "output_type": "display_data"
    }
   ],
   "source": [
    "display(w)"
   ]
  },
  {
   "cell_type": "markdown",
   "metadata": {},
   "source": [
    "![](images/assoc.svg)"
   ]
  },
  {
   "cell_type": "markdown",
   "metadata": {
    "slideshow": {
     "slide_type": "slide"
    }
   },
   "source": [
    "## Code execution"
   ]
  },
  {
   "cell_type": "markdown",
   "metadata": {},
   "source": [
    "The user code required to display a simple FloatSlider widget is:\n",
    "\n",
    "```python\n",
    "from ipywidgets import FloatSlider\n",
    "from IPython.display import display\n",
    "slider = FloatSlider()\n",
    "display(slider)\n",
    "```\n",
    "\n",
    "In order to understand how a widget is displayed, one must understand how code is executed in the Notebook.  Execution begins in the code cell.  A user event triggers the code cell to send an evaluate code message to the kernel, containing all of the code in the code cell.  This message is given a GUID, which the front-end associates to the code cell, and remembers it (**important**)."
   ]
  },
  {
   "cell_type": "markdown",
   "metadata": {},
   "source": [
    "![](images/execute.svg)"
   ]
  },
  {
   "cell_type": "markdown",
   "metadata": {
    "slideshow": {
     "slide_type": "subslide"
    }
   },
   "source": [
    "Once that message is received by the kernel, the kernel immediately sends the front-end an “I’m busy” status message.  The kernel then proceeds to execute the code."
   ]
  },
  {
   "cell_type": "markdown",
   "metadata": {},
   "source": [
    "![](images/busy.svg)"
   ]
  },
  {
   "cell_type": "markdown",
   "metadata": {
    "slideshow": {
     "slide_type": "slide"
    }
   },
   "source": [
    "## Model construction"
   ]
  },
  {
   "cell_type": "markdown",
   "metadata": {},
   "source": [
    "When a Widget is constructed in the kernel, the first thing that happens is that a comm is constructed and associated with the widget.  When the comm is constructed, it is given a GUID (globally unique identifier).  A comm-open message is sent to the front-end, with metadata stating that the comm is a widget comm and what the corresponding WidgetModel class is.  "
   ]
  },
  {
   "cell_type": "markdown",
   "metadata": {},
   "source": [
    "![](images/widgetcomm.svg)"
   ]
  },
  {
   "cell_type": "markdown",
   "metadata": {
    "slideshow": {
     "slide_type": "subslide"
    }
   },
   "source": [
    "The WidgetModel class is specified my module and name.  Require.js is then used to asynchronously load the WidgetModel class. The message triggers a comm to be created in the front-end with same GUID as the back-end.  Then, the new comm gets passed into the WidgetManager in the front-end, which creates an instance of the WidgetModel class, linked to the comm.  Both the Widget and WidgetModel repurpose the comm GUID as their own."
   ]
  },
  {
   "cell_type": "markdown",
   "metadata": {},
   "source": [
    "![](images/widgetcomm2.svg)"
   ]
  },
  {
   "cell_type": "markdown",
   "metadata": {
    "slideshow": {
     "slide_type": "subslide"
    }
   },
   "source": [
    "Asynchronously, the kernel sends an initial state push, containing all of the initial state of the Widget, to the front-end, immediately after the comm-open message.  This state message may or may not be received by the time the WidgetModel is constructed.  Regardless, the message is cached and gets processed once the WidgetModel has been constructed.  The initial state push is what causes the WidgetModel in the front-end to become in sync with the Widget in the kernel."
   ]
  },
  {
   "cell_type": "markdown",
   "metadata": {},
   "source": [
    "![](images/state.svg)"
   ]
  },
  {
   "cell_type": "markdown",
   "metadata": {
    "slideshow": {
     "slide_type": "slide"
    }
   },
   "source": [
    "## Displaying a view"
   ]
  },
  {
   "cell_type": "markdown",
   "metadata": {},
   "source": [
    "After the Widget has been constructed, it can be displayed.  Calling `display(widgetinstance)` causes a specially named repr method in the widget to run.  This method sends a message to the front-end that tells the front-end to construct and display a widget view.  The message is in response to the original code execution message, and the original message’s GUID is stored in the new message’s header.  When the front-end receives the message, it uses the original messsage’s GUID to determine what cell the new view should belong to.  Then, the view is created, using the WidgetView class specified in the WidgetModel’s state.  The same require.js method is used to load the view class.  Once the class is loaded, an instance of it is constructed, displayed in the right cell, and registers listeners for changes of the model."
   ]
  },
  {
   "cell_type": "markdown",
   "metadata": {},
   "source": [
    "![](images/display.svg)"
   ]
  },
  {
   "cell_type": "markdown",
   "metadata": {
    "slideshow": {
     "slide_type": "slide"
    }
   },
   "source": [
    "## Widget skeleton"
   ]
  },
  {
   "cell_type": "code",
   "execution_count": 3,
   "metadata": {
    "collapsed": false
   },
   "outputs": [
    {
     "data": {
      "application/javascript": [
       "this.model.get('count');\n",
       "\n",
       "\n",
       "this.model.set('count', 999);\n",
       "this.touch();\n",
       "\n",
       "/////////////////////////////////\n",
       "\n",
       "this.colorpicker = $('<input/>');\n",
       "this.colorpicker.attr('type', 'color');\n",
       "this.$el.append(this.colorpicker);"
      ],
      "text/plain": [
       "<IPython.core.display.Javascript object>"
      ]
     },
     "metadata": {},
     "output_type": "display_data"
    }
   ],
   "source": [
    "%%javascript\n",
    "this.model.get('count');\n",
    "\n",
    "\n",
    "this.model.set('count', 999);\n",
    "this.touch();\n",
    "\n",
    "/////////////////////////////////\n",
    "\n",
    "this.colorpicker = $('<input/>');\n",
    "this.colorpicker.attr('type', 'color');\n",
    "this.$el.append(this.colorpicker);\n"
   ]
  },
  {
   "cell_type": "markdown",
   "metadata": {},
   "source": [
    "Since widgets exist in both the front-end and kernel, they consist of both Python (if the kernel is IPython) and Javascript code.  A boilerplate widget can be seen below:\n",
    "\n",
    "Python:\n",
    "```python\n",
    "from ipywidgets import DOMWidget\n",
    "from traitlets import Unicode, Int\n",
    " \n",
    "class MyWidget(DOMWidget):\n",
    "\t_view_module = Unicode('nbextensions/mywidget/mywidget').tag(sync=True)\n",
    "\t_view_name = Unicode('MyWidgetView').tag(sync=True)\n",
    "\tcount = Int().tag(sync=True)\n",
    "```\n",
    "\n",
    "JavaScript:\n",
    "```js\n",
    "define(['jquery', 'jupyter-js-widgets'], function($, widgets) {\n",
    "\tvar MyWidgetView = widgets.DOMWidgetView.extend({\n",
    "    \trender: function() {\n",
    "        \tMyWidgetView.__super__.render.apply(this, arguments);\n",
    "        \tthis._count_changed();\n",
    "        \tthis.listenTo(this.model, 'change:count', this._count_changed, this);\n",
    "    \t},\n",
    " \n",
    "    \t_count_changed: function() {\n",
    "        \tvar old_value = this.model.previous('count');\n",
    "        \tvar new_value = this.model.get('count');\n",
    "        \t$(this.el).text(String(old_value) + ' -> ' + String(new_value));\n",
    "    \t}\n",
    "\t});\n",
    " \n",
    "\treturn {\n",
    "    \tMyWidgetView: MyWidgetView\n",
    "\t}\n",
    "});\n",
    "```\n",
    "\n",
    "Describing the Python:  \n",
    "\n",
    "The base widget classes are `DOMWidget` and `Widget`.\n",
    "\n",
    "`_view_module` and `_view_name` are how the front-end knows what view class to construct for the model.\n",
    "\n",
    "`sync=True` is what makes the traitlets behave like state.\n",
    "\n",
    "A similarly named `_model_module` and `_model_name` can be used to specify the corresponding WidgetModel.\n",
    "\n",
    "`count` is an example of a custom piece of state.\n",
    "\n",
    "Describing the JavaScript:  \n",
    "\n",
    "The `define` call asynchronously loads the specified dependencies, and then passes them in as arguments into the callback.  Here both jQuery and the base widget module are loaded.\n",
    "\n",
    "Custom views inherit from either `DOMWidgetView` or `WidgetView`.\n",
    "\n",
    "Likewise, custom models inherit from `WidgetModel`.\n",
    "\n",
    "The `render` method is what is called to render the view’s contents.  If the view is a `DOMWidgetView`, the `.el` attribute contains the DOM element that will be displayed on the page.\n",
    "\n",
    "`.listenTo` allows the view to listen to properties of the model for changes.\n",
    "\n",
    "`_count_changed` is an example of a method that could be used to handle model changes.\n",
    "\n",
    "`this.model` is how the corresponding model can be accessed.\n",
    "\n",
    "`this.model.previous` will get the previous value of the trait.\n",
    "\n",
    "`this.model.get` will get the current value of the trait.\n",
    "\n",
    "`this.model.set` followed by `this.save_changes();` changes the model.  The view method `save_changes` is needed to associate the changes with the current view, thus associating any response messages with the view’s cell.\n",
    "\n",
    "The dictionary returned is the public members of the module.\n"
   ]
  },
  {
   "cell_type": "markdown",
   "metadata": {
    "slideshow": {
     "slide_type": "slide"
    }
   },
   "source": [
    "## Installation"
   ]
  },
  {
   "cell_type": "markdown",
   "metadata": {},
   "source": [
    "Because the API of any given widget **must exist in the kernel**, the kernel is the natural place for widgets to be installed.  However, **kernels, as of now, don’t host static assets**.  Instead, static assets are hosted by the webserver, which is the entity that sits between the kernel and the front-end.  This is a problem, because it means widgets have components that need to be **installed both in the webserver and the kernel**.  The kernel components are easy to install, because you can rely on the language’s built in tools.  The static assets for the webserver complicate things, because an extra step is required to let the webserver know where the assets are."
   ]
  },
  {
   "cell_type": "markdown",
   "metadata": {
    "slideshow": {
     "slide_type": "slide"
    }
   },
   "source": [
    "## Static assets"
   ]
  },
  {
   "cell_type": "markdown",
   "metadata": {},
   "source": [
    "Static assets can be made available to the Jupyter notebook webserver a few ways:\n",
    "1.       Custom.js: \n",
    "By placing your static assets inside the custom directory, alongside custom.js, you can load them within custom.js.  The problem with deployment utilizing this method is that the users will have to manually edit their custom.js file.\n",
    "2.       Server extension: \n",
    "You can write a server extension which adds a new handler to the server that hosts your static content.  However, the server extension needs to be registered using a config file, which means the user needs to edit it by hand.   Also, code needs to be written in custom.js to load the static content.\n",
    "3.       Nbextension: \n",
    "By placing your static assets inside the nbextensions directory, they are made available by the `nbextensions/` handler.  Nbextensions also have a mechanism for running your code on page load.  This can be set using the install-nbextension command.\n",
    " \n",
    "Nbextensions are the best solution, for now, because they can be used without manual user intervention."
   ]
  },
  {
   "cell_type": "markdown",
   "metadata": {
    "slideshow": {
     "slide_type": "slide"
    }
   },
   "source": [
    "## Distribution"
   ]
  },
  {
   "cell_type": "markdown",
   "metadata": {},
   "source": [
    "Integrating the static assets with the kernel code is tricky.  Ideally, the user would be able to execute a single command to install the package, kernel and static assets included.  Unfortunately, until project Jupyter solves the packaging problem, this isn’t really possible.  The closest thing is `jupyter-pip`, which is designed to execute the install-nbextension command alongside a pip install.  Unfortunately, this method does not work with wheels.\n",
    "\n",
    "Instead, the best solution for now is to implement a two-step install.  By including an install.py module which calls out to install-nbextension, you can instruct the user to pip install your package and then use python to execute the install script.\n",
    "\n",
    "An example of what this install.py may look like:\n",
    "```python\n",
    "#!/usr/bin/env python\n",
    " \n",
    "# Thanks @takluyver for your cite2c install.py.\n",
    "# Copyright (c) Jupyter Development Team.\n",
    "# Distributed under the terms of the Modified BSD License.\n",
    " \n",
    "from __future__ import print_function\n",
    " \n",
    "import argparse\n",
    "from os.path import dirname, abspath, join as pjoin\n",
    " \n",
    "from notebook.nbextensions import install_nbextension\n",
    "from notebook.services.config import ConfigManager\n",
    " \n",
    "def install(user=False, symlink=False, enable=False):\n",
    "\t\"\"\"Install the widget nbextension and optionally enable it.\n",
    "\t\n",
    "    Parameters\n",
    "\t----------\n",
    "\tuser: bool\n",
    "    \tInstall for current user instead of system-wide.\n",
    "\tsymlink: bool\n",
    "    \tSymlink instead of copy (for development).\n",
    "\t\"\"\"\n",
    "\tstaticdir = pjoin(dirname(abspath(__file__)), 'static')\n",
    "\tinstall_nbextension(staticdir, destination='widgets', user=user, symlink=symlink)\n",
    "\t\n",
    "    cm = ConfigManager()\n",
    "    cm.update('notebook', {\n",
    "        \"load_extensions\": {\n",
    "            \"widgets/notebook/js/extension\": True,\n",
    "        }\n",
    "    })\n",
    "\n",
    " \n",
    "if __name__ == '__main__':\n",
    " \n",
    "\tparser = argparse.ArgumentParser(description=\"Installs the Jupyter widgets\")\n",
    "\tparser.add_argument(\"-u\", \"--user\", help=\"Install as current user instead of system-wide\", action=\"store_true\")\n",
    "\tparser.add_argument(\"-s\", \"--symlink\", help=\"Symlink instead of copying files\", action=\"store_true\")\n",
    "\targs = parser.parse_args()\n",
    "\t\n",
    "    install(user=args.user, symlink=args.symlink)\n",
    "```\n",
    "\n",
    "The code in the ‘__main__’ section is argparser code.  The significant code is within the install function. \n",
    "\n",
    "The first line gets the full path to the relative “static” directory, which is home to the static assets of the particular project that this example came from.\n",
    "\n",
    "`install_nbextension` calls the method that actually installs the static contents into the webserver.\n",
    "\n",
    "The `ConfigManager` code is what “activates” the extension, causing the specified static assets to be automatically loaded on page load.\n"
   ]
  },
  {
   "cell_type": "markdown",
   "metadata": {
    "slideshow": {
     "slide_type": "slide"
    }
   },
   "source": [
    "## Conclusion"
   ]
  },
  {
   "cell_type": "markdown",
   "metadata": {},
   "source": [
    "If your package was mywidgets, installation would then be a matter of executing the following two commands:\n",
    "\n",
    "```\n",
    "pip install mywidgets\n",
    "python -m mywidgets.install\n",
    "```"
   ]
  }
 ],
 "metadata": {
  "kernelspec": {
   "display_name": "Python 3",
   "language": "python",
   "name": "python3"
  },
  "language_info": {
   "codemirror_mode": {
    "name": "ipython",
    "version": 3
   },
   "file_extension": ".py",
   "mimetype": "text/x-python",
   "name": "python",
   "nbconvert_exporter": "python",
   "pygments_lexer": "ipython3",
   "version": "3.4.3+"
  },
  "widgets": {
   "state": {
    "03225a794cb147f58d8b1b8083b78879": {
     "views": []
    },
    "08bb9ac37b7043ad8ec51d1ec8c4cc47": {
     "views": [
      {
       "cell": {
        "cell_type": "code",
        "execution_count": 1,
        "metadata": {
         "collapsed": false,
         "trusted": true
        },
        "outputs": [
         {
          "data": {
           "image/png": "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",
           "text/html": "<img src=data:image/png;base64,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 class=\"jupyter-widget\">\n<script type=\"application/vnd.jupyter-embedded-widgets\">[{},{\"layout\":\"IPY_MODEL_03225a794cb147f58d8b1b8083b78879\"}]</script>"
          },
          "metadata": {
           "isWidgetSnapshot": true
          },
          "output_type": "display_data"
         }
        ],
        "source": "from ipywidgets import *\nfrom IPython.display import display\nw = IntSlider()\ndisplay(w, w)"
       },
       "cell_index": 14,
       "root": true
      },
      {
       "cell": {
        "cell_type": "code",
        "execution_count": 1,
        "metadata": {
         "collapsed": false,
         "trusted": true
        },
        "outputs": [
         {
          "data": {
           "image/png": "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",
           "text/html": "<img src=data:image/png;base64,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 class=\"jupyter-widget\">\n<script type=\"application/vnd.jupyter-embedded-widgets\">[{},{\"layout\":\"IPY_MODEL_03225a794cb147f58d8b1b8083b78879\"}]</script>"
          },
          "metadata": {
           "isWidgetSnapshot": true
          },
          "output_type": "display_data"
         }
        ],
        "source": "from ipywidgets import *\nfrom IPython.display import display\nw = IntSlider()\ndisplay(w, w)"
       },
       "cell_index": 14,
       "root": true
      },
      {
       "cell": {
        "cell_type": "code",
        "execution_count": 2,
        "metadata": {
         "collapsed": true,
         "trusted": true
        },
        "outputs": [
         {
          "data": {
           "image/png": "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",
           "text/html": "<img src=data:image/png;base64,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 class=\"jupyter-widget\">\n<script type=\"application/vnd.jupyter-embedded-widgets\">[{},{\"layout\":\"IPY_MODEL_03225a794cb147f58d8b1b8083b78879\"}]</script>"
          },
          "metadata": {
           "isWidgetSnapshot": true
          },
          "output_type": "display_data"
         }
        ],
        "source": "display(w)"
       },
       "cell_index": 15,
       "root": true
      }
     ]
    }
   },
   "version": "0.0.1"
  }
 },
 "nbformat": 4,
 "nbformat_minor": 1
}
