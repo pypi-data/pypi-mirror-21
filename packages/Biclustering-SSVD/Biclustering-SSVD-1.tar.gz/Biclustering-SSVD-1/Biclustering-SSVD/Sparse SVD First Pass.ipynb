{
 "cells": [
  {
   "cell_type": "markdown",
   "metadata": {
    "deletable": true,
    "editable": true
   },
   "source": [
    "# Implementation of the biclustering sparse SVD algorithm according to (Lee et al., 2010)\n",
    "\n",
    "## Please see `Sparse SVD Optimized.ipynb` for final version"
   ]
  },
  {
   "cell_type": "code",
   "execution_count": 1,
   "metadata": {
    "collapsed": false,
    "deletable": true,
    "editable": true
   },
   "outputs": [],
   "source": [
    "#Import necessary packages\n",
    "import pandas as pd\n",
    "import numpy as np\n",
    "%load_ext line_profiler"
   ]
  },
  {
   "cell_type": "code",
   "execution_count": 2,
   "metadata": {
    "collapsed": false,
    "deletable": true,
    "editable": true
   },
   "outputs": [],
   "source": [
    "#Load in data\n",
    "X = np.loadtxt('data.txt')"
   ]
  },
  {
   "cell_type": "code",
   "execution_count": 1,
   "metadata": {
    "collapsed": false,
    "deletable": true,
    "editable": true
   },
   "outputs": [],
   "source": [
    "def thresh(X,threshtype, paralambda):\n",
    "    \n",
    "    a = 3.7    \n",
    "    if threshtype==1:\n",
    "        tmp= np.multiply(np.sign(X),(abs(X)>=paralambda.astype('int')))\n",
    "        y = np.multiply(tmp, abs(X)-paralambda)\n",
    "    elif threshtype==2:\n",
    "        y = np.multiply(X,(abs(X)>paralambda.astype('int')))\n",
    "    return y"
   ]
  },
  {
   "cell_type": "code",
   "execution_count": 4,
   "metadata": {
    "collapsed": false,
    "deletable": true,
    "editable": true
   },
   "outputs": [],
   "source": [
    "def ssvd_works(X,param=None):\n",
    "    n, d = X.shape\n",
    "    threu = 1\n",
    "    threv = 1\n",
    "    gamu = 0\n",
    "    gamv = 0\n",
    "    t1, t2, t3 = np.linalg.svd(X)\n",
    "    u0 = t1[:,0]\n",
    "    v0 = t3[:,1]\n",
    "    merr = 10**-4\n",
    "    niter = 100\n",
    "    ud = 1\n",
    "    vd = 1\n",
    "    iters = 0\n",
    "    SST = sum(sum(X**2))\n",
    "    while (ud > merr or vd > merr):\n",
    "        iters = iters + 1\n",
    "        z = np.matmul(X.T,u0)\n",
    "        winv = abs(z)**gamv\n",
    "        sigsq = (SST - np.sum(z**2))/(n*d-d)\n",
    "\n",
    "        #Updating v\n",
    "        tmp = abs(z**winv)\n",
    "        tv = np.sort(np.append(tmp,0))\n",
    "        rv = sum(tv>0)\n",
    "        Bv = np.ones((d+1,1))*np.Inf\n",
    "        for i in range(0,rv):\n",
    "            lvc = tv[d-i]\n",
    "            para = {'threshtype': threv, 'lambda': lvc/winv[winv!=0]}\n",
    "            temp2 = thresh(z[winv!=0],para['threshtype'],para['lambda'])\n",
    "            vc = temp2\n",
    "            Bv[i] = sum(sum((X - np.multiply(u0[:,np.newaxis],vc[:,np.newaxis].T))**2)/sigsq + i*np.log(n*d))\n",
    "        Iv = np.argmin(Bv) + 1\n",
    "        temp = np.sort(np.append(abs(np.multiply(z, winv)),0))\n",
    "        lv = temp[d-Iv-1]\n",
    "        para['lambda'] = np.multiply(lv, winv[winv!=0])\n",
    "        temp2 = thresh(z[winv!=0],para['threshtype'],para['lambda'])\n",
    "        v1 = temp2\n",
    "        v1 = v1/np.sqrt(sum(v1**2)) #v_new\n",
    "\n",
    "        #Updating u\n",
    "        z = np.matmul(X, v1)\n",
    "        winu = abs(z)**gamu\n",
    "        sigsq = (SST - sum(z**2))/(n*d-n)\n",
    "        tu = np.sort(np.append(abs(np.multiply(z, winu)),0))\n",
    "        ru = sum((tu>0).astype('int'))\n",
    "        Bu = np.ones((n+1,1))*np.Inf\n",
    "        for i in range(0,ru):\n",
    "            luc = tu[n-i]\n",
    "            para = {'threshtype': threu, 'lambda': luc/winu[winu!=0]}\n",
    "            temp2 = thresh(z[winu!=0],para['threshtype'],para['lambda'])\n",
    "            uc = temp2\n",
    "            Bu[i] = sum(sum((X - temp2[:,np.newaxis]*v1.T)**2)/sigsq + i*np.log(n*d))\n",
    "        Iu = np.argmin(Bu)+1\n",
    "        temp = np.sort(np.append(abs(np.multiply(z, winu)),0))\n",
    "        lu = temp[n-Iv-1]\n",
    "        para['lambda'] = lu/winu[winu!=0]\n",
    "        temp2 = thresh(z[winu!=0],para['threshtype'],para['lambda'])\n",
    "        u1 = temp2\n",
    "        u1 = u1/np.sqrt(sum(u1**2)) #u_new\n",
    "\n",
    "\n",
    "        ud = np.sqrt(np.sum((u0-u1)**2))\n",
    "        vd = np.sqrt(np.sum((v0-v1)**2))\n",
    "        if iters > niter:\n",
    "            print('Fail to converge! Increase the niter!')\n",
    "            break\n",
    "        u0 = u1\n",
    "        v0 = v1\n",
    "    u = u1\n",
    "    v = v1\n",
    "    return u,v,iters"
   ]
  },
  {
   "cell_type": "code",
   "execution_count": null,
   "metadata": {
    "collapsed": false,
    "deletable": true,
    "editable": true
   },
   "outputs": [],
   "source": [
    "[u,v,iters] = ssvd(X)"
   ]
  },
  {
   "cell_type": "code",
   "execution_count": 6,
   "metadata": {
    "collapsed": false,
    "deletable": true,
    "editable": true
   },
   "outputs": [
    {
     "name": "stdout",
     "output_type": "stream",
     "text": [
      "1 loop, best of 1: 17min 32s per loop\n"
     ]
    }
   ],
   "source": [
    "%timeit -r1 -n1 [u,v,iters] = ssvd_works(X)"
   ]
  },
  {
   "cell_type": "markdown",
   "metadata": {
    "deletable": true,
    "editable": true
   },
   "source": [
    "# What functions are taking the longest? \n",
    "## Line profiler shows that the sections of the code that are updating u and v are taking the longest. Please see final ipython notebook, Sparse SSVD Optimized.ipynb, for the optimized version of this algorithm, including numpy vectorization and use of jit. "
   ]
  },
  {
   "cell_type": "code",
   "execution_count": null,
   "metadata": {
    "collapsed": false,
    "deletable": true,
    "editable": true
   },
   "outputs": [],
   "source": [
    "%lprun -s -f ssvd -T ssvd_results.txt ssvd(X)\n",
    "%cat ssvd_results.txt"
   ]
  }
 ],
 "metadata": {
  "anaconda-cloud": {},
  "kernelspec": {
   "display_name": "Python [default]",
   "language": "python",
   "name": "python3"
  },
  "language_info": {
   "codemirror_mode": {
    "name": "ipython",
    "version": 3
   },
   "file_extension": ".py",
   "mimetype": "text/x-python",
   "name": "python",
   "nbconvert_exporter": "python",
   "pygments_lexer": "ipython3",
   "version": "3.5.3"
  }
 },
 "nbformat": 4,
 "nbformat_minor": 2
}
