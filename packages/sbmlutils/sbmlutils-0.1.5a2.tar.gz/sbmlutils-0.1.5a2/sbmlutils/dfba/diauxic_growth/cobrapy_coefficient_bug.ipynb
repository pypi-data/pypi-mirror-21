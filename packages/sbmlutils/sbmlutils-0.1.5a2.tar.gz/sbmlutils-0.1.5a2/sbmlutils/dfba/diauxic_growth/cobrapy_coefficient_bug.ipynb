{
 "cells": [
  {
   "cell_type": "code",
   "execution_count": 1,
   "metadata": {
    "collapsed": false
   },
   "outputs": [
    {
     "name": "stderr",
     "output_type": "stream",
     "text": [
      "/usr/local/lib/python2.7/dist-packages/optlang/gurobi_interface.py:26: UserWarning: Be careful! The GUROBI interface is still under construction ...\n",
      "  warn(\"Be careful! The GUROBI interface is still under construction ...\")\n"
     ]
    },
    {
     "name": "stdout",
     "output_type": "stream",
     "text": [
      "0.6.0a3\n",
      "* cobrapy coefficients *\n",
      "{}\n",
      "{}\n",
      "{}\n",
      "{<Reaction v4 at 0x7f660dda7250>: 1.0}\n",
      "{}\n",
      "{}\n",
      "{}\n",
      "{}\n",
      "            lb    ub reversibility objective boundary\n",
      "v1           0  1000         False         0    False\n",
      "v2           0  1000         False         0    False\n",
      "v3           0  1000         False         0    False\n",
      "v4           0  1000         False         1    False\n",
      "EX_O2        0  1000         False         0     True\n",
      "EX_Glcxt     0  1000         False         0     True\n",
      "EX_Ac    -1000  1000          True         0     True\n",
      "EX_X         0  1000         False         0     True\n",
      "* real coefficients *\n",
      "<Objective biomass_max>\n",
      "v1  =  1.0\n",
      "v2  =  1.0\n",
      "v3  =  1.0\n",
      "v4  =  1.0\n",
      "\n",
      "{}\n",
      "0\n",
      "{}\n",
      "0\n",
      "{}\n",
      "0\n",
      "{<Reaction v4 at 0x7f660dda7250>: 1.0}\n",
      "1.0\n"
     ]
    }
   ],
   "source": [
    "from __future__ import print_function\n",
    "import pandas as pd\n",
    "\n",
    "import cobra\n",
    "print(cobra.__version__)\n",
    "\n",
    "\n",
    "def cobra_reaction_info(cobra_model):\n",
    "    \"\"\" Creates data frame with bound and objective information.\n",
    "\n",
    "    :param cobra_model:\n",
    "    :return: pandas DataFrame\n",
    "    \"\"\"\n",
    "    rids = [r.id for r in cobra_model.reactions]\n",
    "    df = pd.DataFrame(data=None, index=rids,\n",
    "                      columns=['lb', 'ub', 'reversibility', 'objective', 'boundary'])\n",
    "    # FIXME: better filling of DataFrame\n",
    "    for rid in rids:\n",
    "        r = cobra_model.reactions.get_by_id(rid)\n",
    "        df.loc[rid] = [r.lower_bound, r.upper_bound, r.reversibility, r.objective_coefficient, r.boundary]\n",
    "    return df\n",
    "\n",
    "\n",
    "sbml_path = \"diauxic_fba.xml\"\n",
    "model = cobra.io.read_sbml_model(\"diauxic_fba.xml\")\n",
    "\n",
    "print('* cobrapy coefficients *')\n",
    "df = cobra_reaction_info(model)\n",
    "print(df)\n",
    "\n",
    "print('* real coefficients *')\n",
    "import libsbml\n",
    "doc = libsbml.readSBMLFromFile(sbml_path)\n",
    "\n",
    "# one model, one objective\n",
    "m = doc.getModel()\n",
    "fbc_m = m.getPlugin(\"fbc\")\n",
    "obj = fbc_m.getObjective(0)\n",
    "print(obj)\n",
    "for fobj in obj.getListOfFluxObjectives():\n",
    "    print(fobj.getReaction(), ' = ', fobj.getCoefficient())\n",
    "\n",
    "print()\n",
    "print(model.reactions.v1.objective_coefficient)\n",
    "print(model.reactions.v2.objective_coefficient)\n",
    "print(model.reactions.v3.objective_coefficient)\n",
    "print(model.reactions.v4.objective_coefficient)"
   ]
  },
  {
   "cell_type": "code",
   "execution_count": null,
   "metadata": {
    "collapsed": true
   },
   "outputs": [],
   "source": []
  }
 ],
 "metadata": {
  "kernelspec": {
   "display_name": "Python 2",
   "language": "python",
   "name": "python2"
  },
  "language_info": {
   "codemirror_mode": {
    "name": "ipython",
    "version": 2
   },
   "file_extension": ".py",
   "mimetype": "text/x-python",
   "name": "python",
   "nbconvert_exporter": "python",
   "pygments_lexer": "ipython2",
   "version": "2.7.12"
  }
 },
 "nbformat": 4,
 "nbformat_minor": 2
}
